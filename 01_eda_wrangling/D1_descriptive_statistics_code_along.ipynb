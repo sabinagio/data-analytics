{
 "cells": [
  {
   "cell_type": "markdown",
   "metadata": {
    "id": "qI6mVqOEqZre"
   },
   "source": [
    "I was today years old when I learnt that the UK has a loneliness minister:\n",
    "\n",
    "<div style=\"width:480px\"><iframe allow=\"fullscreen\" frameBorder=\"0\" height=\"361\" src=\"https://giphy.com/embed/TKHYxGvybuPNGMLcdf/video\" width=\"480\"></iframe></div>\n",
    "\n",
    "Stay curious 🔍"
   ]
  },
  {
   "cell_type": "markdown",
   "metadata": {
    "id": "GLBbhbT0qZrq"
   },
   "source": [
    "# <a id='toc1_'></a>[Key items for this class: <span style=\"color:red\">numerical</span>, <span style=\"color:orange\">categorical</span>, <span style=\"color:yellow\">continuous</span>, <span style=\"color:green\">discrete</span>, <span style=\"color:blue\">percentile</span>, <span style=\"color:purple\">outlier</span> + more terminology](#toc0_)"
   ]
  },
  {
   "cell_type": "markdown",
   "metadata": {
    "id": "R7TT6K74qZrs"
   },
   "source": [
    "**Table of contents**<a id='toc0_'></a>    \n",
    "- [Key items for this class: <span style=\"color:red\">numerical</span>, <span style=\"color:orange\">categorical</span>, <span style=\"color:yellow\">continuous</span>, <span style=\"color:green\">discrete</span>, <span style=\"color:blue\">percentile</span>, <span style=\"color:purple\">outlier</span> + more terminology](#toc1_)    \n",
    "- [What is statistics?](#toc2_)    \n",
    "- [Why statistics?](#toc3_)    \n",
    "- [Descriptive vs Inferential Statistics](#toc4_)    \n",
    "- [What is data?](#toc5_)    \n",
    "- [Types of data](#toc6_)    \n",
    "- [Summary statistics](#toc7_)    \n",
    "  - [Measures of central tendency](#toc7_1_)    \n",
    "    - [Mean](#toc7_1_1_)    \n",
    "    - [Median](#toc7_1_2_)    \n",
    "    - [Mode](#toc7_1_3_)    \n",
    "  - [Measures of dispersion](#toc7_2_)    \n",
    "    - [Range](#toc7_2_1_)    \n",
    "    - [Variance](#toc7_2_2_)    \n",
    "    - [Standard deviation](#toc7_2_3_)    \n",
    "    - [Quartiles](#toc7_2_4_)    \n",
    "    - [Percentile](#toc7_2_5_)    \n",
    "      - [Example: Which 🍕 place should I choose when I'm REALLY hungry?](#toc7_2_5_1_)    \n",
    "    - [Coefficient of variation](#toc7_2_6_)    \n",
    "    - [💡 Check for understanding](#toc7_2_7_)    \n",
    "- [Outliers](#toc8_)    \n",
    "  - [Measures of shape](#toc8_1_)    \n",
    "    - [Skewdness](#toc8_1_1_)    \n",
    "    - [Kurtosis](#toc8_1_2_)    \n",
    "- [Resources](#toc9_)    \n",
    "- [Extra: Estimating the minimum proportion of observations for any distribution (Chebyshev's Theorem)](#toc10_)    \n",
    "- [Extra: Sources of error in data analysis](#toc11_)    \n",
    "\n",
    "<!-- vscode-jupyter-toc-config\n",
    "\tnumbering=false\n",
    "\tanchor=true\n",
    "\tflat=false\n",
    "\tminLevel=1\n",
    "\tmaxLevel=6\n",
    "\t/vscode-jupyter-toc-config -->\n",
    "<!-- THIS CELL WILL BE REPLACED ON TOC UPDATE. DO NOT WRITE YOUR TEXT IN THIS CELL -->"
   ]
  },
  {
   "cell_type": "markdown",
   "metadata": {
    "id": "4lb-CdGDqZrv"
   },
   "source": [
    "# <a id='toc2_'></a>[What is statistics?](#toc0_)\n",
    "\n",
    "> **The field of statistics is the science of learning from data**. Statistical knowledge helps you use the proper methods to collect the data, employ the correct analyses, and effectively present the results. Statistics is a crucial process behind how we make discoveries in science, make decisions based on data, and make predictions. Statistics allows you to understand a subject much more deeply."
   ]
  },
  {
   "cell_type": "markdown",
   "metadata": {
    "id": "rQt1GNA0qZrw"
   },
   "source": [
    "![image.png](https://imgs.search.brave.com/4UsygL-suDTzNKxxfxwrpIJ-HFVKZQdHETwC8AQdruM/rs:fit:860:0:0/g:ce/aHR0cHM6Ly9sb3Zl/c3RhdHMuZmlsZXMu/d29yZHByZXNzLmNv/bS8yMDEyLzA3L3do/YXQtaWYtaS10b2xk/LXlvdS1kYXRhLWFy/ZW50LWluc2lnaHRz/LmpwZw)"
   ]
  },
  {
   "cell_type": "markdown",
   "metadata": {
    "id": "vs3SXYtdqZrx"
   },
   "source": [
    "# <a id='toc3_'></a>[Why statistics?](#toc0_)"
   ]
  },
  {
   "cell_type": "markdown",
   "metadata": {
    "id": "sSDAHnh2qZrz"
   },
   "source": [
    " > Statistics facilitates the creation of new knowledge.\n",
    "\n",
    " Also, knowing statistics well allows you to avoid drawing wrong conclusions. One great example of this is the Dunning-Kruger effect, which is not a real phenomenom but [an example of incorrectly interpreting charts](https://economicsfromthetopdown.com/2022/04/08/the-dunning-kruger-effect-is-autocorrelation/#fn2):\n",
    "\n",
    " ![image.png](https://i0.wp.com/economicsfromthetopdown.com/wp-content/uploads/2022/04/dk_label_1.png?w=723&ssl=1)\n",
    "\n",
    "> Statistics allow you to evaluate claims based on quantitative evidence and help you differentiate between reasonable and dubious conclusions. That aspect is particularly vital these days because data are so plentiful along with interpretations presented by people with unknown motivations.\n"
   ]
  },
  {
   "cell_type": "markdown",
   "metadata": {
    "id": "mYGA8Bf_qZr0"
   },
   "source": [
    "<a href=\"https://imgflip.com/i/7y0to9\"><img src=\"https://i.imgflip.com/7y0to9.jpg\" title=\"made at imgflip.com\"/></a><div><a href=\"https://imgflip.com/memegenerator\">from Imgflip Meme Generator</a></div>"
   ]
  },
  {
   "cell_type": "markdown",
   "metadata": {
    "id": "fa6UhiRyqZr1"
   },
   "source": [
    "# <a id='toc4_'></a>[Descriptive vs Inferential Statistics](#toc0_)"
   ]
  },
  {
   "cell_type": "markdown",
   "metadata": {
    "id": "hQsmW2QNqZr2"
   },
   "source": [
    "![image.png](https://github.com/sabinagio/data-analytics/blob/main/images/descriptive_vs_inferential.png?raw=True)"
   ]
  },
  {
   "cell_type": "markdown",
   "metadata": {
    "id": "Njgb0Mx5qZr3"
   },
   "source": [
    "|                            | Descriptive Statistics                                      | Inferential Statistics  \n",
    "| -------------------------- | --------------------------------------------------------------- | -------------------------\n",
    "| Purpose                    | Describe and summarize data                                                    | Make inferences and draw conclusions about a population based on sample data |\n",
    "| Data Analysis              | Analyzes and interprets the characteristics of a dataset        | Uses sample data to make generalizations or predictions about a larger population |\n",
    "| Population vs Sample       | Focuses on the entire population or dataset                     | Focuses on a subset of the population (sample) to draw conclusions about the entire population |\n",
    "| Measurements               | Provides measures of central tendency and dispersion            | Estimates parameters, tests hypotheses, and determines the level of confidence or significance in the results |\n",
    "| Examples                   | Mean, median, mode, standard deviation, range, frequency tables | Hypothesis testing, confidence intervals, regression analysis, ANOVA (analysis of variance), chi-square tests, t-tests, etc. |\n",
    "| Goal                       | Summarize, organize, and present data                           | Generalize findings to a larger population, make predictions, test hypotheses, evaluate relationships, and support decision-making |\n",
    "| Population Parameters      | Not typically estimated                                         | Estimated using sample statistics (e.g., sample mean as an estimate of population mean) |\n",
    "| Sample Representativeness  | Not required                                                    | Crucial; the sample should be representative of the population to ensure accurate inferences |"
   ]
  },
  {
   "cell_type": "markdown",
   "metadata": {
    "id": "bJhMwq8hqZr4"
   },
   "source": [
    "Today we will focus on **descriptive statistics**."
   ]
  },
  {
   "cell_type": "markdown",
   "metadata": {
    "id": "vVqUiKZjqZr4"
   },
   "source": [
    "# <a id='toc5_'></a>[What is data?](#toc0_)"
   ]
  },
  {
   "cell_type": "markdown",
   "metadata": {
    "id": "ZMqAVYL6qZr4"
   },
   "source": [
    "> Data are evidence you can use to answer questions. For example:   \n",
    "\n",
    "**Descriptive statistics questions**\n",
    "- How much did sales improve for a supermarket in the past 2 years?\n",
    "- What score do the highest performing students get in the SAT exams?\n",
    "- What do people Google search the most around Christmas?\n",
    "\n",
    "**Inferential statistics questions**\n",
    "> •Do flu shots prevent the flu?   \n",
    "> •Does exercise improve your health?   \n",
    ">•Does a gasoline additive improve gas mileage?  \n"
   ]
  },
  {
   "cell_type": "markdown",
   "metadata": {
    "id": "CGDwELWFqZr5"
   },
   "source": [
    "# <a id='toc6_'></a>[Types of data](#toc0_)"
   ]
  },
  {
   "cell_type": "markdown",
   "metadata": {
    "id": "7Zm9m_KIqZr5"
   },
   "source": [
    "![image.png](https://github.com/sabinagio/data-analytics/blob/main/images/data_types.png?raw=True)"
   ]
  },
  {
   "cell_type": "markdown",
   "metadata": {
    "id": "ExyJTDGoqZr6"
   },
   "source": [
    "<span style=\"color:orange\">Is time a numerical discrete or continuous variable?</span>"
   ]
  },
  {
   "cell_type": "markdown",
   "metadata": {
    "id": "d_XbtJUUqZr6"
   },
   "source": [
    "# <a id='toc7_'></a>[Summary statistics](#toc0_)"
   ]
  },
  {
   "cell_type": "markdown",
   "metadata": {
    "id": "sz3in4cUqZr6"
   },
   "source": [
    "> A summary statistic is a number derived from a dataset that summarizes a property of the entire dataset. There are four categories of summary statistics:   \n",
    "  \n",
    "> - Measures of central tendency or location, such as the mean.   \n",
    "> - Measures of spread or dispersion, such as the standard deviation.  \n",
    "> - Measures of the shape of a distribution, such as skewness or thickness of the tails.    \n",
    "> - Measures of correlation or dependency, such as Pearson’s correlation coefficient.    "
   ]
  },
  {
   "cell_type": "markdown",
   "metadata": {
    "id": "hygbqVocqZr7"
   },
   "source": [
    "## <a id='toc7_1_'></a>[Measures of central tendency](#toc0_)"
   ]
  },
  {
   "cell_type": "markdown",
   "metadata": {
    "id": "67XQnhMqqZr7"
   },
   "source": [
    "> + **Arithmetic mean (average)** of a variable is found by adding all numbers in the variable and then dividing by the number of values.\n",
    "> + **Median** is the middle value when a variable is ordered from least to greatest.(If even number is the arithmetic mean between the two in the middle). It is also the Q2 or the 50% of accumulated values.\n",
    "> + **Mode** is the value/category that occurs most often in a variable.The most frequent."
   ]
  },
  {
   "cell_type": "code",
   "execution_count": null,
   "metadata": {
    "id": "87CYPwScqZr8"
   },
   "outputs": [],
   "source": [
    "import pandas as pd\n",
    "import numpy as np\n",
    "from scipy import stats\n",
    "\n",
    "# Show all columns in pandas\n",
    "pd.set_option('display.max_columns', None)\n",
    "\n",
    "# Remove warnings (not necessary)\n",
    "import warnings\n",
    "warnings.filterwarnings('ignore')\n",
    "\n",
    "# Data visualization\n",
    "import matplotlib.pyplot as plt\n",
    "import seaborn as sns\n",
    "import plotly.express as px\n",
    "import plotly.graph_objects as go\n",
    "%matplotlib inline"
   ]
  },
  {
   "cell_type": "code",
   "execution_count": null,
   "metadata": {
    "id": "LupXRG-2qZr-"
   },
   "outputs": [],
   "source": [
    "heights = [192, 184, 184, 184, 182, 179, 175, 174, 174, 172, 172, 170, 165, 162, 160, 158, 157, 154, 153]\n",
    "shoe_sizes = [46, 46, 44.5, 44.5, 44, 42, 42, 42, 39.5, 39, 39, 39, 38, 38, 38, 37, 36.5, 36, 34.5]"
   ]
  },
  {
   "cell_type": "markdown",
   "metadata": {
    "id": "cif0P8caqZr_"
   },
   "source": [
    "Before we get into the mean... behold, the [normal distribution](https://www.youtube.com/watch?v=rzFX5NWojp0)!\n",
    "\n",
    "![image.png](https://imgs.search.brave.com/XnddaKu7B3Lms2aZmGvV6VT41ngvE6ewsi1ikUOEdx4/rs:fit:860:0:0/g:ce/aHR0cDovL3d3dy5t/YXRoLml1cC5lZHUv/fmNsYW1iL2ltZy9t/YXRoMjE3L25vcm1h/bC1oZWlnaHRzLTEu/c3Zn.svg)\n",
    "\n",
    "You definitely saw this bell curve before. On the x-axis we have the values our data can take and on the y-axis we have the number (or in this case, percentage) of records (data points) corresponding to a value on the x-axis. We will learn more about this plot in the EDA class but for now, I want you to remember that this plot is looking at numerical continuous data ONLY, i.e. **only numerical continuous values can have a normal distribution**."
   ]
  },
  {
   "cell_type": "markdown",
   "metadata": {
    "id": "NNYih9BWqZsA"
   },
   "source": [
    "<span style=\"color:orange\">If we look at this plot, where would we find the mean / median?</span>"
   ]
  },
  {
   "cell_type": "markdown",
   "metadata": {
    "id": "e7Izs6XkqZsA"
   },
   "source": [
    "### <a id='toc7_1_1_'></a>[Mean](#toc0_)\n",
    "\n",
    "**Numerical data only**\n",
    "\n",
    "> + **Arithmetic mean (average)** of a variable is found by adding all numbers in the variable and then dividing by the number of values."
   ]
  },
  {
   "cell_type": "code",
   "execution_count": null,
   "metadata": {
    "id": "YVM65DTKqZsA"
   },
   "outputs": [],
   "source": [
    "# Get the heights mean the classical way"
   ]
  },
  {
   "cell_type": "code",
   "execution_count": null,
   "metadata": {
    "id": "Y4YhOqLuqZsB"
   },
   "outputs": [],
   "source": [
    "# Now with numpy"
   ]
  },
  {
   "cell_type": "code",
   "execution_count": null,
   "metadata": {
    "id": "C3e-xFsYqZsB"
   },
   "outputs": [],
   "source": [
    "# Shoe sizes mean"
   ]
  },
  {
   "cell_type": "markdown",
   "metadata": {
    "id": "9vgUHlZmqZsC"
   },
   "source": [
    "### <a id='toc7_1_2_'></a>[Median](#toc0_)\n",
    "\n",
    "**Numerical data only**\n",
    "\n",
    "> + **Median** is the middle value when a variable is ordered from least to greatest.(If even number is the arithmetic mean between the two in the middle). It is also the Q2 or the 50% of accumulated values.\n"
   ]
  },
  {
   "cell_type": "code",
   "execution_count": null,
   "metadata": {
    "id": "EZE6l-CKqZsC"
   },
   "outputs": [],
   "source": [
    "# Heights median"
   ]
  },
  {
   "cell_type": "code",
   "execution_count": null,
   "metadata": {
    "id": "9Sr88Ss1qZsD"
   },
   "outputs": [],
   "source": [
    "# Shoe sizes median"
   ]
  },
  {
   "cell_type": "markdown",
   "metadata": {
    "id": "0VNFCTOFqZsD"
   },
   "source": [
    "### <a id='toc7_1_3_'></a>[Mode](#toc0_)\n",
    "\n",
    "**Numerical and categorical data** - but more useful for categorical data.\n",
    "\n",
    "> + **Mode** is the value/category that occurs most often in a variable. The most frequent."
   ]
  },
  {
   "cell_type": "code",
   "execution_count": null,
   "metadata": {
    "id": "YO-sD77JqZsE"
   },
   "outputs": [],
   "source": [
    "fortune = pd.read_csv(\"https://raw.githubusercontent.com/data-bootcamp-v4/data/main/Fortune_1000.csv\")\n",
    "# isi's recommendation\n",
    "fortune.sample(10)"
   ]
  },
  {
   "cell_type": "code",
   "execution_count": null,
   "metadata": {
    "id": "UyJW-NIKqZsE"
   },
   "outputs": [],
   "source": [
    "# Get the mode for one categorical column"
   ]
  },
  {
   "cell_type": "markdown",
   "metadata": {
    "id": "AffdmuhIqZsF"
   },
   "source": [
    "## <a id='toc7_2_'></a>[Measures of dispersion](#toc0_)"
   ]
  },
  {
   "cell_type": "markdown",
   "metadata": {
    "id": "BFC7R803qZsF"
   },
   "source": [
    "All of these measures apply to **numerical data only**!  \n",
    "> + **Range:** defines the difference between the highest and lowest values.\n",
    "> + **Variance**: measures how far each number in the set is from the mean and thus from every other number in the set.\n",
    "> + **Standard deviation:** The standard deviation is a statistic that measures the dispersion of a dataset relative to its mean and is calculated as the square root of the variance\n",
    "> + **Quartiles:** A quartile is a statistical term that describes a division of observations into four defined intervals based on the values of the data and how they compare to the entire set of observations.\n",
    "> + **Percentiles:** same but divided in 100 groups.\n",
    "> + **Coefficient of variation (CV):** the ratio of the standard deviation to the mean (so std/mean). It shows the extent of variability in relation to the mean of the population"
   ]
  },
  {
   "cell_type": "markdown",
   "metadata": {
    "id": "g6Gl8lyIqZsG"
   },
   "source": [
    "### <a id='toc7_2_1_'></a>[Range](#toc0_)\n",
    "\n",
    "> + **Range:** defines the difference between the highest and lowest values.\n"
   ]
  },
  {
   "cell_type": "code",
   "execution_count": null,
   "metadata": {
    "id": "c8ktDGopqZsI"
   },
   "outputs": [],
   "source": [
    "# Min - max difference"
   ]
  },
  {
   "cell_type": "markdown",
   "metadata": {
    "id": "FhoMfRe1qZsJ"
   },
   "source": [
    "### <a id='toc7_2_2_'></a>[Variance](#toc0_)\n",
    "\n",
    "> + **Variance**: measures how far each number in the set is from the mean and thus from every other number in the set.\n"
   ]
  },
  {
   "cell_type": "code",
   "execution_count": null,
   "metadata": {
    "id": "SrZW1NYsqZsJ"
   },
   "outputs": [],
   "source": [
    "# Manual variance - sum of squared differences over the length\n",
    "var = sum([(height - np.mean(heights)) ** 2 for height in heights]) / len(heights)\n",
    "var"
   ]
  },
  {
   "cell_type": "code",
   "execution_count": null,
   "metadata": {
    "id": "bJJOzv0LqZsK"
   },
   "outputs": [],
   "source": [
    "# Numpy variance"
   ]
  },
  {
   "cell_type": "markdown",
   "metadata": {
    "id": "cqtSIF0eqZsK"
   },
   "source": [
    "### <a id='toc7_2_3_'></a>[Standard deviation](#toc0_)"
   ]
  },
  {
   "cell_type": "markdown",
   "metadata": {
    "id": "fjBLFnH3qZsK"
   },
   "source": [
    "> + **Standard deviation:** The standard deviation is a statistic that measures the dispersion of a dataset relative to its mean and is calculated as the square root of the variance"
   ]
  },
  {
   "cell_type": "code",
   "execution_count": null,
   "metadata": {
    "id": "hR0N2UYbqZsL"
   },
   "outputs": [],
   "source": [
    "# Manual STD"
   ]
  },
  {
   "cell_type": "code",
   "execution_count": null,
   "metadata": {
    "id": "i-e_7ZlEqZsL"
   },
   "outputs": [],
   "source": [
    "# Numpy std"
   ]
  },
  {
   "cell_type": "markdown",
   "metadata": {
    "id": "hTuWRj_1qZsM"
   },
   "source": [
    "When looking at a **symmetrical normal distribution**, we can say that 68.2% of our observations are one standard deviation away from the mean."
   ]
  },
  {
   "cell_type": "markdown",
   "metadata": {
    "id": "vHVXknaJqZsM"
   },
   "source": [
    "![image.png](https://imgs.search.brave.com/890nJAyetvjXKqV3Dcfu4-Pj-BUk56L5MSP-zc5wArg/rs:fit:860:0:0/g:ce/aHR0cHM6Ly90NC5m/dGNkbi5uZXQvanBn/LzA1LzY4Lzk1LzU5/LzM2MF9GXzU2ODk1/NTk2MV9Pc0dkYmpo/MXFQa1N5czlsVU1z/bTVQa3VzTTdGR1B2/SC5qcGc)"
   ]
  },
  {
   "cell_type": "markdown",
   "metadata": {
    "id": "tPpuuxHMqZsN"
   },
   "source": [
    "*Notes:*\n",
    "- The sigma (σ) symbol represents the standard deviation in maths' vocabulary.\n",
    "- The mu (μ) symbol represents the mean in maths' vocabulary."
   ]
  },
  {
   "cell_type": "markdown",
   "metadata": {
    "id": "b3AInFNrqZsN"
   },
   "source": [
    "### <a id='toc7_2_4_'></a>[Quartiles](#toc0_)\n",
    "\n",
    "> + **Quartiles:** A quartile (from quarter!) is a statistical term that describes a division of observations into four defined intervals based on the values of the data and how they compare to the entire set of observations.\n"
   ]
  },
  {
   "cell_type": "markdown",
   "metadata": {
    "id": "KkJx95bvqZsN"
   },
   "source": [
    "![quartiles](https://www.onlinemathlearning.com/image-files/median-quartiles.png)"
   ]
  },
  {
   "cell_type": "code",
   "execution_count": null,
   "metadata": {
    "id": "kv4C3gbmqZsO"
   },
   "outputs": [],
   "source": [
    "# 1st quartile"
   ]
  },
  {
   "cell_type": "code",
   "execution_count": null,
   "metadata": {
    "id": "3BeizgELqZsO"
   },
   "outputs": [],
   "source": [
    "# 2nd quartile"
   ]
  },
  {
   "cell_type": "code",
   "execution_count": null,
   "metadata": {
    "id": "W9BhmIXoqZsP"
   },
   "outputs": [],
   "source": [
    "# 3rd quartile"
   ]
  },
  {
   "cell_type": "code",
   "execution_count": null,
   "metadata": {
    "id": "5S4gCl1KqZsP"
   },
   "outputs": [],
   "source": [
    "# 4th quartile - what is it equivalent to?"
   ]
  },
  {
   "cell_type": "markdown",
   "metadata": {
    "id": "mE6kPk_3qZsQ"
   },
   "source": [
    "<span style=\"color:orange\">How do we summarize this in words?</span>"
   ]
  },
  {
   "cell_type": "markdown",
   "metadata": {
    "id": "76YcUKQwqZsQ"
   },
   "source": [
    "To look at quartiles we usually use **box plots** (top graph in the image below), which we'll talk about more in the next lesson."
   ]
  },
  {
   "cell_type": "markdown",
   "metadata": {
    "id": "imAlRLlEqZsR"
   },
   "source": [
    "![image](https://imgs.search.brave.com/YwALrTkM3oqQ9ifCcdNPsUTCyMc4gFUD97oOEPQNpJM/rs:fit:860:0:0/g:ce/aHR0cHM6Ly9jZG4x/LmJ5anVzLmNvbS93/cC1jb250ZW50L3Vw/bG9hZHMvMjAyMC8x/MC9Cb3gtUGxvdC1h/bmQtV2hpc2tlci1Q/bG90LTIucG5n)"
   ]
  },
  {
   "cell_type": "markdown",
   "metadata": {
    "id": "5meS-79NqZsR"
   },
   "source": [
    "*Notes:*\n",
    "- The sigmas (σ) symbol represents the standard deviation in maths' vocabulary.\n",
    "- The \"probability density\" is just fancy for the percentage of observations, i.e. how much of your data sits between a range of values. For example, I can say that 50% of my data lies between 0.67 standard deviations from the mean."
   ]
  },
  {
   "cell_type": "markdown",
   "metadata": {
    "id": "Jpc8-7AEqZsS"
   },
   "source": [
    "### <a id='toc7_2_5_'></a>[Percentile](#toc0_)"
   ]
  },
  {
   "cell_type": "markdown",
   "metadata": {
    "id": "NCDNunJiqZsS"
   },
   "source": [
    "> + **Percentiles:** same but divided in 100 groups."
   ]
  },
  {
   "cell_type": "markdown",
   "metadata": {
    "id": "0LEDSB-zqZsS"
   },
   "source": [
    "<span style=\"color:orange\">What height do people in the top 5% of this class have?</span>"
   ]
  },
  {
   "cell_type": "code",
   "execution_count": null,
   "metadata": {
    "id": "wv7p8zLxqZsT"
   },
   "outputs": [],
   "source": [
    "#"
   ]
  },
  {
   "cell_type": "markdown",
   "metadata": {
    "id": "XbRZ8h4OqZsT"
   },
   "source": [
    "<span style=\"color:orange\">What shoe size do people in the middle 50% have?</span>"
   ]
  },
  {
   "cell_type": "code",
   "execution_count": null,
   "metadata": {
    "id": "hVNUTlVwqZsU"
   },
   "outputs": [],
   "source": [
    "#"
   ]
  },
  {
   "cell_type": "markdown",
   "metadata": {
    "id": "txsy4ZfAqZsU"
   },
   "source": [
    "**Advanced**: The [quantile calculation algorithm](https://www.fon.hum.uva.nl/praat/manual/quantile_algorithm.html)."
   ]
  },
  {
   "cell_type": "markdown",
   "metadata": {
    "id": "EuaYdFo3qZsU"
   },
   "source": [
    "> ### Why Understanding Variability is Important   \n",
    "\n",
    "\n",
    "> Analysts frequently use the mean to summarize the center of a population or a process. While the mean is relevant, people often react to variability even more. When a distribution has lower variability, the values in a dataset are more consistent. However, when the variability is higher, the data points are more dissimilar and extreme values become more likely. Consequently, **understanding variability helps you grasp the likelihood of unusual events**."
   ]
  },
  {
   "cell_type": "markdown",
   "metadata": {
    "id": "8EtYcgRmqZsU"
   },
   "source": [
    "![image (9).png](https://github.com/sabinagio/data-analytics/blob/main/images/distribution_variability.png?raw=True)"
   ]
  },
  {
   "cell_type": "markdown",
   "metadata": {
    "id": "FAXStO7pqZsV"
   },
   "source": [
    "#### <a id='toc7_2_5_1_'></a>[Example: Which 🍕 place should I choose when I'm REALLY hungry?](#toc0_)\n",
    "\n",
    "> Let’s take a look at two hypothetical pizza restaurants. They both advertise a mean delivery time of 20 minutes. When we’re ravenous, they sound equally good! However, this equivalence can be deceptive! To determine the restaurant that you should order from when you’re hungry, we need to analyze their variability.\n",
    "\n",
    "> The graphs below display the distribution of delivery times and provide the answer.\n",
    "\n",
    "![image (10).png](https://github.com/sabinagio/data-analytics/blob/main/images/pizza_high_variability.png?raw=True)![image (11).png](https://github.com/sabinagio/data-analytics/blob/main/images/pizza_low_variability.png?raw=True)"
   ]
  },
  {
   "cell_type": "markdown",
   "metadata": {
    "id": "Xi6UXm33qZsV"
   },
   "source": [
    "> Nearly 16% of the deliveries for the high variability restaurant exceed 30 minutes. On the other hand, only 2% of the deliveries take too long with the low variability restaurant. They both have an average delivery time of 20 minutes, but I know where I’d place my order when I’m hungry!"
   ]
  },
  {
   "cell_type": "markdown",
   "metadata": {
    "id": "a9A-fLD-qZsV"
   },
   "source": [
    "### <a id='toc7_2_6_'></a>[Coefficient of variation](#toc0_)"
   ]
  },
  {
   "cell_type": "markdown",
   "metadata": {
    "id": "eyjqQUtCqZsW"
   },
   "source": [
    "> - **Coefficient of variation (CV)** - the ratio of the standard deviation to the mean (so std/mean). It shows the extent of variability in relation to the mean of the population"
   ]
  },
  {
   "cell_type": "markdown",
   "metadata": {
    "id": "Dh1fD8mgqZsW"
   },
   "source": [
    "The reason this is awesome is that it allows us to compare variability across 2 completely different distributions!!"
   ]
  },
  {
   "cell_type": "code",
   "execution_count": null,
   "metadata": {
    "id": "EwaP8OYBqZsW"
   },
   "outputs": [],
   "source": [
    "# CV for height and shoe sizes"
   ]
  },
  {
   "cell_type": "code",
   "execution_count": null,
   "metadata": {
    "id": "nKtl2nusqZsX"
   },
   "outputs": [],
   "source": [
    "# Check the coefficients"
   ]
  },
  {
   "cell_type": "markdown",
   "metadata": {
    "id": "G4RCurHcqZsX"
   },
   "source": [
    "<span style=\"color:orange\">Which one is more dispersed: shoe size or height?</span>"
   ]
  },
  {
   "cell_type": "markdown",
   "metadata": {
    "id": "l32wRAFwqZsY"
   },
   "source": [
    "**Caveat / Problem:** This doesn't work for all numerical continuous variables! It only works for variables that have what is called a <span style=\"color:red\">*true zero*</span>, aka when the number is 0, it means there is nothing. `Height`, `weight`, `shoe size` all have a true zero but `degrees in Celsius` do not (because 0 degrees Celsius is not equivalent to no temperature!)."
   ]
  },
  {
   "cell_type": "markdown",
   "metadata": {
    "id": "vn-WYSntqZsY"
   },
   "source": [
    "### <a id='toc7_2_7_'></a>[💡 Check for understanding](#toc0_)"
   ]
  },
  {
   "cell_type": "markdown",
   "metadata": {
    "id": "go-SovSsqZsY"
   },
   "source": [
    "Let's work with the Fortune 1000 dataset we had before:"
   ]
  },
  {
   "cell_type": "code",
   "execution_count": null,
   "metadata": {
    "id": "9k0gpA3rqZsZ"
   },
   "outputs": [],
   "source": [
    "fortune = pd.read_csv(\"https://raw.githubusercontent.com/data-bootcamp-v4/data/main/Fortune_1000.csv\")"
   ]
  },
  {
   "cell_type": "markdown",
   "metadata": {
    "id": "PeAFB_KBqZsZ"
   },
   "source": [
    "**Questions**\n",
    "- What's the most common sector for companies in the Fortune 1000? What about location?\n",
    "- What's the average revenue made by these companies? What about profit?\n",
    "- What's the median revenue made by these companies? What about profit?\n",
    "- How much do companies in the top 1% percentile make?\n",
    "- What sector is most common for the companies in the top 10% percentile? What about the bottom 10% percentile?\n",
    "- How dispersed is the revenue made by these companies compared to their profit? What about market cap?\n",
    "- What did the previous questions tell you about Fortune 1000 companies? Any surprises?\n",
    "\n",
    "*Note:* Remember you might need to convert the `Market Cap` data type to numerical using `pd.to_numeric()`!"
   ]
  },
  {
   "cell_type": "markdown",
   "metadata": {
    "id": "TAFk2FarqZsZ"
   },
   "source": [
    "# <a id='toc8_'></a>[Outliers](#toc0_)"
   ]
  },
  {
   "cell_type": "markdown",
   "metadata": {
    "id": "s32i2Cp_qZsa"
   },
   "source": [
    "![image.png](https://i0.wp.com/37.media.tumblr.com/tumblr_m0w7ccQomh1rpjhxuo1_400.jpg?zoom=2)"
   ]
  },
  {
   "cell_type": "markdown",
   "metadata": {
    "id": "9rvSsF5YqZsa"
   },
   "source": [
    "> An outlier is an observation that lies an abnormal distance from other values in a random sample from a population. In a sense, this definition leaves it up to the analyst (or a consensus process) to decide what will be considered abnormal."
   ]
  },
  {
   "cell_type": "markdown",
   "metadata": {
    "id": "T-T3vZKTqZsa"
   },
   "source": [
    "![image (9).png](https://github.com/sabinagio/data-analytics/blob/main/images/outlier_boxplot.png?raw=True)"
   ]
  },
  {
   "cell_type": "code",
   "execution_count": null,
   "metadata": {
    "id": "POAVhMbZqZsa"
   },
   "outputs": [],
   "source": [
    "# Let's get the outliers for the profit data\n",
    "\n",
    "# 1. Get the IQR\n",
    "\n",
    "# 2. Create pandas condition\n",
    "\n",
    "# 3. Apply to profit column"
   ]
  },
  {
   "cell_type": "markdown",
   "metadata": {
    "id": "_HPUKYBOqZsb"
   },
   "source": [
    "## <a id='toc8_1_'></a>[Measures of shape](#toc0_)"
   ]
  },
  {
   "cell_type": "markdown",
   "metadata": {
    "id": "EuG2-NX2qZsb"
   },
   "source": [
    "> + **Skewness** is a measurement of the distortion of symmetrical distribution or asymmetry in a data set.\n",
    "> + **Kurtosis** is a measure of the tailedness of a distribution. Tailedness is how often outliers occur."
   ]
  },
  {
   "cell_type": "markdown",
   "metadata": {
    "id": "atJTc6Y4qZsb"
   },
   "source": [
    "### <a id='toc8_1_1_'></a>[Skewdness](#toc0_)"
   ]
  },
  {
   "cell_type": "markdown",
   "metadata": {
    "id": "OZTC7NROqZsb"
   },
   "source": [
    "> + **Skewness** is a measurement of the distortion of symmetrical distribution or asymmetry in a data set."
   ]
  },
  {
   "cell_type": "markdown",
   "metadata": {
    "id": "4ihXasx0qZsc"
   },
   "source": [
    "![image (12).png](https://github.com/sabinagio/data-analytics/blob/main/images/skewness.png?raw=True)"
   ]
  },
  {
   "cell_type": "markdown",
   "metadata": {
    "id": "dmyuZsqXqZsc"
   },
   "source": [
    "**Normal distribution**:  \n",
    "- data points are equally distributed around the mean\n",
    "- `Mode = Median = Mean`\n",
    "\n",
    "**Positively skewed distribution**:  \n",
    "- most of the data points are below the mean (i.e. the mean is more positive)\n",
    "- `Mode < Median < Mean`\n",
    "\n",
    "**Negatively skewed distribution**:\n",
    "- most of the data points are above the mean (i.e. the mean is more negative)\n",
    "- `Mode > Median > Mean`"
   ]
  },
  {
   "cell_type": "code",
   "execution_count": null,
   "metadata": {
    "id": "495G9Xq4qZsc"
   },
   "outputs": [],
   "source": [
    "# Let's have a look at our fortune dataset"
   ]
  },
  {
   "cell_type": "code",
   "execution_count": null,
   "metadata": {
    "id": "DZofH2LpqZsc"
   },
   "outputs": [],
   "source": [
    "# Let's check profits - what is the skew?"
   ]
  },
  {
   "cell_type": "code",
   "execution_count": null,
   "metadata": {
    "id": "jDIXjOHQqZsd"
   },
   "outputs": [],
   "source": [
    "# What about revenue?"
   ]
  },
  {
   "cell_type": "code",
   "execution_count": null,
   "metadata": {
    "id": "PB0ds2PmqZsd"
   },
   "outputs": [],
   "source": [
    "# How will market cap look like?"
   ]
  },
  {
   "cell_type": "markdown",
   "metadata": {
    "id": "fqyEulw8qZsd"
   },
   "source": [
    "Uh-oh! Why do I have an issue with Market Cap?"
   ]
  },
  {
   "cell_type": "code",
   "execution_count": null,
   "metadata": {
    "id": "0rusnhPdqZsd"
   },
   "outputs": [],
   "source": [
    "# Check dtype & number of nulls"
   ]
  },
  {
   "cell_type": "code",
   "execution_count": null,
   "metadata": {
    "id": "hHGK1yfTqZse"
   },
   "outputs": [],
   "source": [
    "# Convert to numerical without errors argument"
   ]
  },
  {
   "cell_type": "code",
   "execution_count": null,
   "metadata": {
    "id": "oUr31RE3qZse"
   },
   "outputs": [],
   "source": [
    "# Convert to numerical with errors argument & check dtype"
   ]
  },
  {
   "cell_type": "code",
   "execution_count": null,
   "metadata": {
    "id": "pMUICXZUqZse"
   },
   "outputs": [],
   "source": [
    "# Check number of nulls"
   ]
  },
  {
   "cell_type": "code",
   "execution_count": null,
   "metadata": {
    "id": "L89KWAhWqZsf"
   },
   "outputs": [],
   "source": [
    "# Plot Market Cap"
   ]
  },
  {
   "cell_type": "markdown",
   "metadata": {
    "id": "99wy9q1nqZsf"
   },
   "source": [
    "We can also get an idea of skewness from box plots:  \n",
    "\n",
    "![image (13).png](https://github.com/sabinagio/data-analytics/blob/main/images/quartiles_distributions_box_plots.png?raw=True)"
   ]
  },
  {
   "cell_type": "markdown",
   "metadata": {
    "id": "0KqWWQ7oqZsf"
   },
   "source": [
    "### <a id='toc8_1_2_'></a>[Kurtosis](#toc0_)"
   ]
  },
  {
   "cell_type": "markdown",
   "metadata": {
    "id": "7dP15orHqZsf"
   },
   "source": [
    "> + Kurtosis is a measure of the tailedness of a distribution. Tailedness is how often outliers occur."
   ]
  },
  {
   "cell_type": "markdown",
   "metadata": {
    "id": "-Qv00ZXiqZsf"
   },
   "source": [
    "![image.png](https://imgs.search.brave.com/3klMtOz-A_6d6Nbe31s558TJL5fnyOtscuMhm6f2YPA/rs:fit:860:0:0/g:ce/aHR0cHM6Ly93d3cu/c2ltcGx5cHN5Y2hv/bG9neS5vcmcvd3At/Y29udGVudC91cGxv/YWRzL0t1cnRvc2lz/LmdpZg.gif)"
   ]
  },
  {
   "cell_type": "markdown",
   "metadata": {
    "id": "HoYLzP5vqZsg"
   },
   "source": [
    "*Notes:*\n",
    "- Meso = middle in Greek. The mesokurtic curve corresponds to the typical symmetrical normal distribution.\n",
    "- Lepto = thin in Greek. Lepto also means minute in Greek, so you can think it looks thin like a minute.\n",
    "- Platy = wide in Greek. It also sounds like platypus, so think of something flat like the platypus tail."
   ]
  },
  {
   "cell_type": "markdown",
   "metadata": {
    "id": "Biu4nP4NqZsg"
   },
   "source": [
    "![values](https://archive.ph/Y4za4/20e270146abbc12d53842787265b02f0a6a2cc08.webp)"
   ]
  },
  {
   "cell_type": "code",
   "execution_count": null,
   "metadata": {
    "id": "KbnkYWtkqZsg"
   },
   "outputs": [],
   "source": [
    "from scipy.stats import kurtosis\n",
    "print(kurtosis(fortune.dropna(subset='profit').profit, fisher=False))"
   ]
  },
  {
   "cell_type": "markdown",
   "metadata": {
    "id": "WIoAte8PqZsg"
   },
   "source": [
    "*Note:*  \n",
    "> Setting `fisher=False` in the above code does the calculation of the Pearson’s definition of kurtosis where the kurtosis value for normal distribution = 3:"
   ]
  },
  {
   "cell_type": "markdown",
   "metadata": {
    "id": "nANC6qj_qZsg"
   },
   "source": [
    "<span style=\"color:orange\">What type of distribution does the profit data have? How might we ensure that the kurtosis is not so high?</span>"
   ]
  },
  {
   "cell_type": "code",
   "execution_count": null,
   "metadata": {
    "id": "cT6-Xhr7qZsh"
   },
   "outputs": [],
   "source": [
    "# Try to get kurtosis without dropping the null values\n",
    "print(kurtosis(fortune.profit, fisher=False))"
   ]
  },
  {
   "cell_type": "markdown",
   "metadata": {
    "id": "ZGNhuJgTqZsh"
   },
   "source": [
    "# <a id='toc9_'></a>[Resources](#toc0_)\n",
    "\n",
    "- [StatQuest - Statistics Fundamentals](https://www.youtube.com/watch?v=vikkiwjQqfU&list=PLblh5JKOoLUK0FLuzwntyYI10UQFUhsY9) - for now, the first 3 videos.\n",
    "- [Statistics by Jim - Intro to Statistics](https://www.amazon.com/dp/1735431109) - pretty good intro where many examples in this lesson were taken from, but you have to bear with the ugly charts 😃\n",
    "- [Statistics by Jim - the blog](https://statisticsbyjim.com/graphs/) - only if you're super keen, lots of interesting topics, many more advanced!\n",
    "- [Our World in Data](https://ourworldindata.org/) - specific case studies centered on social issues such as pandemics, mental health, economic inequalities, etc."
   ]
  },
  {
   "cell_type": "markdown",
   "metadata": {
    "id": "i96Hw916qZsh"
   },
   "source": [
    "# <a id='toc10_'></a>[Extra: Estimating the minimum proportion of observations for any distribution (Chebyshev's Theorem)](#toc0_)"
   ]
  },
  {
   "cell_type": "markdown",
   "metadata": {
    "id": "Wbif_5NPqZsh"
   },
   "source": [
    "> Chebyshev’s Theorem helps you determine where most of your data fall within a distribution of values. This theorem provides helpful results when you have only the mean and standard deviation. You do not need to know the distribution your data follow."
   ]
  },
  {
   "cell_type": "markdown",
   "metadata": {
    "id": "QpmwtMKDqZsh"
   },
   "source": [
    "![image (9) g.png](https://github.com/sabinagio/data-analytics/blob/main/images/chebyshev_distribution.png?raw=true)"
   ]
  },
  {
   "cell_type": "markdown",
   "metadata": {
    "id": "ss1U6l3UqZsi"
   },
   "source": [
    "Minimum proportion of observations that are within k standard deviations from the mean:"
   ]
  },
  {
   "cell_type": "markdown",
   "metadata": {
    "id": "1d-jzzg0qZsi"
   },
   "source": [
    "![image (9) d.png](https://github.com/sabinagio/data-analytics/blob/main/images/chebyshev_table.png?raw=true)"
   ]
  },
  {
   "cell_type": "code",
   "execution_count": null,
   "metadata": {
    "id": "vqLstbHfqZsi"
   },
   "outputs": [],
   "source": [
    "from scipy import stats\n",
    "import numpy as np\n",
    "import plotly.express as px"
   ]
  },
  {
   "cell_type": "code",
   "execution_count": null,
   "metadata": {
    "id": "3vmzH69WqZsi"
   },
   "outputs": [],
   "source": [
    "px.histogram(fortune.profit)  # We know it's positively skewed"
   ]
  },
  {
   "cell_type": "markdown",
   "metadata": {
    "id": "fLiMNz75qZsj"
   },
   "source": [
    "> Will this data obey the Chebyshev criteria for k=2 (2 standard deviations)?"
   ]
  },
  {
   "cell_type": "code",
   "execution_count": null,
   "metadata": {
    "id": "hVKUv-t8qZsj"
   },
   "outputs": [],
   "source": [
    "skewed_data = fortune.dropna(subset='profit').profit\n",
    "mean = skewed_data.mean()\n",
    "std = skewed_data.std()"
   ]
  },
  {
   "cell_type": "markdown",
   "metadata": {
    "id": "O3tFpsyAqZsj"
   },
   "source": [
    "> Chebychev predicts 75% or more data lies within 2 standard deviations:"
   ]
  },
  {
   "cell_type": "code",
   "execution_count": null,
   "metadata": {
    "id": "__mHB8yiqZsj"
   },
   "outputs": [],
   "source": [
    "points_within_2_std = skewed_data[(skewed_data < (mean + 2 * std)) & (skewed_data > (mean - 2 * std))]\n",
    "proportion = round(len(points_within_2_std) * 100 / len(skewed_data), 1)\n",
    "print(f\"{proportion}% of the profit data falls within 2 standard deviations from the mean\")"
   ]
  },
  {
   "cell_type": "markdown",
   "metadata": {
    "id": "K2_dH8iFqZsj"
   },
   "source": [
    "Since 97.4% > 75%, the distribution does obey the Chebyshev theorem."
   ]
  },
  {
   "cell_type": "markdown",
   "metadata": {
    "id": "7bOJxr7oqZsk"
   },
   "source": [
    "# <a id='toc11_'></a>[Extra: Sources of error in data analysis](#toc0_)\n",
    "\n",
    "For a more detailed overview of where statistics can go wrong, [here is an article](https://archive.ph/20230428034256/https://towardsdatascience.com/misleading-with-data-statistics-c6d506bdb9cf) for you. Some of the concepts here may be unfamiliar (A/B testing, p-values) but worry not, by the mid-bootcamp project we will learn about all of these techniques!\n",
    "\n",
    "![image.png](https://archive.ph/C26ns/e5f3e70310de0774fa88fd91e02f6fafbfe99b34.webp)"
   ]
  }
 ],
 "metadata": {
  "colab": {
   "provenance": []
  },
  "kernelspec": {
   "display_name": "Python 3 (ipykernel)",
   "language": "python",
   "name": "python3"
  },
  "language_info": {
   "codemirror_mode": {
    "name": "ipython",
    "version": 3
   },
   "file_extension": ".py",
   "mimetype": "text/x-python",
   "name": "python",
   "nbconvert_exporter": "python",
   "pygments_lexer": "ipython3",
   "version": "3.9.13"
  }
 },
 "nbformat": 4,
 "nbformat_minor": 1
}
