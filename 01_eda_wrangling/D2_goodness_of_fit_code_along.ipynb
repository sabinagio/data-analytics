{
  "cells": [
    {
      "cell_type": "markdown",
      "metadata": {},
      "source": [
        "**Table of contents**<a id='toc0_'></a>    \n",
        "- [Hypothesis Testing - Part II](#toc1_)    \n",
        "  - [Goodness of fit test](#toc1_1_)    \n",
        "  - [Chi-squared test - observed vs expected distribution](#toc1_2_)    \n",
        "      - [💡 Do it yourself](#toc1_2_1_1_)    \n",
        "  - [Chi-squared test - correlation between categoricals](#toc1_3_)    \n",
        "    - [G-test](#toc1_3_1_)    \n",
        "- [References](#toc2_)    \n",
        "- [Acknowledgements](#toc3_)    \n",
        "- [Extra Reading](#toc4_)    \n",
        "\n",
        "<!-- vscode-jupyter-toc-config\n",
        "\tnumbering=false\n",
        "\tanchor=true\n",
        "\tflat=false\n",
        "\tminLevel=1\n",
        "\tmaxLevel=6\n",
        "\t/vscode-jupyter-toc-config -->\n",
        "<!-- THIS CELL WILL BE REPLACED ON TOC UPDATE. DO NOT WRITE YOUR TEXT IN THIS CELL -->"
      ]
    },
    {
      "cell_type": "markdown",
      "metadata": {},
      "source": [
        "# <a id='toc1_'></a>[Hypothesis Testing - Part II](#toc0_)"
      ]
    },
    {
      "cell_type": "markdown",
      "metadata": {},
      "source": [
        "![](https://media0.giphy.com/media/26gR0YFZxWbnUPtMA/giphy.gif?cid=ecf05e47uz8y2qkbtctaa2w4h7kmmfnqodcfo3k9g9f1z93a&ep=v1_gifs_search&rid=giphy.gif&ct=g)"
      ]
    },
    {
      "cell_type": "markdown",
      "metadata": {},
      "source": [
        "## <a id='toc1_1_'></a>[Goodness of fit test](#toc0_)"
      ]
    },
    {
      "cell_type": "markdown",
      "metadata": {},
      "source": [
        "> The goodness of fit of a statistical model describes how well it fits a set of observations. Measures of goodness of fit typically **summarize the discrepancy between observed values and the values expected under the model in question**.   \n",
        "\n",
        "> Such measures can be used in statistical hypothesis testing for example:\n",
        "> - to test for normality of residuals\n",
        "> - to test whether two samples are drawn from identical distributions (Kolmogorov–Smirnov test)\n",
        "> - outcome frequencies follow a specified distribution (see Pearson's chi-square test). [$^{[1]}$](https://en.wikipedia.org/wiki/Goodness_of_fit)"
      ]
    },
    {
      "cell_type": "markdown",
      "metadata": {},
      "source": [
        "## <a id='toc1_2_'></a>[Chi-squared test - observed vs expected distribution](#toc0_)"
      ]
    },
    {
      "cell_type": "code",
      "execution_count": null,
      "metadata": {
        "id": "yjd8WpUaVXTw"
      },
      "outputs": [],
      "source": [
        "import scipy.stats as stats\n",
        "import numpy as np"
      ]
    },
    {
      "cell_type": "markdown",
      "metadata": {},
      "source": [
        "**Null hypothesis ($H_0$):** Beverage distribution for our store is the same as the one in all stores.\n",
        "\n",
        "**Alternative hypothesis ($H_1$):** Beverage distribution for our store is different from the one in all stores."
      ]
    },
    {
      "cell_type": "code",
      "execution_count": null,
      "metadata": {
        "id": "KkwpOykpWFyP"
      },
      "outputs": [],
      "source": [
        "E = np.array([120, 90, 90])\n",
        "O = np.array([120, 80, 100])"
      ]
    },
    {
      "cell_type": "code",
      "execution_count": null,
      "metadata": {
        "colab": {
          "base_uri": "https://localhost:8080/"
        },
        "id": "_asxXWjxWO2O",
        "outputId": "bd0d2a52-e68d-4685-effe-3ace759c60a6"
      },
      "outputs": [],
      "source": [
        "# Compute statistic for chi2"
      ]
    },
    {
      "cell_type": "markdown",
      "metadata": {},
      "source": [
        "Check chi2-value for given significance level and the appriopriate number of degrees of freedom (number of categories - 1):"
      ]
    },
    {
      "cell_type": "code",
      "execution_count": null,
      "metadata": {
        "colab": {
          "base_uri": "https://localhost:8080/"
        },
        "id": "W808uoKjW5JP",
        "outputId": "81c523b9-cdbe-4b0a-e275-f2946a909a05"
      },
      "outputs": [],
      "source": [
        "# Calculate p-value"
      ]
    },
    {
      "cell_type": "markdown",
      "metadata": {},
      "source": [
        "Do we reject the null hypothesis at a significance level of 5%?"
      ]
    },
    {
      "cell_type": "code",
      "execution_count": null,
      "metadata": {
        "colab": {
          "base_uri": "https://localhost:8080/"
        },
        "id": "RTiKmmNUWgRA",
        "outputId": "f4d91a29-c55b-4d0a-fa1c-99ca2bc25045"
      },
      "outputs": [],
      "source": [
        "# Use the stats library instead"
      ]
    },
    {
      "cell_type": "markdown",
      "metadata": {},
      "source": [
        "#### <a id='toc1_2_1_1_'></a>[💡 Do it yourself](#toc0_)\n",
        "\n",
        "Now repeat this exercise for the same null hypothesis and the following **observed** sample:\n",
        "\n",
        "> 180 cokes, 210 pepsis and 210 waters\n",
        "\n",
        "This time, use a significance level of 1%. What do you see?"
      ]
    },
    {
      "cell_type": "code",
      "execution_count": null,
      "metadata": {},
      "outputs": [],
      "source": [
        "# Your code here"
      ]
    },
    {
      "cell_type": "markdown",
      "metadata": {},
      "source": [
        "## <a id='toc1_3_'></a>[Chi-squared test - correlation between categoricals](#toc0_)"
      ]
    },
    {
      "cell_type": "markdown",
      "metadata": {},
      "source": [
        "> A chi-squared test (also χ2 test) is a statistical hypothesis test used in the analysis of *contingency tables* when the sample sizes are large.   \n",
        "\n",
        "> In simpler terms, this test is primarily used to examine whether two categorical variables (two dimensions of the contingency table) are independent in influencing the test statistic (values within the table).[$^{[2]}$](https://en.wikipedia.org/wiki/Chi-squared_test)"
      ]
    },
    {
      "cell_type": "code",
      "execution_count": null,
      "metadata": {},
      "outputs": [],
      "source": [
        "cars_table=[[256, 74], \n",
        "            [41, 42], \n",
        "            [66, 34]]"
      ]
    },
    {
      "cell_type": "markdown",
      "metadata": {},
      "source": [
        "**Null hypothesis ($H_0$):** The car brand does **not** influence the audience perception.\n",
        "\n",
        "**Alternative hypothesis ($H_1$):** The car brand does influence the audience perception."
      ]
    },
    {
      "cell_type": "code",
      "execution_count": null,
      "metadata": {
        "colab": {
          "base_uri": "https://localhost:8080/"
        },
        "id": "QvCvHzretjXa",
        "outputId": "748217b2-62a6-4743-8b3d-af73e028764e"
      },
      "outputs": [],
      "source": [
        "# Contingency tables and independence of effects"
      ]
    },
    {
      "cell_type": "markdown",
      "metadata": {},
      "source": [
        "What can we say about our car manufacturers?"
      ]
    },
    {
      "cell_type": "markdown",
      "metadata": {},
      "source": [
        "**Note:**\n",
        "> An often quoted guideline for the validity of this calculation is that the test should be used only if the observed and expected frequencies in each cell are at least 5. [$^{[3]}$](https://docs.scipy.org/doc/scipy/reference/generated/scipy.stats.chi2_contingency.html#scipy.stats.chi2_contingency)"
      ]
    },
    {
      "cell_type": "markdown",
      "metadata": {},
      "source": [
        "### <a id='toc1_3_1_'></a>[G-test](#toc0_)\n",
        "\n",
        "Nowadays, the G-test is more increasingly recommended compared to the chi-squared test as it's a better approximation. However, at quite large sample sizes, the effect is minimal."
      ]
    },
    {
      "cell_type": "markdown",
      "metadata": {},
      "source": [
        "To implement using `scipy.stats`, you can simply change the `lambda_` argument to `log-likelihood`:"
      ]
    },
    {
      "cell_type": "code",
      "execution_count": null,
      "metadata": {},
      "outputs": [],
      "source": []
    },
    {
      "cell_type": "markdown",
      "metadata": {},
      "source": [
        "# <a id='toc2_'></a>[References](#toc0_)\n",
        "\n",
        "[1] [Goodness of fit, Wikipedia](https://en.wikipedia.org/wiki/Goodness_of_fit)  \n",
        "[2] [Chi-squared test, Wikipedia](https://en.wikipedia.org/wiki/Chi-squared_test)  \n",
        "[3] [Chi-contingency table, Scipy documentation](https://docs.scipy.org/doc/scipy/reference/generated/scipy.stats.chi2_contingency.html#scipy.stats.chi2_contingency)"
      ]
    },
    {
      "cell_type": "markdown",
      "metadata": {},
      "source": [
        "# <a id='toc3_'></a>[Acknowledgements](#toc0_)"
      ]
    },
    {
      "cell_type": "markdown",
      "metadata": {},
      "source": [
        "Thank you, David Henriques, for your awesome lesson structure and content."
      ]
    },
    {
      "cell_type": "markdown",
      "metadata": {},
      "source": [
        "# <a id='toc4_'></a>[Extra Reading](#toc0_)\n",
        "\n",
        "- [Using Applied Statistics to Expand Human Knowledge- Statistics by Jim](https://statisticsbyjim.com/basics/applied-statistics-expand-knowledge/)\n",
        "- [Fischer's Exact Test (for small samples & 2x2 contingency tables) - StatQuest (5 min)](https://www.youtube.com/watch?v=udyAvvaMjfM)"
      ]
    }
  ],
  "metadata": {
    "colab": {
      "provenance": []
    },
    "kernelspec": {
      "display_name": "Python 3",
      "name": "python3"
    },
    "language_info": {
      "codemirror_mode": {
        "name": "ipython",
        "version": 3
      },
      "file_extension": ".py",
      "mimetype": "text/x-python",
      "name": "python",
      "nbconvert_exporter": "python",
      "pygments_lexer": "ipython3",
      "version": "3.9.13"
    }
  },
  "nbformat": 4,
  "nbformat_minor": 0
}
