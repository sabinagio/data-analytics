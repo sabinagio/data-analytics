{
 "cells": [
  {
   "cell_type": "markdown",
   "metadata": {},
   "source": [
    "**Table of contents**<a id='toc0_'></a>    \n",
    "- [Requests in Python](#toc1_1_)    \n",
    "    - [GET](#toc1_1_1_)    \n",
    "      - [Accessing an endpoint](#toc1_1_1_1_)    \n",
    "      - [Response headers](#toc1_1_1_2_)    \n",
    "      - [Parameters](#toc1_1_1_3_)    \n",
    "        - [**Path Parameters**](#toc1_1_1_3_1_)    \n",
    "        - [**Query Parameters**](#toc1_1_1_3_2_)    \n",
    "        - [**Header Parameters**](#toc1_1_1_3_3_)    \n",
    "      - [Request Headers](#toc1_1_1_4_)    \n",
    "        - [Saving the API Key](#toc1_1_1_4_1_)    \n",
    "        - [Using the API Key in the Header Parameters](#toc1_1_1_4_2_)    \n",
    "  - [APIs examples](#toc1_2_)    \n",
    "    - [NewsAPI](#toc1_2_1_)    \n",
    "      - [💡 Check for understanding](#toc1_2_1_1_)    \n",
    "    - [Pokemon API](#toc1_2_2_)    \n",
    "      - [json_normalize()](#toc1_2_2_1_)    \n",
    "    - [Coincap API](#toc1_2_3_)    \n",
    "    - [Api Jokes](#toc1_2_4_)    \n",
    "    - [💡 Check for understanding](#toc1_2_5_)    \n",
    "  - [Summary](#toc1_3_)    \n",
    "  - [Glossary](#toc1_4_)    \n",
    "  - [Further materials](#toc1_5_)    \n",
    "\n",
    "<!-- vscode-jupyter-toc-config\n",
    "\tnumbering=false\n",
    "\tanchor=true\n",
    "\tflat=false\n",
    "\tminLevel=1\n",
    "\tmaxLevel=6\n",
    "\t/vscode-jupyter-toc-config -->\n",
    "<!-- THIS CELL WILL BE REPLACED ON TOC UPDATE. DO NOT WRITE YOUR TEXT IN THIS CELL -->"
   ]
  },
  {
   "cell_type": "markdown",
   "metadata": {},
   "source": [
    "## <a id='toc1_1_'></a>[Requests in Python](#toc0_)"
   ]
  },
  {
   "cell_type": "markdown",
   "metadata": {},
   "source": [
    "You can make requests to RESTful APIs using libraries like `requests`. "
   ]
  },
  {
   "cell_type": "code",
   "execution_count": null,
   "metadata": {},
   "outputs": [],
   "source": [
    "# If you don't have it installed you can do use using pip or pip3\n",
    "\n",
    "#!pip install requests"
   ]
  },
  {
   "cell_type": "code",
   "execution_count": null,
   "metadata": {},
   "outputs": [],
   "source": [
    "import requests"
   ]
  },
  {
   "cell_type": "markdown",
   "metadata": {},
   "source": [
    "### <a id='toc1_1_1_'></a>[GET](#toc0_)"
   ]
  },
  {
   "cell_type": "markdown",
   "metadata": {},
   "source": [
    "Making a `GET request` to the API is simply a call to a `URL` that returns information when provided with the appropriate `parameters`. We will only perform **GET** requests."
   ]
  },
  {
   "cell_type": "markdown",
   "metadata": {},
   "source": [
    "Here is an example on how to make a request with Python:\n",
    "\n",
    "```python\n",
    "url = \"https://api.example.com/products\"\n",
    "response = requests.get(url)\n",
    "\n",
    "if response.status_code == 200:\n",
    "    products = response.json()\n",
    "    # Now you can analyze and work with the products data in Python\n",
    "```"
   ]
  },
  {
   "cell_type": "markdown",
   "metadata": {},
   "source": [
    "The code above illustrates how the `products` endpoint of the API example works. However, you will only be able to run `response.json()` if the API returns a JSON response. For any other URL (not an API), you will simply get the HTML of that page. You can see how typical requests and responses look like on [Permutable's ESG API docs page](https://edyi6uek65.execute-api.us-east-1.amazonaws.com/prod/api/v2.0/docs#)."
   ]
  },
  {
   "cell_type": "markdown",
   "metadata": {},
   "source": [
    "#### <a id='toc1_1_1_1_'></a>[Accessing an endpoint](#toc0_)\n",
    "\n",
    "As we mentioned above, APIs always need to provide documentation for their various services: **endpoints**.  Each endpoint is a different URL.  \n",
    "\n",
    "**Example: ISS API**"
   ]
  },
  {
   "cell_type": "markdown",
   "metadata": {},
   "source": [
    "Let's get information from ISS (International Space Station)! We'll start looking at the [ISS API documentation](https://wheretheiss.at/w/developer)\n",
    "\n",
    "![](https://imgs.search.brave.com/ygF6cFXRk9_TLm8bCBulawkVsBZpGXb214tNGCvzJU4/rs:fit:860:0:0/g:ce/aHR0cHM6Ly9tZWRp/YS5nZXR0eWltYWdl/cy5jb20vaWQvMTU3/NTA2MjQzL3Bob3Rv/L2ludGVybmF0aW9u/YWwtc3BhY2Utc3Rh/dGlvbi1pc3MuanBn/P3M9NjEyeDYxMiZ3/PTAmaz0yMCZjPWxW/T1BSLTdXcnN2eXUw/UVcyMUFKQk1aWmwz/RHFvekVDMldDMnBz/Ny1OT2s9)"
   ]
  },
  {
   "cell_type": "markdown",
   "metadata": {},
   "source": [
    "This API allows you to access various data related to the International Space Station (ISS), including its current, past, or future position, timezone information for specific coordinates, and more.\n",
    "\n",
    "**Key Features**\n",
    "- **Authentication**: No authentication is currently required, but future endpoints may include this.\n",
    "- **Rate Limiting**: Limited to approximately 1 request per second.\n",
    "- **Responses**: Default to JSON format, with optional parameters to modify response appearance.\n",
    "- **Endpoints**: Several endpoints provide different types of information:\n",
    "    - **satellites**: Information about satellites, including the ISS.\n",
    "    - **satellites/[id]**: Position, velocity, and related information for a satellite.\n",
    "    - **satellites/[id]/positions**: Position data for specific timestamps.\n",
    "    - **satellites/[id]/tles**: TLE (Two-Line Element Set) data in either JSON or text format.\n",
    "    - **coordinates/[lat,lon]**: Timezone information for specific coordinates.\n"
   ]
  },
  {
   "cell_type": "markdown",
   "metadata": {},
   "source": [
    "**Examples**\n",
    "- Satellite details: `https://api.wheretheiss.at/v1/satellites`\n",
    "- ISS position: `https://api.wheretheiss.at/v1/satellites/25544`\n",
    "- Coordinates information: `https://api.wheretheiss.at/v1/coordinates/37.795517,-122.393693`\n",
    "\n"
   ]
  },
  {
   "cell_type": "markdown",
   "metadata": {},
   "source": [
    "**Endpoint satellites**"
   ]
  },
  {
   "cell_type": "code",
   "execution_count": null,
   "metadata": {},
   "outputs": [],
   "source": [
    "# We'll use the endpoint satellites, we read it gives us information about satellites\n",
    "\n",
    "url = \"https://api.wheretheiss.at/v1/satellites\""
   ]
  },
  {
   "cell_type": "code",
   "execution_count": null,
   "metadata": {},
   "outputs": [],
   "source": [
    "# We use get method to make the request and get information from the API"
   ]
  },
  {
   "cell_type": "code",
   "execution_count": null,
   "metadata": {},
   "outputs": [],
   "source": [
    "# Lets look at the type of the response"
   ]
  },
  {
   "cell_type": "code",
   "execution_count": null,
   "metadata": {},
   "outputs": [],
   "source": [
    "# Get status code"
   ]
  },
  {
   "cell_type": "markdown",
   "metadata": {},
   "source": [
    "We can access the response content, which returns a string"
   ]
  },
  {
   "cell_type": "code",
   "execution_count": null,
   "metadata": {},
   "outputs": [],
   "source": [
    "# Get content"
   ]
  },
  {
   "cell_type": "markdown",
   "metadata": {},
   "source": [
    "If response Content-Type is json, we can access it better with `.json()`"
   ]
  },
  {
   "cell_type": "code",
   "execution_count": null,
   "metadata": {},
   "outputs": [],
   "source": [
    "# Convert response info to JSON"
   ]
  },
  {
   "cell_type": "code",
   "execution_count": null,
   "metadata": {},
   "outputs": [],
   "source": [
    "# Check info type"
   ]
  },
  {
   "cell_type": "code",
   "execution_count": null,
   "metadata": {},
   "outputs": [],
   "source": [
    "# Access the id"
   ]
  },
  {
   "cell_type": "markdown",
   "metadata": {},
   "source": [
    "#### <a id='toc1_1_1_2_'></a>[Response headers](#toc0_)\n",
    "\n",
    "Response headers are part of the HTTP response that a server sends back to the client after a request has been made. These headers provide meta-information about the response and can affect how the client handles the response.\n",
    "\n",
    "Here are some common response headers and what they typically represent:\n",
    "\n",
    "1. **`Date`**: Represents the date and time at which the response was sent.\n",
    "\n",
    "2. **`Server`**: Provides information about the software used by the originating server.\n",
    "\n",
    "3. **`X-Rate-Limit`**: Sometimes used in APIs to inform the client about rate limiting policies, such as the number of allowed requests in a given time frame.\n",
    "\n",
    "4. **`Content-Type`**: Specifies the media type of the resource or data the server is sending back. For example, it could be `application/json` for a JSON object, `text/html` for an HTML page, or `image/png` for an image.\n",
    "\n",
    "And more."
   ]
  },
  {
   "cell_type": "code",
   "execution_count": null,
   "metadata": {},
   "outputs": [],
   "source": [
    "# We can also access the response headers"
   ]
  },
  {
   "cell_type": "code",
   "execution_count": null,
   "metadata": {},
   "outputs": [],
   "source": [
    "# Check headers data type"
   ]
  },
  {
   "cell_type": "code",
   "execution_count": null,
   "metadata": {},
   "outputs": [],
   "source": [
    "# Show headers properly"
   ]
  },
  {
   "cell_type": "markdown",
   "metadata": {},
   "source": [
    "#### <a id='toc1_1_1_3_'></a>[Parameters](#toc0_)"
   ]
  },
  {
   "cell_type": "markdown",
   "metadata": {},
   "source": [
    "As we mentioned above, sometimes we can pass **parameters** to an API endpoint, similar to when we pass parameters to a Python function."
   ]
  },
  {
   "cell_type": "markdown",
   "metadata": {},
   "source": [
    "In the example above, we didn't use any parameters in the endpoint `satellites` since the [documentation](\"https://wheretheiss.at/w/developer\") said *Parameters: None*."
   ]
  },
  {
   "cell_type": "markdown",
   "metadata": {},
   "source": [
    "API parameters are specific values that you include in a request to an API endpoint to filter, sort, or detail the data that you want to retrieve. They allow you to customize the request to get exactly the information you need."
   ]
  },
  {
   "cell_type": "markdown",
   "metadata": {},
   "source": [
    "There are several types of parameters that can be used in API requests, such as Path Parameters, Query Parameters, Header Parameters and Request Body Parameters. Let's look at them with an example using another endpoint."
   ]
  },
  {
   "cell_type": "markdown",
   "metadata": {},
   "source": [
    "##### <a id='toc1_1_1_3_1_'></a>[**Path Parameters**](#toc0_)\n",
    "\n",
    "These are embedded in the URL path and are used to identify a specific resource. For example, in the URL above `https://api.wheretheiss.at/v1/satellites/25544`, the number `25544` is a path parameter that identifies a specific sattelite."
   ]
  },
  {
   "cell_type": "markdown",
   "metadata": {},
   "source": [
    "**Endpoint satellites/id**"
   ]
  },
  {
   "cell_type": "markdown",
   "metadata": {},
   "source": [
    "Lets use endpoint satellites/[id] with the id we got from the previous endpoint.\n",
    "Important, we need to provide the whole url for the endpoint as a `string`."
   ]
  },
  {
   "cell_type": "code",
   "execution_count": null,
   "metadata": {},
   "outputs": [],
   "source": [
    "url_iss_position = \"https://api.wheretheiss.at/v1/satellites/\" + str(info[0][\"id\"])"
   ]
  },
  {
   "cell_type": "code",
   "execution_count": null,
   "metadata": {},
   "outputs": [],
   "source": [
    "# Get ISS position"
   ]
  },
  {
   "cell_type": "code",
   "execution_count": null,
   "metadata": {},
   "outputs": [],
   "source": [
    "# Check status code"
   ]
  },
  {
   "cell_type": "code",
   "execution_count": null,
   "metadata": {},
   "outputs": [],
   "source": [
    "# Convert to readable format"
   ]
  },
  {
   "cell_type": "markdown",
   "metadata": {},
   "source": [
    "Every time we call the endpoint, the information changes since it gives us the current position of the satellite. Let's check that with a loop to gather information at different times."
   ]
  },
  {
   "cell_type": "code",
   "execution_count": null,
   "metadata": {},
   "outputs": [],
   "source": [
    "import time\n",
    "positions = []\n",
    "\n",
    "\n",
    "# Get the position of the satellite for 10 different points in time"
   ]
  },
  {
   "cell_type": "code",
   "execution_count": null,
   "metadata": {},
   "outputs": [],
   "source": [
    "# Access an element"
   ]
  },
  {
   "cell_type": "code",
   "execution_count": null,
   "metadata": {},
   "outputs": [],
   "source": [
    "# What do we have inside our list now?"
   ]
  },
  {
   "cell_type": "markdown",
   "metadata": {},
   "source": [
    "Let's extract 10 latitudes from the 10 dictionaries in the list, with 2 decimals."
   ]
  },
  {
   "cell_type": "code",
   "execution_count": null,
   "metadata": {},
   "outputs": [],
   "source": []
  },
  {
   "cell_type": "code",
   "execution_count": null,
   "metadata": {},
   "outputs": [],
   "source": [
    "# We can create a dataframe from the API response to work with it better\n",
    "import pandas as pd"
   ]
  },
  {
   "cell_type": "markdown",
   "metadata": {},
   "source": [
    "\n",
    "##### <a id='toc1_1_1_3_2_'></a>[**Query Parameters**](#toc0_)\n",
    "\n",
    "These are added to the end of the URL after a question mark (`?`) and are often used to filter or sort the response. \n",
    "\n",
    "For example, in the ISS documentation, it mentions that there is a parameter `units` that can take values `miles` or `kilometers`. So in the URL `https://api.wheretheiss.at/v1/satellites/25544?units=miles`, we added `units=miles` which is a query parameter that shows the data in \"miles\". \n",
    "\n",
    "In general, we add the parameters like this `?param1=value1&param2=value2...` at the end of the URL."
   ]
  },
  {
   "cell_type": "code",
   "execution_count": null,
   "metadata": {},
   "outputs": [],
   "source": [
    "url_iss_position"
   ]
  },
  {
   "cell_type": "code",
   "execution_count": null,
   "metadata": {},
   "outputs": [],
   "source": [
    "# We saw in the documentation that we can add a parameter units to use miles or kilometers\n",
    "\n",
    "url_iss_position2 = 'https://api.wheretheiss.at/v1/satellites/25544?units=miles'"
   ]
  },
  {
   "cell_type": "code",
   "execution_count": null,
   "metadata": {},
   "outputs": [],
   "source": [
    "# Get response in miles"
   ]
  },
  {
   "cell_type": "code",
   "execution_count": null,
   "metadata": {},
   "outputs": [],
   "source": [
    "# Show response"
   ]
  },
  {
   "cell_type": "markdown",
   "metadata": {},
   "source": [
    "We can also do it by passing to the argument `params` a dictionary with the parameters in the `get` method."
   ]
  },
  {
   "cell_type": "code",
   "execution_count": null,
   "metadata": {},
   "outputs": [],
   "source": [
    "parameters = {\"units\": \"miles\"}"
   ]
  },
  {
   "cell_type": "code",
   "execution_count": null,
   "metadata": {},
   "outputs": [],
   "source": [
    "# Use params as an argument"
   ]
  },
  {
   "cell_type": "code",
   "execution_count": null,
   "metadata": {},
   "outputs": [],
   "source": [
    "# Check JSON response"
   ]
  },
  {
   "cell_type": "markdown",
   "metadata": {},
   "source": [
    "Have a look at what link you get when you [google](https://www.google.com/) something:\n",
    "\n",
    "`https://www.google.com/search?q=cats&...a lot more gibberish`\n",
    "\n",
    "Here we can see that Google also works as an API, where the `search` endpoint can also receive a parameter `q`, which in this case is `cats`. "
   ]
  },
  {
   "cell_type": "markdown",
   "metadata": {},
   "source": [
    "\n",
    "##### <a id='toc1_1_1_3_3_'></a>[**Header Parameters**](#toc0_)\n",
    "\n",
    "These are included in the request header and can be used for various purposes, such as authentication (e.g., sending an API key or token), content negotiation (e.g., defining the response format), or custom settings defined by the API. If the API requires authentication, you might include an `Authorization` header with your API key."
   ]
  },
  {
   "cell_type": "markdown",
   "metadata": {},
   "source": [
    "ISS API mentions that *currently there is no authentication required*. So we'll look at an example with a different API of `authentication` in `header parameters`."
   ]
  },
  {
   "cell_type": "markdown",
   "metadata": {},
   "source": [
    "#### <a id='toc1_1_1_4_'></a>[Request Headers](#toc0_)"
   ]
  },
  {
   "cell_type": "markdown",
   "metadata": {},
   "source": [
    "Request headers are key-value pairs sent in an HTTP request to provide information about the request itself."
   ]
  },
  {
   "cell_type": "markdown",
   "metadata": {},
   "source": [
    "Some request headers are:\n",
    "\n",
    "1. **Content-Type**: Specifies the media type of the resource or data. Common examples include \"application/json\" for JSON data, \"text/html\" for HTML content, and \"application/xml\" for XML data.\n",
    "\n",
    "3. **Authorization**: Contains credentials for authenticating the client with the server, often used with tokens or other forms of authentication.\n",
    "\n",
    "4. **User-Agent**: Provides information about the client (browser or other client), including its version and operating system.\n",
    "\n",
    "\n",
    "In Python's `requests` library, you can include headers in a request by using the `headers` argument, like this:\n",
    "\n",
    "```python\n",
    "headers = {'Content-Type': 'application/json', 'Authorization': 'Bearer YOUR_TOKEN'}\n",
    "response = requests.get(url, headers=headers)\n",
    "```\n"
   ]
  },
  {
   "cell_type": "markdown",
   "metadata": {},
   "source": [
    "⚠️🚨 ¡Careful with the authentication token! ⚠️🚨  A token is a personal credential for accessing an API, through which your request quota to the API is managed. Therefore, the ideal procedure is to ensure security by storing the token as a variable in an .env file. This way, you can call the environment variable without having to publicly display the token."
   ]
  },
  {
   "cell_type": "markdown",
   "metadata": {},
   "source": [
    "**Example: News API**"
   ]
  },
  {
   "cell_type": "markdown",
   "metadata": {},
   "source": [
    "The *News API* lets you locate articles and breaking news headlines from news sources and blogs across the web."
   ]
  },
  {
   "cell_type": "markdown",
   "metadata": {},
   "source": [
    "- Let's look at the [NewsAPI Authentication documentation](https://newsapi.org/docs/authentication). It mentions: \n",
    "```\n",
    "You can attach your API key to a request in one of three ways:\n",
    "\n",
    "- Via the apiKey querystring parameter.\n",
    "- Via the X-Api-Key HTTP header.\n",
    "- Via the Authorization HTTP header. Including Bearer is optional, and be sure not to base 64 encode it like you may have seen in other authentication tutorials.\n",
    "We strongly recommend the either of last two so that your API key isn't visible to others in logs or via request sniffing.\n",
    "\n",
    "If you don't append your API key correctly, or your API key is invalid, you will receive a 401 - Unauthorized HTTP error.\n",
    "```\n",
    "\n",
    "- Let's look at the documentation for the endpoints to see what **parameters** they accept: [NewsAPI endpoints](https://newsapi.org/docs/endpoints). We see we have the endpoint `/v2/top-headlines` – *returns breaking news headlines for countries, categories, and singular publishers. This is perfect for use with news tickers or anywhere you want to use live up-to-date news headlines.*\n",
    "If we look at the [documentation of that endpoint](https://newsapi.org/docs/endpoints/top-headlines) we see we have more parameters we can add such as `country` or `category`."
   ]
  },
  {
   "cell_type": "code",
   "execution_count": null,
   "metadata": {},
   "outputs": [],
   "source": [
    "url = \"http://newsapi.org/v2/top-headlines\""
   ]
  },
  {
   "cell_type": "code",
   "execution_count": null,
   "metadata": {},
   "outputs": [],
   "source": [
    "# Check response without credentials"
   ]
  },
  {
   "cell_type": "code",
   "execution_count": null,
   "metadata": {},
   "outputs": [],
   "source": [
    "# Check status code"
   ]
  },
  {
   "cell_type": "markdown",
   "metadata": {},
   "source": [
    "Let's try a made up key, using the apiKey querystring parameter. As we read in the documentation, this is not the recommended way."
   ]
  },
  {
   "cell_type": "code",
   "execution_count": null,
   "metadata": {},
   "outputs": [],
   "source": [
    "url = f\"http://newsapi.org/v2/top-headlines?country=us&apiKey=isidoesnthavekey\""
   ]
  },
  {
   "cell_type": "code",
   "execution_count": null,
   "metadata": {},
   "outputs": [],
   "source": [
    "# Check with wrong API key"
   ]
  },
  {
   "cell_type": "code",
   "execution_count": null,
   "metadata": {},
   "outputs": [],
   "source": [
    "# Show status code"
   ]
  },
  {
   "cell_type": "markdown",
   "metadata": {},
   "source": [
    "**4xx**: client error. This means, it is our error."
   ]
  },
  {
   "cell_type": "markdown",
   "metadata": {},
   "source": [
    "Lets do with a correct key. You should get your own API key through their website. Once we've saved our key, we'll send it via the X-Api-Key HTTP header."
   ]
  },
  {
   "cell_type": "markdown",
   "metadata": {},
   "source": [
    "##### <a id='toc1_1_1_4_1_'></a>[Saving the API Key](#toc0_)"
   ]
  },
  {
   "cell_type": "markdown",
   "metadata": {},
   "source": [
    "Storing an API key directly in your code can expose sensitive information, especially if your code is publicly available (e.g., on a public GitHub repository). The best practice for saving and loading an API key in your code involves the following steps:\n",
    "\n",
    "1. **Storing the API Key**:\n",
    "    - **Use Environment Variables**: Store your API key in an environment variable on your system. This keeps the key out of your codebase and allows you to change it without altering your code.\n",
    "\n",
    "\n",
    "    - **Create a .env File**: If you prefer, you can create a `.env` file (just call it `.env` nothing else before the `.`) in your project directory to store the API key. Inside this file, you would have something like:\n",
    "   \n",
    "       ```\n",
    "       API_KEY=your-api-key-here\n",
    "       ```\n",
    "\n",
    "        - **Add .env to .gitignore**: If you're using a version control system like Git, make sure to add the `.env` file to your `.gitignore` file. This prevents the `.env` file (and therefore your API key) from being uploaded to any public repositories. We'll talk about Git and .gitignore in more detail soon.\n",
    "\n",
    "2. **Load the Key in Your Code**: \n",
    "\n",
    "    You can use libraries like `python-dotenv` to load the key into your code. \n",
    "    You would need to install `python-dotenv` first.\n",
    "    ```python \n",
    "    !pip install python-dotenv\n",
    "\n",
    "    from dotenv import load_dotenv\n",
    "    import os\n",
    "\n",
    "    load_dotenv()\n",
    "    api_key = os.getenv(\"API_KEY\")\n",
    "    ```\n",
    "\n",
    "       \n",
    "    Now, `api_key` contains the value of your API key, and you can use it to authenticate your requests to the API.\n",
    "       \n"
   ]
  },
  {
   "cell_type": "markdown",
   "metadata": {},
   "source": [
    "Lets do the second approach. Lets save it in an env file and save it in a variable."
   ]
  },
  {
   "cell_type": "markdown",
   "metadata": {},
   "source": [
    "`Make sure your file is named .env and not .env.txt! Is one of the most common errors. If you need, look at the document properties to make sure it doesn't have .txt at the end even if its not showing the .txt when looking at your folder.`"
   ]
  },
  {
   "cell_type": "code",
   "execution_count": null,
   "metadata": {},
   "outputs": [],
   "source": [
    "# !pip install python-dotenv"
   ]
  },
  {
   "cell_type": "code",
   "execution_count": null,
   "metadata": {},
   "outputs": [],
   "source": [
    "import os\n",
    "from dotenv import load_dotenv, find_dotenv\n",
    "\n",
    "# Load dotenv file\n",
    "\n",
    "# Extract my API key from environment"
   ]
  },
  {
   "cell_type": "code",
   "execution_count": null,
   "metadata": {},
   "outputs": [],
   "source": [
    "# Check key"
   ]
  },
  {
   "cell_type": "markdown",
   "metadata": {},
   "source": [
    "If you get an error, make sure you saved the .env file in the same directory as your jupyter notebook. You can use `os.getcwd()` to do so."
   ]
  },
  {
   "cell_type": "code",
   "execution_count": null,
   "metadata": {},
   "outputs": [],
   "source": [
    "# Get current working directory"
   ]
  },
  {
   "cell_type": "markdown",
   "metadata": {},
   "source": [
    "##### <a id='toc1_1_1_4_2_'></a>[Using the API Key in the Header Parameters](#toc0_)"
   ]
  },
  {
   "cell_type": "code",
   "execution_count": null,
   "metadata": {},
   "outputs": [],
   "source": [
    "url_top_headlines = \"http://newsapi.org/v2/top-headlines\"\n",
    "parameters = {\"country\": \"us\", \"category\": \"science\"}\n",
    "headers = {\"X-Api-Key\": my_key}"
   ]
  },
  {
   "cell_type": "code",
   "execution_count": null,
   "metadata": {},
   "outputs": [],
   "source": [
    "# Get the response with the new parameters"
   ]
  },
  {
   "cell_type": "code",
   "execution_count": null,
   "metadata": {},
   "outputs": [],
   "source": [
    "# Show status code"
   ]
  },
  {
   "cell_type": "code",
   "execution_count": null,
   "metadata": {},
   "outputs": [],
   "source": [
    "# Extract data as JSON"
   ]
  },
  {
   "cell_type": "markdown",
   "metadata": {},
   "source": [
    "## <a id='toc1_2_'></a>[APIs examples](#toc0_)"
   ]
  },
  {
   "cell_type": "markdown",
   "metadata": {},
   "source": [
    "### <a id='toc1_2_1_'></a>[NewsAPI](#toc0_)"
   ]
  },
  {
   "cell_type": "markdown",
   "metadata": {},
   "source": [
    "`dict[key]` raises error if the key does not exits  \n",
    "`dict.get(key)` does not raise an error if the key does not exist"
   ]
  },
  {
   "cell_type": "code",
   "execution_count": null,
   "metadata": {},
   "outputs": [],
   "source": [
    "# lets look at the articles"
   ]
  },
  {
   "cell_type": "code",
   "execution_count": null,
   "metadata": {},
   "outputs": [],
   "source": [
    "# lets see what type it is to know how to access it "
   ]
  },
  {
   "cell_type": "code",
   "execution_count": null,
   "metadata": {},
   "outputs": [],
   "source": [
    "# How many articles?"
   ]
  },
  {
   "cell_type": "code",
   "execution_count": null,
   "metadata": {},
   "outputs": [],
   "source": [
    "# Show an article "
   ]
  },
  {
   "cell_type": "code",
   "execution_count": null,
   "metadata": {},
   "outputs": [],
   "source": [
    "# Extract all article titles"
   ]
  },
  {
   "cell_type": "code",
   "execution_count": null,
   "metadata": {},
   "outputs": [],
   "source": [
    "# lets create a dataframe with the articles"
   ]
  },
  {
   "cell_type": "markdown",
   "metadata": {},
   "source": [
    "#### <a id='toc1_2_1_1_'></a>[💡 Check for understanding](#toc0_)"
   ]
  },
  {
   "cell_type": "markdown",
   "metadata": {},
   "source": [
    "1. What data type is the column *source*?\n",
    "2. Since the column *source* is not very useful as it is, create a column called *name* that contains only the name inside the column *source*.\n",
    "3. How many times each unique name appears in the \"name\" column?"
   ]
  },
  {
   "cell_type": "code",
   "execution_count": null,
   "metadata": {},
   "outputs": [],
   "source": [
    "# Your code here"
   ]
  },
  {
   "cell_type": "markdown",
   "metadata": {},
   "source": [
    "### <a id='toc1_2_2_'></a>[Pokemon API](#toc0_)"
   ]
  },
  {
   "cell_type": "markdown",
   "metadata": {},
   "source": [
    "[PokeAPI](https://pokeapi.co/) is a full RESTful API linked to an extensive database detailing everything about the Pokémon main game series.\n",
    "\n",
    "In the documentation we see that we can get lot's of data. Let's look at the endpoint *pokemon*: ```https://pokeapi.co/api/v2/pokemon/{id or name}/``` "
   ]
  },
  {
   "cell_type": "code",
   "execution_count": null,
   "metadata": {},
   "outputs": [],
   "source": [
    "# Get data for a pokemon at random\n",
    "res = requests.get('https://pokeapi.co/api/v2/pokemon/25')\n",
    "res.status_code"
   ]
  },
  {
   "cell_type": "code",
   "execution_count": null,
   "metadata": {},
   "outputs": [],
   "source": [
    "# Extract the data"
   ]
  },
  {
   "cell_type": "code",
   "execution_count": null,
   "metadata": {},
   "outputs": [],
   "source": [
    "# Check main pokemon info"
   ]
  },
  {
   "cell_type": "code",
   "execution_count": null,
   "metadata": {},
   "outputs": [],
   "source": [
    "# Lets look at the following attributes\n",
    "print(data[\"name\"])\n",
    "print(data[\"weight\"])\n",
    "print(data[\"sprites\"])"
   ]
  },
  {
   "cell_type": "code",
   "execution_count": null,
   "metadata": {},
   "outputs": [],
   "source": [
    "# Lets get the pokemon image from sprites - front_default.\n",
    "# Remember we can read the documentation to understand how to get all the information"
   ]
  },
  {
   "cell_type": "markdown",
   "metadata": {},
   "source": [
    "We will define a function, `get_pokemon`, that takes an ID number as input. This function fetches details about a Pokémon from the PokeAPI using the given ID, extracts its name, weight, and front-facing image, and then returns this data in a dictionary format. If the ID is invalid or there's an issue with the request, a ValueError is raised."
   ]
  },
  {
   "cell_type": "code",
   "execution_count": null,
   "metadata": {},
   "outputs": [],
   "source": [
    "def get_pokemon(id_number):\n",
    "    # Create request\n",
    "    \n",
    "    # Handle different status codes\n",
    "    # 200 status code returns full dictionary\n",
    "\n",
    "    \n",
    "    # Any other status code raises a ValueError"
   ]
  },
  {
   "cell_type": "code",
   "execution_count": null,
   "metadata": {},
   "outputs": [],
   "source": [
    "# Lets use the function for pokemon id 25"
   ]
  },
  {
   "cell_type": "code",
   "execution_count": null,
   "metadata": {},
   "outputs": [],
   "source": [
    "# Lets use list comprehension to gather information for the first 5 pokemons"
   ]
  },
  {
   "cell_type": "markdown",
   "metadata": {},
   "source": [
    "We will now define a function, `print_pokemon`, that takes in a Pokémon dictionary and displays its ID, name, weight, and its image. "
   ]
  },
  {
   "cell_type": "code",
   "execution_count": null,
   "metadata": {},
   "outputs": [],
   "source": [
    "from IPython.display import Image\n",
    "\n",
    "def print_pokemon(poke):"
   ]
  },
  {
   "cell_type": "markdown",
   "metadata": {},
   "source": [
    "After defining this function, we will retrieve and display details for the first 10 Pokémon by iterating through their IDs and using both the `get_pokemon` and `print_pokemon` functions. "
   ]
  },
  {
   "cell_type": "code",
   "execution_count": null,
   "metadata": {},
   "outputs": [],
   "source": [
    "# Show info for first 10 pokemons"
   ]
  },
  {
   "cell_type": "markdown",
   "metadata": {},
   "source": [
    "#### <a id='toc1_2_2_1_'></a>[json_normalize()](#toc0_)"
   ]
  },
  {
   "cell_type": "markdown",
   "metadata": {},
   "source": [
    "Want the data as a DataFrame instead of a dictionary?"
   ]
  },
  {
   "cell_type": "markdown",
   "metadata": {},
   "source": [
    "The following line creates a DataFrame from the items of the dictionary data. Each key-value pair will be treated as a row, with two columns: the first for the key and the second for the value."
   ]
  },
  {
   "cell_type": "code",
   "execution_count": null,
   "metadata": {},
   "outputs": [],
   "source": [
    "# Try converting the dict.items into a dataframe"
   ]
  },
  {
   "cell_type": "markdown",
   "metadata": {},
   "source": [
    "That format is still very hard to work with. Lets use `json_normalize` instead. `json_normalize` is used to normalize semi-structured JSON data into a flat table (DataFrame). It's particularly useful when dealing with nested dictionaries or lists inside JSON."
   ]
  },
  {
   "cell_type": "code",
   "execution_count": null,
   "metadata": {},
   "outputs": [],
   "source": [
    "# Use JSON normalize instead"
   ]
  },
  {
   "cell_type": "markdown",
   "metadata": {},
   "source": [
    "A lot better, even though we still have nested dictionaries or lists inside the dataframe.\n",
    "\n",
    "Let's see again the difference between creating a dataframe directly or using `json_normalize` by using `data[\"abilities\"]`."
   ]
  },
  {
   "cell_type": "code",
   "execution_count": null,
   "metadata": {},
   "outputs": [],
   "source": [
    "# Normal dataframe"
   ]
  },
  {
   "cell_type": "code",
   "execution_count": null,
   "metadata": {},
   "outputs": [],
   "source": [
    "# JSON normalize dataframe"
   ]
  },
  {
   "cell_type": "markdown",
   "metadata": {},
   "source": [
    "### <a id='toc1_2_3_'></a>[Coincap API](#toc0_)"
   ]
  },
  {
   "cell_type": "markdown",
   "metadata": {},
   "source": [
    "CoinCap is a useful tool for real-time pricing and market activity for over 1,000 cryptocurrencies. Check the documentation at https://docs.coincap.io/"
   ]
  },
  {
   "cell_type": "code",
   "execution_count": null,
   "metadata": {},
   "outputs": [],
   "source": [
    "url = \"http://api.coincap.io/v2/assets\""
   ]
  },
  {
   "cell_type": "code",
   "execution_count": null,
   "metadata": {},
   "outputs": [],
   "source": [
    "# Extract assets"
   ]
  },
  {
   "cell_type": "code",
   "execution_count": null,
   "metadata": {},
   "outputs": [],
   "source": [
    "# Show status code"
   ]
  },
  {
   "cell_type": "code",
   "execution_count": null,
   "metadata": {},
   "outputs": [],
   "source": [
    "# Extract data with JSON"
   ]
  },
  {
   "cell_type": "code",
   "execution_count": null,
   "metadata": {},
   "outputs": [],
   "source": [
    "# Again, let's try to have it as a dataframe"
   ]
  },
  {
   "cell_type": "code",
   "execution_count": null,
   "metadata": {},
   "outputs": [],
   "source": [
    "# Lets see if the result would differ in this case using json_normalize"
   ]
  },
  {
   "cell_type": "markdown",
   "metadata": {},
   "source": [
    "### <a id='toc1_2_4_'></a>[Api Jokes](#toc0_)\n",
    "\n",
    "JokeAPI is a REST API that serves uniformly and well formatted jokes.\n",
    "It can be used without any API token, membership, registration or payment.\n",
    "It supports a variety of filters that can be applied to get just the right jokes you need.\n",
    "Check the documentation here: https://jokeapi.dev/ "
   ]
  },
  {
   "cell_type": "code",
   "execution_count": null,
   "metadata": {},
   "outputs": [],
   "source": [
    "url_random_joke = \"https://v2.jokeapi.dev/joke/dark?amount=3\"\n",
    "request = requests.get(url_random_joke).json()\n",
    "request"
   ]
  },
  {
   "cell_type": "markdown",
   "metadata": {},
   "source": [
    "### <a id='toc1_2_5_'></a>[💡 Check for understanding](#toc0_)\n"
   ]
  },
  {
   "cell_type": "markdown",
   "metadata": {},
   "source": [
    "Choose one API from the [Public APIs list](https://github.com/public-apis/public-apis). Attempt to call your selected API, either with or without parameters, and retrieve some valuable information. Document your findings."
   ]
  },
  {
   "cell_type": "code",
   "execution_count": null,
   "metadata": {},
   "outputs": [],
   "source": [
    "# Your answer goes here"
   ]
  },
  {
   "cell_type": "markdown",
   "metadata": {},
   "source": [
    "## API Wrappers"
   ]
  },
  {
   "cell_type": "markdown",
   "metadata": {},
   "source": [
    "A Python wrapper is a Python library or module that provides a more convenient or more \"Pythonic\" interface to another software component, such as a library in another language, a system tool, or a web API. It \"wraps\" the functionality of that component in a way that abstracts away its complexities and makes it easier to use in a Python context. 🙌🏻\n",
    "\n",
    "One example is the `tweepy` library, which makes obtaining data from Twitter's API relatively straightforward."
   ]
  },
  {
   "cell_type": "markdown",
   "metadata": {},
   "source": [
    "## <a id='toc1_3_'></a>[Summary](#toc0_)\n",
    "- Import the `requests` library.\n",
    "- Store the necessary credentials, such as API key or OAuth tokens, if the API requires them.\n",
    "- Execute a `request.get` to the desired API endpoint (the API's documentation will provide details on available endpoints).\n",
    "- The API returns a JSON response.\n",
    "- This JSON can be converted into a dataframe, or you can further explore its elements (typically a list of dictionaries)."
   ]
  },
  {
   "cell_type": "markdown",
   "metadata": {},
   "source": [
    "## <a id='toc1_4_'></a>[Glossary](#toc0_)"
   ]
  },
  {
   "cell_type": "markdown",
   "metadata": {},
   "source": [
    "* DNS: domain name system.\n",
    "* HTTP: is the protocol used to transfer data over the web.\n",
    "* API: application programming interface.\n",
    "* REST: series of rules, architectural style."
   ]
  },
  {
   "cell_type": "markdown",
   "metadata": {},
   "source": [
    "* `requests`: Python library for interacting with APIs.\n",
    "* URL: server name you want to ask information for.\n",
    "* endpoint: server service you want to ask information for.\n",
    "* parameters: extra parameters to your query.\n",
    "* headers: metadata, invisible information."
   ]
  },
  {
   "cell_type": "markdown",
   "metadata": {},
   "source": [
    "## <a id='toc1_5_'></a>[Further materials](#toc0_)"
   ]
  },
  {
   "cell_type": "markdown",
   "metadata": {},
   "source": [
    "[5 Simple-To-Use APIs for Beginners](https://dev.to/alanconstantino/5-simple-to-use-apis-for-beginners-2e0n)"
   ]
  }
 ],
 "metadata": {
  "kernelspec": {
   "display_name": "base",
   "language": "python",
   "name": "python3"
  },
  "language_info": {
   "codemirror_mode": {
    "name": "ipython",
    "version": 3
   },
   "file_extension": ".py",
   "mimetype": "text/x-python",
   "name": "python",
   "nbconvert_exporter": "python",
   "pygments_lexer": "ipython3",
   "version": "3.9.13"
  },
  "orig_nbformat": 4
 },
 "nbformat": 4,
 "nbformat_minor": 2
}
