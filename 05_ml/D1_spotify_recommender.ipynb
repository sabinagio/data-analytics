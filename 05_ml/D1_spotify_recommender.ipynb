{
  "cells": [
    {
      "cell_type": "markdown",
      "id": "2a363269",
      "metadata": {},
      "source": [
        "**Table of contents**<a id='toc0_'></a>    \n",
        "- [🌐 Spotify Recommender System](#toc1_)    \n",
        "  - [Getting the data](#toc1_1_)    \n",
        "    - [Connect to the API](#toc1_1_1_)    \n",
        "    - [Spotify search](#toc1_1_2_)    \n",
        "    - [Get song information (audio features)](#toc1_1_3_)    \n",
        "    - [Get album information (audio features of its songs)](#toc1_1_4_)    \n",
        "    - [Get playlist information](#toc1_1_5_)    \n",
        "    - [Playlist -> Album -> Songs -> Audio Features](#toc1_1_6_)    \n",
        "  - [Unsupervised learning (clustering)](#toc1_2_)    \n",
        "  - [Create the recommendation engine](#toc1_3_)    \n",
        "- [Acknowledgments](#toc2_)    \n",
        "\n",
        "<!-- vscode-jupyter-toc-config\n",
        "\tnumbering=false\n",
        "\tanchor=true\n",
        "\tflat=false\n",
        "\tminLevel=1\n",
        "\tmaxLevel=6\n",
        "\t/vscode-jupyter-toc-config -->\n",
        "<!-- THIS CELL WILL BE REPLACED ON TOC UPDATE. DO NOT WRITE YOUR TEXT IN THIS CELL -->"
      ]
    },
    {
      "cell_type": "markdown",
      "id": "ddf6ad50",
      "metadata": {},
      "source": [
        "# <a id='toc1_'></a>[🌐 Spotify Recommender System](#toc0_)"
      ]
    },
    {
      "cell_type": "code",
      "execution_count": null,
      "id": "oQ94a5tjRXIG",
      "metadata": {
        "colab": {
          "base_uri": "https://localhost:8080/"
        },
        "id": "oQ94a5tjRXIG",
        "outputId": "2eba8f4d-6a1d-4ab7-b6b1-4cf2e839e64a"
      },
      "outputs": [],
      "source": [
        "# You know the drill\n",
        "# !pip install spotipy"
      ]
    },
    {
      "cell_type": "code",
      "execution_count": null,
      "id": "c0e2b16e",
      "metadata": {},
      "outputs": [],
      "source": [
        "import numpy as np\n",
        "import pandas as pd\n",
        "import random\n",
        "import warnings\n",
        "import spotipy\n",
        "from spotipy.oauth2 import SpotifyClientCredentials\n",
        "from sklearn.preprocessing import MinMaxScaler\n",
        "from sklearn.cluster import KMeans\n",
        "import time\n",
        "import getpass\n",
        "from yellowbrick.cluster import KElbowVisualizer\n",
        "\n",
        "warnings.filterwarnings('ignore')"
      ]
    },
    {
      "cell_type": "markdown",
      "id": "6d4cf90e",
      "metadata": {},
      "source": [
        "## <a id='toc1_1_'></a>[Getting the data](#toc0_)"
      ]
    },
    {
      "cell_type": "markdown",
      "id": "bbc16075",
      "metadata": {},
      "source": [
        "Spotify has an API with a dedicated API wrapper called `spotipy` (ha, get it?), which can be used to retrieve songs, albums, and artist information. Additionally, Spotify has developed a couple of features for the tracks (liveness, instrumentalness, etc.) which are very useful in machine learning applications as the one we'll do today!"
      ]
    },
    {
      "cell_type": "markdown",
      "id": "ded04bec",
      "metadata": {},
      "source": [
        "Firstly, we will connect to the Spotify API using our credentials:"
      ]
    },
    {
      "cell_type": "code",
      "execution_count": null,
      "id": "d6858155",
      "metadata": {
        "id": "d6858155",
        "outputId": "a491e789-aca2-44bb-8fa3-23afc5e2ff70"
      },
      "outputs": [],
      "source": [
        "# Remember, you don't want other people to see your password!\n",
        "client_id = getpass.getpass()"
      ]
    },
    {
      "cell_type": "code",
      "execution_count": null,
      "id": "f915fa2a",
      "metadata": {
        "id": "f915fa2a",
        "outputId": "779fd359-f479-4336-8c32-e49d1a4989d2"
      },
      "outputs": [],
      "source": [
        "client_secret = getpass.getpass()"
      ]
    },
    {
      "cell_type": "markdown",
      "id": "5f34c281",
      "metadata": {},
      "source": [
        "### <a id='toc1_1_1_'></a>[Connect to the API](#toc0_)"
      ]
    },
    {
      "cell_type": "code",
      "execution_count": null,
      "id": "c805e4df",
      "metadata": {},
      "outputs": [],
      "source": [
        "spotify = spotipy.Spotify(\n",
        "    client_credentials_manager=SpotifyClientCredentials(\n",
        "        client_id=client_id,\n",
        "        client_secret=client_secret))"
      ]
    },
    {
      "cell_type": "markdown",
      "id": "13631a09",
      "metadata": {},
      "source": [
        "### <a id='toc1_1_2_'></a>[Spotify search](#toc0_)"
      ]
    },
    {
      "cell_type": "markdown",
      "id": "c738a6e1",
      "metadata": {},
      "source": [
        "We can run a search similarly to how we would in the Spotify app:"
      ]
    },
    {
      "cell_type": "code",
      "execution_count": null,
      "id": "3550cd31",
      "metadata": {
        "hidden": true,
        "id": "3550cd31"
      },
      "outputs": [],
      "source": [
        "song = spotify.search(q=\"Bohemian Rhapsody\", limit=3)"
      ]
    },
    {
      "cell_type": "code",
      "execution_count": null,
      "id": "814c7129",
      "metadata": {},
      "outputs": [],
      "source": [
        "song"
      ]
    },
    {
      "cell_type": "markdown",
      "id": "0f4bd957",
      "metadata": {},
      "source": [
        "The outputs of all Spotify API calls will be JSON files, which can be treated as dictionaries:"
      ]
    },
    {
      "cell_type": "code",
      "execution_count": null,
      "id": "f42d95f4",
      "metadata": {
        "hidden": true,
        "id": "f42d95f4",
        "outputId": "b9184add-8054-479c-b0ea-9731e90e7794"
      },
      "outputs": [],
      "source": [
        "song.keys()"
      ]
    },
    {
      "cell_type": "code",
      "execution_count": null,
      "id": "217055b1",
      "metadata": {},
      "outputs": [],
      "source": [
        "song['tracks']"
      ]
    },
    {
      "cell_type": "markdown",
      "id": "f1798e1c",
      "metadata": {},
      "source": [
        "We notice that `song['tracks']` is also a dictionary, so we can repeat the process:"
      ]
    },
    {
      "cell_type": "code",
      "execution_count": null,
      "id": "e0ab03f2",
      "metadata": {
        "hidden": true,
        "id": "e0ab03f2",
        "outputId": "c6d5367c-5a8b-4f84-9901-67241c23076b"
      },
      "outputs": [],
      "source": [
        "song[\"tracks\"].keys()"
      ]
    },
    {
      "cell_type": "markdown",
      "id": "3e50555e",
      "metadata": {},
      "source": [
        "We have a couple of keys here:\n",
        "- `limit` - the song limit\n",
        "- `href` - a link to the web API endpoint returning the full result of the request\n",
        "- `previous` - URL of the previous page of items\n",
        "- `next` - URL to the next page of items\n",
        "- `offset` - the offset of items returned from the 0th page\n",
        "- `total` - total results available"
      ]
    },
    {
      "cell_type": "markdown",
      "id": "aad5014e",
      "metadata": {},
      "source": [
        "In tracks-items we have the number of hits we got from the search:"
      ]
    },
    {
      "cell_type": "code",
      "execution_count": null,
      "id": "f36c71f0",
      "metadata": {
        "hidden": true,
        "id": "f36c71f0",
        "outputId": "2378a383-4e0a-4b4b-aaad-d65b4fcfbfe5"
      },
      "outputs": [],
      "source": [
        "len(song[\"tracks\"][\"items\"]) # As we expected, this is equal to 3"
      ]
    },
    {
      "cell_type": "markdown",
      "id": "5946929d",
      "metadata": {},
      "source": [
        "We can select the first element and keep inspecting:"
      ]
    },
    {
      "cell_type": "code",
      "execution_count": null,
      "id": "b75fea80",
      "metadata": {
        "hidden": true,
        "id": "b75fea80",
        "outputId": "52d9c6f9-43b0-4e1c-86e4-c7bbe8b7c808"
      },
      "outputs": [],
      "source": [
        "song[\"tracks\"][\"items\"][0].keys()"
      ]
    },
    {
      "cell_type": "markdown",
      "id": "9975a93a",
      "metadata": {},
      "source": [
        "Now we have many more details about the specific songs, including some very relevant ones such as `album`, `artists`, `name`, and `uri`. URIs are Unique Resource Identifiers and Spotify has unique URIs for songs, albums, and playlists."
      ]
    },
    {
      "cell_type": "code",
      "execution_count": null,
      "id": "8c7b56b3",
      "metadata": {
        "hidden": true,
        "id": "8c7b56b3",
        "outputId": "a9e29f29-d79b-489f-cadb-692f476ceea8"
      },
      "outputs": [],
      "source": [
        "song[\"tracks\"][\"items\"][0][\"artists\"][0].keys()"
      ]
    },
    {
      "cell_type": "markdown",
      "id": "8309705f",
      "metadata": {},
      "source": [
        "Who were the artists playing Bohemian Rhapsody?"
      ]
    },
    {
      "cell_type": "code",
      "execution_count": null,
      "id": "be013f65",
      "metadata": {},
      "outputs": [],
      "source": [
        "song[\"tracks\"][\"items\"][0][\"artists\"][0][\"name\"]"
      ]
    },
    {
      "cell_type": "markdown",
      "id": "509c463b",
      "metadata": {},
      "source": [
        "![](https://media3.giphy.com/media/dhgg2GTU8pv8vmkdiW/giphy.gif?cid=ecf05e47vh8cfhakzo9clp91r1cewyp82u0r9o80g319kfgj&ep=v1_gifs_search&rid=giphy.gif&ct=g)"
      ]
    },
    {
      "cell_type": "markdown",
      "id": "f8961a20",
      "metadata": {},
      "source": [
        "### <a id='toc1_1_3_'></a>[Get song information (audio features)](#toc0_)"
      ]
    },
    {
      "cell_type": "markdown",
      "id": "521ff620",
      "metadata": {},
      "source": [
        "Now that we've learnt how to access songs using Spotify's search function, we will extract audio features to build our subsequent clustering model. This time, instead of querying for a specific song, I'm using a link taken directly from Spotify:"
      ]
    },
    {
      "cell_type": "code",
      "execution_count": null,
      "id": "9aae6b2a",
      "metadata": {
        "id": "9aae6b2a"
      },
      "outputs": [],
      "source": [
        "song = spotify.track(\"https://open.spotify.com/track/6YMPu36VGIknb8Ey1ohW3j\")"
      ]
    },
    {
      "cell_type": "code",
      "execution_count": null,
      "id": "e6d6c8bf",
      "metadata": {
        "id": "e6d6c8bf",
        "outputId": "71357de8-f2c7-40ff-a8e3-5c36b28ea680"
      },
      "outputs": [],
      "source": [
        "song.keys()"
      ]
    },
    {
      "cell_type": "markdown",
      "id": "76ae1765",
      "metadata": {},
      "source": [
        "What song is it? :D"
      ]
    },
    {
      "cell_type": "code",
      "execution_count": null,
      "id": "f2397faf",
      "metadata": {
        "id": "f2397faf",
        "outputId": "1b97f2fb-e544-4ec7-ed39-9ca8aa08ecfb"
      },
      "outputs": [],
      "source": [
        "# Find out what the song is!"
      ]
    },
    {
      "cell_type": "markdown",
      "id": "1b87daae",
      "metadata": {},
      "source": [
        "After retrieving the song, I can get its URI to further extract audio features:"
      ]
    },
    {
      "cell_type": "code",
      "execution_count": null,
      "id": "269d08c5",
      "metadata": {
        "id": "269d08c5",
        "outputId": "6485796f-47a9-43d9-c3a5-69d379fb2734"
      },
      "outputs": [],
      "source": [
        "# So... what is the URI?\n",
        "\n",
        "# song_uri = "
      ]
    },
    {
      "cell_type": "code",
      "execution_count": null,
      "id": "86a6285e",
      "metadata": {},
      "outputs": [],
      "source": [
        "spotify.audio_features(tracks=[song_uri])[0]"
      ]
    },
    {
      "cell_type": "markdown",
      "id": "bd40aa59",
      "metadata": {},
      "source": [
        "Nice! Now it's time to get even more songs :)"
      ]
    },
    {
      "cell_type": "markdown",
      "id": "eb6981f7",
      "metadata": {},
      "source": [
        "### <a id='toc1_1_4_'></a>[Get album information (audio features of its songs)](#toc0_)"
      ]
    },
    {
      "cell_type": "markdown",
      "id": "8e591521",
      "metadata": {},
      "source": [
        "We can also extract album information using a direct link:"
      ]
    },
    {
      "cell_type": "code",
      "execution_count": null,
      "id": "498b4cd7",
      "metadata": {
        "hidden": true,
        "id": "498b4cd7"
      },
      "outputs": [],
      "source": [
        "album = spotify.album_tracks(\"https://open.spotify.com/album/2WT1pbYjLJciAR26yMebkH?si=Iqlrze6XRM6FfZQWfmRq3A\")"
      ]
    },
    {
      "cell_type": "markdown",
      "id": "68f8e19e",
      "metadata": {},
      "source": [
        "and explore the JSON again:"
      ]
    },
    {
      "cell_type": "code",
      "execution_count": null,
      "id": "65c0c465",
      "metadata": {
        "hidden": true,
        "id": "65c0c465",
        "outputId": "f104f7ec-7219-4db0-ace6-fb879113aed1"
      },
      "outputs": [],
      "source": [
        "album.keys()"
      ]
    },
    {
      "cell_type": "code",
      "execution_count": null,
      "id": "16cde5ce",
      "metadata": {
        "hidden": true,
        "id": "16cde5ce",
        "outputId": "07f32f13-aadb-4fc8-ab47-26a48f74e017"
      },
      "outputs": [],
      "source": [
        "# This is the number of songs in the album\n",
        "len(album[\"items\"])"
      ]
    },
    {
      "cell_type": "markdown",
      "id": "e17db077",
      "metadata": {},
      "source": [
        "We can explore details about the first song:"
      ]
    },
    {
      "cell_type": "code",
      "execution_count": null,
      "id": "da83891b",
      "metadata": {
        "hidden": true,
        "id": "da83891b",
        "outputId": "a3994bbc-c06f-4032-f188-ef7595c5e543"
      },
      "outputs": [],
      "source": [
        "album[\"items\"][0].keys()"
      ]
    },
    {
      "cell_type": "code",
      "execution_count": null,
      "id": "aa9cde77",
      "metadata": {
        "hidden": true,
        "id": "aa9cde77",
        "outputId": "180eb6dd-1857-4e89-991e-dd1d13834dcf"
      },
      "outputs": [],
      "source": [
        "album[\"items\"][0][\"name\"]"
      ]
    },
    {
      "cell_type": "markdown",
      "id": "330ff86f",
      "metadata": {},
      "source": [
        "Now we can get the titles of all songs in the album:"
      ]
    },
    {
      "cell_type": "code",
      "execution_count": null,
      "id": "598e47da",
      "metadata": {
        "hidden": true,
        "id": "598e47da",
        "outputId": "55b0bf8c-24d6-428a-a01d-aee181f87a56"
      },
      "outputs": [],
      "source": [
        "for song in album[\"items\"]:\n",
        "    print(song[\"name\"])"
      ]
    },
    {
      "cell_type": "markdown",
      "id": "3affc875",
      "metadata": {},
      "source": [
        "We will get the URIs using a list comprehension so we can later extract the audio features:"
      ]
    },
    {
      "cell_type": "code",
      "execution_count": null,
      "id": "64f21eba",
      "metadata": {
        "hidden": true,
        "id": "64f21eba"
      },
      "outputs": [],
      "source": [
        "album_uris = [song[\"uri\"] for song in album[\"items\"]]"
      ]
    },
    {
      "cell_type": "code",
      "execution_count": null,
      "id": "c3ccedaa",
      "metadata": {
        "hidden": true,
        "id": "c3ccedaa"
      },
      "outputs": [],
      "source": [
        "album_track_feat = [spotify.audio_features(uri)[0] for uri in album_uris]"
      ]
    },
    {
      "cell_type": "code",
      "execution_count": null,
      "id": "fd99cecd",
      "metadata": {
        "hidden": true,
        "id": "fd99cecd",
        "outputId": "991ae799-64d8-44ed-a57c-bf9502da0f23"
      },
      "outputs": [],
      "source": [
        "len(album_track_feat)"
      ]
    },
    {
      "cell_type": "code",
      "execution_count": null,
      "id": "4467c05b",
      "metadata": {},
      "outputs": [],
      "source": [
        "pd.DataFrame(album_track_feat)"
      ]
    },
    {
      "cell_type": "markdown",
      "id": "f81e064d",
      "metadata": {},
      "source": [
        "### <a id='toc1_1_5_'></a>[Get playlist information](#toc0_)"
      ]
    },
    {
      "cell_type": "markdown",
      "id": "1fb6205a",
      "metadata": {},
      "source": [
        "We can apply the same strategy to extract all the songs from a playlist:"
      ]
    },
    {
      "cell_type": "code",
      "execution_count": null,
      "id": "42dce84e",
      "metadata": {
        "hidden": true,
        "id": "42dce84e"
      },
      "outputs": [],
      "source": [
        "list_items = spotify.playlist_items(\"https://open.spotify.com/playlist/37i9dQZEVXbMDoHDwVN2tF?si=15bc8d87f6bf4560\")"
      ]
    },
    {
      "cell_type": "code",
      "execution_count": null,
      "id": "a874f4f5",
      "metadata": {
        "hidden": true,
        "id": "a874f4f5",
        "outputId": "e909e4d9-8404-4613-c9b3-747917bc58ed"
      },
      "outputs": [],
      "source": [
        "list_items.keys()"
      ]
    },
    {
      "cell_type": "code",
      "execution_count": null,
      "id": "18e01283",
      "metadata": {
        "hidden": true,
        "id": "18e01283",
        "outputId": "40dc888b-2e26-4ccd-c6c5-a4587f6a5227"
      },
      "outputs": [],
      "source": [
        "len(list_items[\"items\"])"
      ]
    },
    {
      "cell_type": "code",
      "execution_count": null,
      "id": "8fd410d7",
      "metadata": {
        "hidden": true,
        "id": "8fd410d7",
        "outputId": "903f5e81-4441-4c45-e40c-6ee6940af35b"
      },
      "outputs": [],
      "source": [
        "list_items[\"items\"][0].keys()"
      ]
    },
    {
      "cell_type": "code",
      "execution_count": null,
      "id": "23edb824",
      "metadata": {
        "hidden": true,
        "id": "23edb824",
        "outputId": "809764e8-cea9-4882-89c4-81db17772785"
      },
      "outputs": [],
      "source": [
        "list_items[\"items\"][0][\"track\"].keys()"
      ]
    },
    {
      "cell_type": "code",
      "execution_count": null,
      "id": "14ad8ca4",
      "metadata": {
        "hidden": true,
        "id": "14ad8ca4",
        "outputId": "1220ef61-6902-44ae-d4b2-efce39d06797"
      },
      "outputs": [],
      "source": [
        "list_items[\"items\"][0][\"track\"][\"name\"]"
      ]
    },
    {
      "cell_type": "code",
      "execution_count": null,
      "id": "3a67337f",
      "metadata": {
        "hidden": true,
        "id": "3a67337f",
        "outputId": "fb96d281-bcb5-4879-b4aa-573f94369597"
      },
      "outputs": [],
      "source": [
        "list_items[\"items\"][0][\"track\"][\"album\"].keys()"
      ]
    },
    {
      "cell_type": "code",
      "execution_count": null,
      "id": "9de10960",
      "metadata": {},
      "outputs": [],
      "source": [
        "list_items[\"items\"][0][\"track\"][\"album\"][\"uri\"]"
      ]
    },
    {
      "cell_type": "markdown",
      "id": "11d833c2",
      "metadata": {},
      "source": [
        "### <a id='toc1_1_6_'></a>[Playlist -> Album -> Songs -> Audio Features](#toc0_)"
      ]
    },
    {
      "cell_type": "markdown",
      "id": "fdcc24c2",
      "metadata": {},
      "source": [
        "Now we will combine all the previous steps together to build up a music dataset. We will extract all the songs in a playlist, then all the songs for each of their albums. For all the songs we collect, we will create a database with audio features that we can use later on: "
      ]
    },
    {
      "cell_type": "code",
      "execution_count": null,
      "id": "119874b9",
      "metadata": {
        "hidden": true,
        "id": "119874b9"
      },
      "outputs": [],
      "source": [
        "list_items = spotify.playlist_items(\"https://open.spotify.com/playlist/37i9dQZEVXbMDoHDwVN2tF?si=5f944fd835e14197\")"
      ]
    },
    {
      "cell_type": "code",
      "execution_count": null,
      "id": "13899a7f",
      "metadata": {
        "hidden": true,
        "id": "13899a7f",
        "outputId": "7fda9d88-8eff-47e0-a1f6-638fb9db6307"
      },
      "outputs": [],
      "source": [
        "list_items[\"items\"][0].keys()"
      ]
    },
    {
      "cell_type": "code",
      "execution_count": null,
      "id": "44c777de",
      "metadata": {
        "hidden": true,
        "id": "44c777de",
        "outputId": "e100f11a-4bb4-4548-e797-d66a675ac307"
      },
      "outputs": [],
      "source": [
        "for item in list_items[\"items\"]:\n",
        "    print(item[\"track\"][\"album\"][\"name\"])"
      ]
    },
    {
      "cell_type": "markdown",
      "id": "19b56a18",
      "metadata": {},
      "source": [
        "From the playlist info, we can get all the album's URI:"
      ]
    },
    {
      "cell_type": "code",
      "execution_count": null,
      "id": "c59e963a",
      "metadata": {
        "hidden": true,
        "id": "c59e963a"
      },
      "outputs": [],
      "source": [
        "album_uris = [item[\"track\"][\"album\"][\"uri\"] for item in list_items[\"items\"]]"
      ]
    },
    {
      "cell_type": "markdown",
      "id": "86cad708",
      "metadata": {},
      "source": [
        "Then, with the album URIs, we can get all the songs:"
      ]
    },
    {
      "cell_type": "code",
      "execution_count": null,
      "id": "9cd0dc3b",
      "metadata": {
        "hidden": true,
        "id": "9cd0dc3b"
      },
      "outputs": [],
      "source": [
        "albums = [spotify.album_tracks(uri) for uri in album_uris]"
      ]
    },
    {
      "cell_type": "code",
      "execution_count": null,
      "id": "2dfae627",
      "metadata": {
        "hidden": true,
        "id": "2dfae627",
        "outputId": "dc8ed486-6c41-451a-e05f-4373bc915c8e"
      },
      "outputs": [],
      "source": [
        "# I can check all the songs my dataset will have and count them\n",
        "count = 0\n",
        "for album in albums:\n",
        "    for song in album[\"items\"]:\n",
        "        count += 1\n",
        "        print(song[\"name\"])"
      ]
    },
    {
      "cell_type": "code",
      "execution_count": null,
      "id": "d0990853",
      "metadata": {
        "hidden": true,
        "id": "d0990853",
        "outputId": "1b57cc4c-9dea-4b1b-9f68-3ee2be2cfaeb"
      },
      "outputs": [],
      "source": [
        "count # How many songs did we get?"
      ]
    },
    {
      "cell_type": "markdown",
      "id": "c64207ec",
      "metadata": {},
      "source": [
        "Now we can get all the song URIs to later extract the audio features:"
      ]
    },
    {
      "cell_type": "code",
      "execution_count": null,
      "id": "ef913892",
      "metadata": {
        "hidden": true,
        "id": "ef913892"
      },
      "outputs": [],
      "source": [
        "song_uris = [song[\"uri\"] for album in albums for song in album[\"items\"]]"
      ]
    },
    {
      "cell_type": "code",
      "execution_count": null,
      "id": "eedf69e5",
      "metadata": {
        "hidden": true,
        "id": "eedf69e5",
        "outputId": "b98b1469-e403-401e-9f76-9ed6956f521e"
      },
      "outputs": [],
      "source": [
        "len(song_uris)"
      ]
    },
    {
      "cell_type": "code",
      "execution_count": null,
      "id": "a269e2bf",
      "metadata": {
        "hidden": true,
        "id": "a269e2bf"
      },
      "outputs": [],
      "source": [
        "songs_feat = [spotify.audio_features(uri)[0] for uri in song_uris]"
      ]
    },
    {
      "cell_type": "code",
      "execution_count": null,
      "id": "fb6d975e",
      "metadata": {
        "hidden": true,
        "id": "fb6d975e",
        "outputId": "c1acc3f7-7220-480a-d6dc-1134f6738b0a"
      },
      "outputs": [],
      "source": [
        "len(songs_feat)"
      ]
    },
    {
      "cell_type": "code",
      "execution_count": null,
      "id": "b033521e",
      "metadata": {
        "hidden": true,
        "id": "b033521e",
        "outputId": "79411c55-8689-48ea-c1f0-d5bb3dedc6e3",
        "scrolled": true
      },
      "outputs": [],
      "source": [
        "songs_feat[0]"
      ]
    },
    {
      "cell_type": "markdown",
      "id": "5041ffe3",
      "metadata": {},
      "source": [
        "There are some songs that do not return any results, so we will remove those:"
      ]
    },
    {
      "cell_type": "code",
      "execution_count": null,
      "id": "9f0f2d17",
      "metadata": {},
      "outputs": [],
      "source": [
        "while None in songs_feat:\n",
        "    songs_feat.remove(None)"
      ]
    },
    {
      "cell_type": "code",
      "execution_count": null,
      "id": "ab282118",
      "metadata": {
        "hidden": true,
        "id": "ab282118"
      },
      "outputs": [],
      "source": [
        "songs_feat_df = pd.DataFrame(songs_feat)"
      ]
    },
    {
      "cell_type": "markdown",
      "id": "7506c8a1",
      "metadata": {},
      "source": [
        "We can wrap all of the previous steps in a function to more easily extract audio features from a given playlist:"
      ]
    },
    {
      "cell_type": "code",
      "execution_count": null,
      "id": "3dcbc9a0",
      "metadata": {
        "hidden": true,
        "id": "3dcbc9a0"
      },
      "outputs": [],
      "source": [
        "def get_features_from_playlist(url):\n",
        "    list_items = spotify.playlist_items(url)\n",
        "    album_uris = [item[\"track\"][\"album\"][\"uri\"] for item in list_items[\"items\"]]\n",
        "    albums = [spotify.album_tracks(uri) for uri in album_uris]\n",
        "    song_uris = [song[\"uri\"] for album in albums for song in album[\"items\"]]\n",
        "    song_name = [song[\"name\"] for album in albums for song in album[\"items\"]]\n",
        "    song_artist = [song[\"artists\"][0][\"name\"] for album in albums for song in album[\"items\"]]\n",
        "    song_feat = [spotify.audio_features(uri)[0] for uri in song_uris]\n",
        "\n",
        "    while None in songs_feat:\n",
        "        songs_feat.remove(None)\n",
        "\n",
        "    name_df = pd.DataFrame(song_name)\n",
        "    name_df.columns = [\"name\"]\n",
        "    artist_df = pd.DataFrame(song_artist)\n",
        "    artist_df.columns = [\"artist\"]\n",
        "    feat_df = pd.DataFrame(songs_feat)#_ok)\n",
        "\n",
        "    final_df = pd.concat([name_df, artist_df, feat_df], axis = 1)\n",
        "\n",
        "    return pd.DataFrame(final_df)"
      ]
    },
    {
      "cell_type": "markdown",
      "id": "50136a0b",
      "metadata": {},
      "source": [
        "Let's test it:"
      ]
    },
    {
      "cell_type": "code",
      "execution_count": null,
      "id": "05b6b434",
      "metadata": {
        "hidden": true,
        "id": "05b6b434"
      },
      "outputs": [],
      "source": [
        "my_df = get_features_from_playlist(\"https://open.spotify.com/playlist/37i9dQZEVXbMDoHDwVN2tF?si=94f82b9354d2421b\")"
      ]
    },
    {
      "cell_type": "markdown",
      "id": "58ff1efe",
      "metadata": {},
      "source": [
        "Review dataframe characteristics:"
      ]
    },
    {
      "cell_type": "code",
      "execution_count": null,
      "id": "31db461d",
      "metadata": {
        "hidden": true,
        "id": "31db461d",
        "outputId": "a2429c36-452f-479a-8830-35c103cc97a6"
      },
      "outputs": [],
      "source": [
        "my_df.shape"
      ]
    },
    {
      "cell_type": "code",
      "execution_count": null,
      "id": "01caf05f",
      "metadata": {
        "hidden": true,
        "id": "01caf05f",
        "outputId": "28c205b4-4758-4b3c-bc95-7c139a1c9b17",
        "scrolled": true
      },
      "outputs": [],
      "source": [
        "my_df.head()"
      ]
    },
    {
      "cell_type": "code",
      "execution_count": null,
      "id": "1466ed72",
      "metadata": {
        "hidden": true,
        "id": "1466ed72",
        "outputId": "260050e3-2289-44d4-b812-798c2d2304e1"
      },
      "outputs": [],
      "source": [
        "my_df.isna().sum()"
      ]
    },
    {
      "cell_type": "markdown",
      "id": "b06b5fbc",
      "metadata": {},
      "source": [
        "We can fully remove songs with no features:"
      ]
    },
    {
      "cell_type": "code",
      "execution_count": null,
      "id": "738c540f",
      "metadata": {
        "hidden": true,
        "id": "738c540f"
      },
      "outputs": [],
      "source": [
        "my_df = my_df.dropna()"
      ]
    },
    {
      "cell_type": "code",
      "execution_count": null,
      "id": "79015ee6",
      "metadata": {
        "hidden": true,
        "id": "79015ee6",
        "outputId": "ed6db602-cbf1-4f28-c71b-553e9cfffce8",
        "scrolled": true
      },
      "outputs": [],
      "source": [
        "my_df.dtypes"
      ]
    },
    {
      "cell_type": "markdown",
      "id": "a3ce3dbf",
      "metadata": {},
      "source": [
        "For our model, we only require the audio features, which are numeric, so we can filter out the rest:"
      ]
    },
    {
      "cell_type": "code",
      "execution_count": null,
      "id": "91284ee0",
      "metadata": {
        "hidden": true,
        "id": "91284ee0"
      },
      "outputs": [],
      "source": [
        "my_df_num = my_df.select_dtypes(include=np.number)"
      ]
    },
    {
      "cell_type": "code",
      "execution_count": null,
      "id": "04439062",
      "metadata": {
        "hidden": true,
        "id": "04439062",
        "outputId": "f92339bb-2b95-43ce-ae49-6ad2bd390867"
      },
      "outputs": [],
      "source": [
        "my_df_num.head()"
      ]
    },
    {
      "cell_type": "markdown",
      "id": "3da5f1aa",
      "metadata": {},
      "source": [
        "`Duration_ms` and `time_signature` are not really interesting parameters to classify the songs so we will drop them:"
      ]
    },
    {
      "cell_type": "code",
      "execution_count": null,
      "id": "c3c2839e",
      "metadata": {},
      "outputs": [],
      "source": [
        "my_df_num = my_df_num.drop(columns = [\"duration_ms\", \"time_signature\"])"
      ]
    },
    {
      "cell_type": "markdown",
      "id": "23dee6d2",
      "metadata": {},
      "source": [
        "## <a id='toc1_2_'></a>[Unsupervised learning (clustering)](#toc0_)"
      ]
    },
    {
      "cell_type": "markdown",
      "id": "a4b67dd8",
      "metadata": {},
      "source": [
        "Scaling"
      ]
    },
    {
      "cell_type": "code",
      "execution_count": null,
      "id": "45b0f5b4",
      "metadata": {
        "hidden": true,
        "id": "45b0f5b4"
      },
      "outputs": [],
      "source": [
        "scaler = MinMaxScaler()\n",
        "data_scaled = scaler.fit_transform(my_df_num)\n",
        "data_scaled = pd.DataFrame(data_scaled, columns=my_df_num.columns)"
      ]
    },
    {
      "cell_type": "code",
      "execution_count": null,
      "id": "cb8b43ec",
      "metadata": {
        "hidden": true,
        "id": "cb8b43ec",
        "outputId": "1372dd61-1d12-42dd-92c6-64748e2ba285"
      },
      "outputs": [],
      "source": [
        "data_scaled.describe()"
      ]
    },
    {
      "cell_type": "markdown",
      "id": "fd8535c9",
      "metadata": {},
      "source": [
        "Clustering - deciding on cluster number:"
      ]
    },
    {
      "cell_type": "code",
      "execution_count": null,
      "id": "399cd542",
      "metadata": {
        "hidden": true,
        "id": "399cd542",
        "outputId": "581ddeab-e178-4a5f-e37f-b35486ec8398"
      },
      "outputs": [],
      "source": [
        "model = KMeans()\n",
        "visualizer = KElbowVisualizer(model, k=(2,20))\n",
        "visualizer.fit(data_scaled)\n",
        "visualizer.poof()"
      ]
    },
    {
      "cell_type": "markdown",
      "id": "672bba6c",
      "metadata": {},
      "source": [
        "With the number of clusters, we fit and predict the clusters for each song:"
      ]
    },
    {
      "cell_type": "code",
      "execution_count": null,
      "id": "1d7b7877",
      "metadata": {
        "hidden": true,
        "id": "1d7b7877"
      },
      "outputs": [],
      "source": [
        "model = KMeans(n_clusters=6)\n",
        "model.fit(data_scaled)\n",
        "clusters = model.predict(data_scaled)"
      ]
    },
    {
      "cell_type": "code",
      "execution_count": null,
      "id": "d212c4ed",
      "metadata": {
        "hidden": true,
        "id": "d212c4ed",
        "outputId": "7a3c7979-8de0-4810-d7e8-e49d671be917"
      },
      "outputs": [],
      "source": [
        "len(clusters)"
      ]
    },
    {
      "cell_type": "code",
      "execution_count": null,
      "id": "0121d632",
      "metadata": {},
      "outputs": [],
      "source": [
        "# Check the clusters\n",
        "clusters"
      ]
    },
    {
      "cell_type": "markdown",
      "id": "6866d622",
      "metadata": {},
      "source": [
        "Now I can add the song clusters to the audio features dataframe to use in song recommendations:"
      ]
    },
    {
      "cell_type": "code",
      "execution_count": null,
      "id": "9a2b130e",
      "metadata": {
        "hidden": true,
        "id": "9a2b130e"
      },
      "outputs": [],
      "source": [
        "my_df[\"clusters\"] = clusters\n",
        "my_df.head(3)"
      ]
    },
    {
      "cell_type": "markdown",
      "id": "4ee036a2",
      "metadata": {},
      "source": [
        "Review cluster distribution:"
      ]
    },
    {
      "cell_type": "code",
      "execution_count": null,
      "id": "425847ec",
      "metadata": {
        "hidden": true,
        "id": "425847ec",
        "outputId": "f4022569-e24f-4675-8207-0b7c2f0262c1"
      },
      "outputs": [],
      "source": [
        "my_df[\"clusters\"].value_counts()"
      ]
    },
    {
      "cell_type": "markdown",
      "id": "653d71a6",
      "metadata": {},
      "source": [
        "One of the strategies we use to recommend similar songs is to select another song from the same cluster:"
      ]
    },
    {
      "cell_type": "code",
      "execution_count": null,
      "id": "72262f68",
      "metadata": {},
      "outputs": [],
      "source": [
        "my_df[my_df[\"clusters\"] == 1]"
      ]
    },
    {
      "cell_type": "markdown",
      "id": "57afc3e3",
      "metadata": {},
      "source": [
        "## <a id='toc1_3_'></a>[Create the recommendation engine](#toc0_)"
      ]
    },
    {
      "cell_type": "markdown",
      "id": "48542b6a",
      "metadata": {},
      "source": [
        "Now, let's put our knowledge in action! We'll ask a user to input a song:"
      ]
    },
    {
      "cell_type": "code",
      "execution_count": null,
      "id": "27d4fa5b",
      "metadata": {
        "hidden": true,
        "id": "27d4fa5b",
        "outputId": "240282ad-dd4c-4c32-d76f-7b869cb0d5ac"
      },
      "outputs": [],
      "source": [
        "query = input(\"Please, input a song name and you will get one recommendation.\")"
      ]
    },
    {
      "cell_type": "code",
      "execution_count": null,
      "id": "8379f183",
      "metadata": {
        "hidden": true,
        "id": "8379f183",
        "outputId": "8818a260-15b9-4f8f-f4d1-ce524210e73d"
      },
      "outputs": [],
      "source": [
        "query"
      ]
    },
    {
      "cell_type": "markdown",
      "id": "2200cd44",
      "metadata": {},
      "source": [
        "And we will use their input to search for a song on Spotify:"
      ]
    },
    {
      "cell_type": "code",
      "execution_count": null,
      "id": "078a4786",
      "metadata": {
        "hidden": true,
        "id": "078a4786"
      },
      "outputs": [],
      "source": [
        "song = spotify.search(q=query, limit=1)"
      ]
    },
    {
      "cell_type": "markdown",
      "id": "3004d228",
      "metadata": {},
      "source": [
        "We will get the audio features for the song to later figure out what cluster it should belong to:"
      ]
    },
    {
      "cell_type": "code",
      "execution_count": null,
      "id": "be43d33c",
      "metadata": {
        "hidden": true,
        "id": "be43d33c",
        "outputId": "46ba3278-af39-47a3-8657-e11a8a91f341"
      },
      "outputs": [],
      "source": [
        "song.keys()"
      ]
    },
    {
      "cell_type": "code",
      "execution_count": null,
      "id": "08e029b8",
      "metadata": {
        "hidden": true,
        "id": "08e029b8",
        "outputId": "6704aae3-c6f1-489e-f543-bef7e7bcda90"
      },
      "outputs": [],
      "source": [
        "song[\"tracks\"].keys()"
      ]
    },
    {
      "cell_type": "code",
      "execution_count": null,
      "id": "7e426615",
      "metadata": {
        "hidden": true,
        "id": "7e426615",
        "outputId": "89cef47d-6511-4cea-f21f-c85de60b8193"
      },
      "outputs": [],
      "source": [
        "song[\"tracks\"][\"items\"][0].keys()"
      ]
    },
    {
      "cell_type": "code",
      "execution_count": null,
      "id": "79c6d050",
      "metadata": {
        "hidden": true,
        "id": "79c6d050",
        "outputId": "535077a5-fe26-4715-8dd1-69dfbeb7c098"
      },
      "outputs": [],
      "source": [
        "song[\"tracks\"][\"items\"][0][\"uri\"]"
      ]
    },
    {
      "cell_type": "markdown",
      "id": "6700c4f5",
      "metadata": {},
      "source": [
        "After extracting the URI, we can use it to get the audio features:"
      ]
    },
    {
      "cell_type": "code",
      "execution_count": null,
      "id": "3babd154",
      "metadata": {
        "hidden": true,
        "id": "3babd154"
      },
      "outputs": [],
      "source": [
        "query_aud_feat = spotify.audio_features(\"spotify:track:0aTVqs93YOmmirMMioFjFA\")\n",
        "query_aud_feat = pd.DataFrame(query_aud_feat[0], index=[0])\n",
        "query_aud_feat"
      ]
    },
    {
      "cell_type": "markdown",
      "id": "9bfd7e3a",
      "metadata": {},
      "source": [
        "Convert the audio features dataframe to the same format as the dataframe we used during training:"
      ]
    },
    {
      "cell_type": "code",
      "execution_count": null,
      "id": "0d6f4d48",
      "metadata": {
        "hidden": true,
        "id": "0d6f4d48",
        "outputId": "64b5c82f-ecad-4c27-a75b-5ac44f47c2a1"
      },
      "outputs": [],
      "source": [
        "query_aud_feat = query_aud_feat.select_dtypes(include=np.number)\n",
        "query_aud_feat = query_aud_feat.drop(columns = [\"duration_ms\", \"time_signature\"])\n",
        "query_aud_feat"
      ]
    },
    {
      "cell_type": "markdown",
      "id": "69803e27",
      "metadata": {},
      "source": [
        "Scale using the previously trained scaler:"
      ]
    },
    {
      "cell_type": "code",
      "execution_count": null,
      "id": "3754d517",
      "metadata": {
        "hidden": true,
        "id": "3754d517",
        "outputId": "826cf03f-f372-4880-bfd3-ab222c090557"
      },
      "outputs": [],
      "source": [
        "query_scaled = scaler.transform(query_aud_feat)"
      ]
    },
    {
      "cell_type": "markdown",
      "id": "37a7798b",
      "metadata": {},
      "source": [
        "And predict the song cluster using our previously trained model:"
      ]
    },
    {
      "cell_type": "code",
      "execution_count": null,
      "id": "384b884d",
      "metadata": {
        "hidden": true,
        "id": "384b884d"
      },
      "outputs": [],
      "source": [
        "query_cluster = model.predict(query_scaled)\n",
        "query_cluster[0]"
      ]
    },
    {
      "cell_type": "markdown",
      "id": "00ac375c",
      "metadata": {},
      "source": [
        "So now we can filter the original dataframe to get all songs form the same cluster:"
      ]
    },
    {
      "cell_type": "code",
      "execution_count": null,
      "id": "71295c4c",
      "metadata": {
        "hidden": true,
        "id": "71295c4c",
        "outputId": "49b09470-5aee-4503-b178-d1ab0c8e0b69"
      },
      "outputs": [],
      "source": [
        "query_same_cluster = my_df[my_df[\"clusters\"] == query_cluster[0]]\n",
        "query_same_cluster.head()"
      ]
    },
    {
      "cell_type": "markdown",
      "id": "43155c1f",
      "metadata": {},
      "source": [
        "Then we can take a random song from the filtered dataset, which will be our recommendation for the user:"
      ]
    },
    {
      "cell_type": "code",
      "execution_count": null,
      "id": "5071cb7f",
      "metadata": {
        "hidden": true,
        "id": "5071cb7f"
      },
      "outputs": [],
      "source": [
        "recommendation = query_same_cluster.sample()\n",
        "recommendation"
      ]
    },
    {
      "cell_type": "markdown",
      "id": "a4c22e90",
      "metadata": {},
      "source": [
        "But we will present it to the user simply using the song name, rather than the full feature dataframe:"
      ]
    },
    {
      "cell_type": "code",
      "execution_count": null,
      "id": "d58cccd6",
      "metadata": {
        "hidden": true,
        "id": "d58cccd6"
      },
      "outputs": [],
      "source": [
        "recom_title = recommendation[\"name\"].item()\n",
        "recom_artist = recommendation[\"artist\"].item()\n",
        "print(f\"You should listen '{recom_title}' from '{recom_artist}'\")"
      ]
    },
    {
      "cell_type": "markdown",
      "id": "b53e600f",
      "metadata": {},
      "source": [
        "Finally, we'll put everything into a function that we can run behind an app (remember what python library we could use for this ;)? ):"
      ]
    },
    {
      "cell_type": "code",
      "execution_count": null,
      "id": "f0283775",
      "metadata": {
        "hidden": true,
        "id": "f0283775"
      },
      "outputs": [],
      "source": [
        "def recommender():\n",
        "    query = input(\"Please, input a song name and you will get one recommendation.\")\n",
        "    song = spotify.search(q=query, limit=1)\n",
        "    song_uri = song[\"tracks\"][\"items\"][0][\"uri\"]\n",
        "    query_aud_feat = spotify.audio_features(song_uri)\n",
        "    query_aud_feat = pd.DataFrame(query_aud_feat[0], index=[0])\n",
        "    query_aud_feat = query_aud_feat.select_dtypes(include=np.number)\n",
        "    query_aud_feat = query_aud_feat.drop(columns = [\"duration_ms\", \"time_signature\"])\n",
        "    query_scaled = scaler.transform(query_aud_feat)\n",
        "    query_cluster = model.predict(query_scaled)\n",
        "    query_same_cluster = my_df[my_df[\"clusters\"] == query_cluster[0]]\n",
        "    recommendation = query_same_cluster.sample()\n",
        "    recom_title = recommendation[\"name\"].item()\n",
        "    recom_artist = recommendation[\"artist\"].item()\n",
        "    return f\"You should listen '{recom_title}' from '{recom_artist}'\""
      ]
    },
    {
      "cell_type": "code",
      "execution_count": null,
      "id": "8e5cf0dd",
      "metadata": {
        "hidden": true,
        "id": "8e5cf0dd",
        "outputId": "caba5a00-c871-42ab-ee41-5c2afd289c0a"
      },
      "outputs": [],
      "source": [
        "recommender()"
      ]
    },
    {
      "cell_type": "markdown",
      "id": "7b365e88",
      "metadata": {},
      "source": [
        "# <a id='toc2_'></a>[Acknowledgments](#toc0_)"
      ]
    },
    {
      "cell_type": "markdown",
      "id": "6f4a747b",
      "metadata": {},
      "source": [
        "Thank you, Miguel SM, for the contents of this lesson!"
      ]
    }
  ],
  "metadata": {
    "colab": {
      "provenance": []
    },
    "kernelspec": {
      "display_name": "Python 3 (ipykernel)",
      "language": "python",
      "name": "python3"
    },
    "language_info": {
      "codemirror_mode": {
        "name": "ipython",
        "version": 3
      },
      "file_extension": ".py",
      "mimetype": "text/x-python",
      "name": "python",
      "nbconvert_exporter": "python",
      "pygments_lexer": "ipython3",
      "version": "3.9.13"
    },
    "toc": {
      "base_numbering": 1,
      "nav_menu": {},
      "number_sections": false,
      "sideBar": true,
      "skip_h1_title": false,
      "title_cell": "Table of Contents",
      "title_sidebar": "Contents",
      "toc_cell": false,
      "toc_position": {},
      "toc_section_display": true,
      "toc_window_display": false
    },
    "varInspector": {
      "cols": {
        "lenName": 16,
        "lenType": 16,
        "lenVar": 40
      },
      "kernels_config": {
        "python": {
          "delete_cmd_postfix": "",
          "delete_cmd_prefix": "del ",
          "library": "var_list.py",
          "varRefreshCmd": "print(var_dic_list())"
        },
        "r": {
          "delete_cmd_postfix": ") ",
          "delete_cmd_prefix": "rm(",
          "library": "var_list.r",
          "varRefreshCmd": "cat(var_dic_list()) "
        }
      },
      "types_to_exclude": [
        "module",
        "function",
        "builtin_function_or_method",
        "instance",
        "_Feature"
      ],
      "window_display": false
    }
  },
  "nbformat": 4,
  "nbformat_minor": 5
}
