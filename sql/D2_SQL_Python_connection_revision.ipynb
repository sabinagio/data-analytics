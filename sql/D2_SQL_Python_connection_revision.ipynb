{
  "cells": [
    {
      "cell_type": "markdown",
      "metadata": {},
      "source": [
        "**Table of contents**<a id='toc0_'></a>    \n",
        "- [Python-SQL connection](#toc1_)    \n",
        "  - [Establish connection with the database](#toc1_1_)    \n",
        "  - [Create cursor that interacts with the database tables](#toc1_2_)    \n",
        "  - [Convert results to dataframe](#toc1_3_)    \n",
        "  - [Edit databases](#toc1_4_)    \n",
        "- [Acknowledgements](#toc2_)    \n",
        "\n",
        "<!-- vscode-jupyter-toc-config\n",
        "\tnumbering=false\n",
        "\tanchor=true\n",
        "\tflat=false\n",
        "\tminLevel=1\n",
        "\tmaxLevel=6\n",
        "\t/vscode-jupyter-toc-config -->\n",
        "<!-- THIS CELL WILL BE REPLACED ON TOC UPDATE. DO NOT WRITE YOUR TEXT IN THIS CELL -->"
      ]
    },
    {
      "cell_type": "markdown",
      "metadata": {},
      "source": [
        "# <a id='toc1_'></a>[Python-SQL connection](#toc0_)"
      ]
    },
    {
      "cell_type": "code",
      "execution_count": null,
      "metadata": {
        "colab": {
          "base_uri": "https://localhost:8080/"
        },
        "id": "osdG4yk1Ubdx",
        "outputId": "6fdd33bd-8b2f-4969-f0b4-37940f4baf9f"
      },
      "outputs": [],
      "source": [
        "# You know the drill\n",
        "# !pip install mysql-connector-python\n",
        "import mysql.connector"
      ]
    },
    {
      "cell_type": "code",
      "execution_count": null,
      "metadata": {
        "colab": {
          "base_uri": "https://localhost:8080/"
        },
        "id": "_vlIjLHclZkF",
        "outputId": "f7f06f76-bf0d-4e5f-f808-b02f0ef9eea9"
      },
      "outputs": [],
      "source": [
        "import getpass\n",
        "saved_password = getpass.getpass()"
      ]
    },
    {
      "cell_type": "markdown",
      "metadata": {},
      "source": [
        "## <a id='toc1_1_'></a>[Establish connection with the database](#toc0_)"
      ]
    },
    {
      "cell_type": "code",
      "execution_count": null,
      "metadata": {
        "colab": {
          "base_uri": "https://localhost:8080/",
          "height": 443
        },
        "id": "WnFxoFdeUbdz",
        "outputId": "57abf281-dac1-433e-82cd-c2bc078192a9"
      },
      "outputs": [],
      "source": [
        "# open the door between python and my databases ->  I specified Sakila\n",
        "cnx = mysql.connector.connect(user='root', password=saved_password, database='sakila', port=3306)"
      ]
    },
    {
      "cell_type": "code",
      "execution_count": null,
      "metadata": {
        "id": "C0QbgaILUbdz",
        "outputId": "29c3ca7d-4814-4c30-e877-c617aabeff84"
      },
      "outputs": [],
      "source": [
        "# check if the connection was successful\n",
        "cnx.is_connected()"
      ]
    },
    {
      "cell_type": "markdown",
      "metadata": {},
      "source": [
        "## <a id='toc1_2_'></a>[Create cursor that interacts with the database tables](#toc0_)"
      ]
    },
    {
      "cell_type": "code",
      "execution_count": null,
      "metadata": {
        "id": "akQuWByWUbd0"
      },
      "outputs": [],
      "source": [
        "# we need to define the object we will use to interact with the database\n",
        "cursor = cnx.cursor(buffered=True)"
      ]
    },
    {
      "cell_type": "code",
      "execution_count": null,
      "metadata": {
        "id": "SxyVawOuUbd0"
      },
      "outputs": [],
      "source": [
        "query = (\"SELECT * FROM sakila.actor;\")\n",
        "cursor.execute(query)\n",
        "results = cursor.fetchall()\n",
        "results"
      ]
    },
    {
      "cell_type": "code",
      "execution_count": null,
      "metadata": {
        "id": "X-LYoYcPUbd1",
        "outputId": "bc3f6436-558c-4a19-8b2f-10c1dc3b68a8"
      },
      "outputs": [],
      "source": [
        "# its a usual python object -> this is our usual playground\n",
        "for element in results:\n",
        "    print('full name: '+element[1]+' '+element[2])"
      ]
    },
    {
      "cell_type": "markdown",
      "metadata": {},
      "source": [
        "## <a id='toc1_3_'></a>[Convert results to dataframe](#toc0_)"
      ]
    },
    {
      "cell_type": "code",
      "execution_count": null,
      "metadata": {
        "id": "IiaASODoUbd1"
      },
      "outputs": [],
      "source": [
        "import pandas as pd\n",
        "actors_df = pd.DataFrame(results)"
      ]
    },
    {
      "cell_type": "code",
      "execution_count": null,
      "metadata": {
        "id": "RcHqtp51Ubd1",
        "outputId": "5c599272-927a-49a2-f34b-d6821d652538"
      },
      "outputs": [],
      "source": [
        "actors_df[\"full name\"] = actors_df[1] + \" \" +  actors_df[2]\n",
        "actors_df"
      ]
    },
    {
      "cell_type": "code",
      "execution_count": null,
      "metadata": {},
      "outputs": [],
      "source": [
        "# Extract directly into pandas\n",
        "query = (\"SELECT * FROM sakila.actor;\")\n",
        "actors_df = pd.read_sql_query(query, con=cnx)\n",
        "actors_df"
      ]
    },
    {
      "cell_type": "code",
      "execution_count": null,
      "metadata": {},
      "outputs": [],
      "source": [
        "actors_df['full_name'] = actors_df['first_name'] + \" \" + actors_df['last_name']"
      ]
    },
    {
      "cell_type": "markdown",
      "metadata": {},
      "source": [
        "## <a id='toc1_4_'></a>[Edit databases](#toc0_)"
      ]
    },
    {
      "cell_type": "code",
      "execution_count": null,
      "metadata": {
        "id": "YyVGcN4qlZka"
      },
      "outputs": [],
      "source": [
        "query = (\"\"\"DROP DATABASE cohort\"\"\")\n",
        "cursor.execute(query)"
      ]
    },
    {
      "cell_type": "code",
      "execution_count": null,
      "metadata": {
        "id": "hMD_wpiLUbd2"
      },
      "outputs": [],
      "source": [
        "query = (\"\"\"CREATE DATABASE cohort\"\"\")\n",
        "cursor.execute(query)"
      ]
    },
    {
      "cell_type": "code",
      "execution_count": null,
      "metadata": {
        "id": "FTQjqx_xUbd2"
      },
      "outputs": [],
      "source": [
        "query = (\"\"\"CREATE TABLE IF NOT EXISTS\n",
        "cohort.demo(\n",
        "student_id INT PRIMARY KEY,\n",
        "student_name VARCHAR(52),\n",
        "email VARCHAR(32) DEFAULT \"john_doe@gmail.com\",\n",
        "coolness INT NOT NULL)\"\"\")\n",
        "cursor.execute(query)"
      ]
    },
    {
      "cell_type": "code",
      "execution_count": null,
      "metadata": {},
      "outputs": [],
      "source": [
        "query = (\"\"\"SELECT * FROM cohort.demo;\"\"\")\n",
        "demo = cursor.execute(query)\n",
        "demo"
      ]
    },
    {
      "cell_type": "code",
      "execution_count": null,
      "metadata": {
        "id": "RiFGIpicUbd3"
      },
      "outputs": [],
      "source": [
        "for index, fullname in zip(actors_df['actor_id'], actors_df['full_name']):\n",
        "    query = f\"\"\"INSERT INTO cohort.demo(student_id, student_name, coolness) VALUES ('{index}', '{fullname}',  10);\"\"\"\n",
        "    cursor.execute(query)"
      ]
    },
    {
      "cell_type": "code",
      "execution_count": null,
      "metadata": {
        "id": "EPwS7hDrUbd3",
        "outputId": "3137bd1a-cf59-490b-e164-00beed65fc62"
      },
      "outputs": [],
      "source": [
        "# Let's try to execute the last query again\n",
        "print(query)\n",
        "cursor.execute(query)"
      ]
    },
    {
      "cell_type": "code",
      "execution_count": null,
      "metadata": {
        "id": "Wbt3VVFwUbd3"
      },
      "outputs": [],
      "source": [
        "# once you have connected to sql and done everything\n",
        "# saving any changes you did on the database\n",
        "cnx.commit()\n",
        "# clear the cursor\n",
        "cursor.close()\n",
        "\n",
        "# closes the door between python and SQL\n",
        "cnx.close()"
      ]
    },
    {
      "cell_type": "code",
      "execution_count": null,
      "metadata": {
        "id": "wZ1hLZiMUbd3",
        "outputId": "6a56014b-9b29-4dd2-cf3f-385b0acda16a"
      },
      "outputs": [],
      "source": [
        "cnx.is_connected()"
      ]
    },
    {
      "cell_type": "markdown",
      "metadata": {},
      "source": [
        "# <a id='toc2_'></a>[Acknowledgements](#toc0_)"
      ]
    },
    {
      "cell_type": "markdown",
      "metadata": {},
      "source": [
        "Thank you, Goncalo Jardim, for your awesome lesson structure and content."
      ]
    }
  ],
  "metadata": {
    "colab": {
      "provenance": []
    },
    "kernelspec": {
      "display_name": "Python 3 (ipykernel)",
      "language": "python",
      "name": "python3"
    },
    "language_info": {
      "codemirror_mode": {
        "name": "ipython",
        "version": 3
      },
      "file_extension": ".py",
      "mimetype": "text/x-python",
      "name": "python",
      "nbconvert_exporter": "python",
      "pygments_lexer": "ipython3",
      "version": "3.9.13"
    },
    "toc": {
      "base_numbering": 1,
      "nav_menu": {},
      "number_sections": true,
      "sideBar": true,
      "skip_h1_title": false,
      "title_cell": "Table of Contents",
      "title_sidebar": "Contents",
      "toc_cell": false,
      "toc_position": {},
      "toc_section_display": true,
      "toc_window_display": false
    }
  },
  "nbformat": 4,
  "nbformat_minor": 0
}
