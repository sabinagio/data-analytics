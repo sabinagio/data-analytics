{
 "cells": [
  {
   "cell_type": "markdown",
   "metadata": {},
   "source": [
    "**Table of contents**<a id='toc0_'></a>    \n",
    "- [Embeddings](#toc1_)    \n",
    "  - [Finding similar words](#toc1_1_)    \n",
    "  - [Combining words to create new meaning](#toc1_2_)    \n",
    "    - [How does it work? Cosine similarity](#toc1_2_1_)    \n",
    "- [Resources](#toc2_)    \n",
    "- [Acknowledgements](#toc3_)    \n",
    "\n",
    "<!-- vscode-jupyter-toc-config\n",
    "\tnumbering=false\n",
    "\tanchor=true\n",
    "\tflat=false\n",
    "\tminLevel=1\n",
    "\tmaxLevel=6\n",
    "\t/vscode-jupyter-toc-config -->\n",
    "<!-- THIS CELL WILL BE REPLACED ON TOC UPDATE. DO NOT WRITE YOUR TEXT IN THIS CELL -->"
   ]
  },
  {
   "cell_type": "markdown",
   "metadata": {},
   "source": [
    "# <a id='toc1_'></a>[Embeddings](#toc0_)"
   ]
  },
  {
   "cell_type": "code",
   "execution_count": null,
   "metadata": {},
   "outputs": [],
   "source": [
    "# You know the drill\n",
    "# !pip install gensim"
   ]
  },
  {
   "cell_type": "code",
   "execution_count": null,
   "metadata": {
    "id": "-i0XtkOg5myQ"
   },
   "outputs": [],
   "source": [
    "import gensim\n",
    "import gensim.downloader as api"
   ]
  },
  {
   "cell_type": "code",
   "execution_count": null,
   "metadata": {
    "id": "bZA8sViHEBQf"
   },
   "outputs": [],
   "source": [
    "# The model I'd like to use but takes a very long time to download...\n",
    "# model_nope = api.load(\"word2vec-google-news-300\")"
   ]
  },
  {
   "cell_type": "code",
   "execution_count": null,
   "metadata": {
    "id": "fXIyyppd6yDO"
   },
   "outputs": [],
   "source": [
    "# ...so we will try a smaller model\n",
    "model = api.load(\"glove-wiki-gigaword-100\")"
   ]
  },
  {
   "cell_type": "markdown",
   "metadata": {},
   "source": [
    "> Each word has an encoding, i.e. a number of abstract features that represent the word:"
   ]
  },
  {
   "cell_type": "code",
   "execution_count": null,
   "metadata": {
    "colab": {
     "base_uri": "https://localhost:8080/"
    },
    "id": "s802Uz9gJqGU",
    "outputId": "e3edcec0-a8f7-4ead-e2b9-b011dbc65067"
   },
   "outputs": [],
   "source": [
    "model['boat']"
   ]
  },
  {
   "cell_type": "code",
   "execution_count": null,
   "metadata": {},
   "outputs": [],
   "source": [
    "len(model['boat'])"
   ]
  },
  {
   "cell_type": "markdown",
   "metadata": {},
   "source": [
    "## <a id='toc1_1_'></a>[Finding similar words](#toc0_)"
   ]
  },
  {
   "cell_type": "markdown",
   "metadata": {},
   "source": [
    "> Which enables you to search for \"similar\" words (words that could occupy the same vector space):"
   ]
  },
  {
   "cell_type": "code",
   "execution_count": null,
   "metadata": {
    "colab": {
     "base_uri": "https://localhost:8080/"
    },
    "id": "YzbTfcKfI7aH",
    "outputId": "34ad6b5b-00ef-4dbe-82a1-c98224a8aeb2"
   },
   "outputs": [],
   "source": [
    "model.most_similar('boat')"
   ]
  },
  {
   "cell_type": "code",
   "execution_count": null,
   "metadata": {
    "colab": {
     "base_uri": "https://localhost:8080/"
    },
    "id": "PGlpLAtnJXLn",
    "outputId": "79acc76f-5930-411e-baae-d61af9d23608"
   },
   "outputs": [],
   "source": [
    "model.most_similar('book')"
   ]
  },
  {
   "cell_type": "markdown",
   "metadata": {},
   "source": [
    "## <a id='toc1_2_'></a>[Combining words to create new meaning](#toc0_)"
   ]
  },
  {
   "cell_type": "code",
   "execution_count": null,
   "metadata": {
    "colab": {
     "base_uri": "https://localhost:8080/"
    },
    "id": "G008d0IJE4k1",
    "outputId": "bb2ded8b-406f-4f96-e369-2b6dff4c88b5"
   },
   "outputs": [],
   "source": [
    "# King is to man what ? is to woman:\n",
    "model.most_similar(positive=['woman','king'], negative=['man'], topn=1)"
   ]
  },
  {
   "cell_type": "code",
   "execution_count": null,
   "metadata": {
    "colab": {
     "base_uri": "https://localhost:8080/"
    },
    "id": "6C9CzNNYE4n1",
    "outputId": "c306760c-68f6-4772-9ead-5a4acdd4149a"
   },
   "outputs": [],
   "source": [
    "# Boy is to man what ? is to woman:\n",
    "model.most_similar(positive=['woman', 'boy'], negative=['man'], topn=1)"
   ]
  },
  {
   "cell_type": "code",
   "execution_count": null,
   "metadata": {
    "colab": {
     "base_uri": "https://localhost:8080/"
    },
    "id": "tycZXNw_HK4t",
    "outputId": "83110a70-74e8-419e-ef7c-e2f0029565fa"
   },
   "outputs": [],
   "source": [
    "# Barley is to beer what grape is to ? :\n",
    "# model.most_similar(positive=['grape', 'beer'], negative=['barley'], topn=1)\n",
    "model.most_similar(positive=['grape', 'beer'], negative=['grain'], topn=1)"
   ]
  },
  {
   "cell_type": "code",
   "execution_count": null,
   "metadata": {
    "colab": {
     "base_uri": "https://localhost:8080/"
    },
    "id": "0kauYhJxG2FP",
    "outputId": "d0f1e532-270e-40f1-df0f-17f3992e50cf"
   },
   "outputs": [],
   "source": [
    "# Madrid is to Spain what Lisbon is to ? :\n",
    "model.most_similar(positive=['lisbon', 'spain'],negative=['madrid'],topn=1)"
   ]
  },
  {
   "cell_type": "markdown",
   "metadata": {},
   "source": [
    "### <a id='toc1_2_1_'></a>[How does it work? Cosine similarity](#toc0_)"
   ]
  },
  {
   "cell_type": "code",
   "execution_count": null,
   "metadata": {
    "colab": {
     "base_uri": "https://localhost:8080/"
    },
    "id": "-JDbFT9fCwwq",
    "outputId": "459269ba-3abb-405d-94d3-a9cf3c8ce24a"
   },
   "outputs": [],
   "source": [
    "from sklearn.metrics.pairwise import cosine_similarity\n",
    "\n",
    "cosine_similarity([model['king']], [model['ufo']])"
   ]
  },
  {
   "cell_type": "code",
   "execution_count": null,
   "metadata": {
    "colab": {
     "base_uri": "https://localhost:8080/"
    },
    "id": "hCuIF_cJMJ-t",
    "outputId": "555a6a8a-2e07-4b59-c0df-69b223c093a5"
   },
   "outputs": [],
   "source": [
    "cosine_similarity([model['woman']],[model['man']])"
   ]
  },
  {
   "cell_type": "code",
   "execution_count": null,
   "metadata": {
    "colab": {
     "base_uri": "https://localhost:8080/"
    },
    "id": "p1jCRAAfL8nQ",
    "outputId": "42c558b1-4707-41f3-fdf4-ac8ee43a7678"
   },
   "outputs": [],
   "source": [
    "cosine_similarity([model['king']],[model['crown']])"
   ]
  },
  {
   "cell_type": "code",
   "execution_count": null,
   "metadata": {
    "colab": {
     "base_uri": "https://localhost:8080/"
    },
    "id": "axi2nj6sNfsf",
    "outputId": "de3f6213-124e-4c30-9b89-3f26e736f5f5"
   },
   "outputs": [],
   "source": [
    "cosine_similarity([model['king']],[model['monarch']])"
   ]
  },
  {
   "cell_type": "code",
   "execution_count": null,
   "metadata": {
    "colab": {
     "base_uri": "https://localhost:8080/"
    },
    "id": "viOsYsQmLPu1",
    "outputId": "881b7aeb-5043-432c-e4a1-01220d9d72e4"
   },
   "outputs": [],
   "source": [
    "cosine_similarity([model['king'] - model['queen']], [model['son'] - model['daughter']])"
   ]
  },
  {
   "cell_type": "code",
   "execution_count": null,
   "metadata": {
    "colab": {
     "base_uri": "https://localhost:8080/"
    },
    "id": "fczJjSO1DPB7",
    "outputId": "daf79f25-8181-4a8a-a979-c9b485622abc"
   },
   "outputs": [],
   "source": [
    "cosine_similarity([model['russia'] - model['moscow']], [model['poland'] - model['krakow']])"
   ]
  },
  {
   "cell_type": "code",
   "execution_count": null,
   "metadata": {},
   "outputs": [],
   "source": [
    "# Krakow is to Poland what ? is to Russia :\n",
    "model.most_similar(positive=['russia', 'lancut'],negative=['poland'],topn=1)"
   ]
  },
  {
   "cell_type": "markdown",
   "metadata": {},
   "source": [
    "# <a id='toc2_'></a>[Resources](#toc0_)"
   ]
  },
  {
   "cell_type": "markdown",
   "metadata": {},
   "source": [
    "- [Word embeddings and Word2Vec, StatQuest (16 min)](https://www.youtube.com/watch?v=viZrOnJclY0)\n",
    "- [Cosine similarity, StatQuest (10 min)](https://www.youtube.com/watch?v=e9U0QAFbfLI)\n",
    "- Understanding transformers, by StatQuest:\n",
    "    - [Recurrent Neural Networks (RNNs) (17 min)](https://youtu.be/AsNTP8Kwu80?si=yLu1H5CEVd4dX7hm)  \n",
    "    - [Long Short-Term Memory Networks (LSTMs) (21 min)](https://youtu.be/YCzL96nL7j0?si=-i22L3FuAC6BWLSU)  \n",
    "    - [seq2seq Encoder-Decoder (17 min)](https://youtu.be/L8HKweZIOmg?si=ROsiu2V4A8EfWPjN)  \n",
    "    - [Attention for Neural Networks (16 min)](https://youtu.be/PSs6nxngL6k?si=Kk3U02Px3ij98RiX)  \n",
    "    - [Transformer Neural Networks (36 min)](https://youtu.be/zxQyTK8quyY?si=StA0ZLl702j3br4T)\n",
    "\n",
    "- [BERTopic library and documentation](https://maartengr.github.io/BERTopic/)"
   ]
  },
  {
   "cell_type": "markdown",
   "metadata": {},
   "source": [
    "# <a id='toc3_'></a>[Acknowledgements](#toc0_)"
   ]
  },
  {
   "cell_type": "markdown",
   "metadata": {},
   "source": [
    "Thank you, David Henriques, for your awesome lesson structure & content!"
   ]
  }
 ],
 "metadata": {
  "colab": {
   "provenance": []
  },
  "kernelspec": {
   "display_name": "Python 3",
   "name": "python3"
  },
  "language_info": {
   "codemirror_mode": {
    "name": "ipython",
    "version": 3
   },
   "file_extension": ".py",
   "mimetype": "text/x-python",
   "name": "python",
   "nbconvert_exporter": "python",
   "pygments_lexer": "ipython3",
   "version": "3.9.13"
  }
 },
 "nbformat": 4,
 "nbformat_minor": 0
}
