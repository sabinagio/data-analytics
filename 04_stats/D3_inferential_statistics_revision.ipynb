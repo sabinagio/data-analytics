{
 "cells": [
  {
   "cell_type": "markdown",
   "metadata": {},
   "source": [
    "**Table of contents**<a id='toc0_'></a>    \n",
    "- [What is statistics? (reminder)](#toc1_)    \n",
    "- [Why statistics?](#toc2_)    \n",
    "- [Inferential Statistics](#toc3_)    \n",
    "  - [Sample versus Population](#toc3_1_)    \n",
    "    - [How do we choose a sample wisely?](#toc3_1_1_)    \n",
    "    - [Sampling methods](#toc3_1_2_)    \n",
    "- [Let's infer](#toc4_)    \n",
    "  - [Sample mean](#toc4_1_)    \n",
    "  - [Sample standard deviation](#toc4_2_)    \n",
    "  - [Mean and Standard Deviation of the Sampling Distribution](#toc4_3_)    \n",
    "- [Central limit theorem](#toc5_)    \n",
    "- [Resources](#toc6_)    \n",
    "- [References/Acknowledgments](#toc7_)    \n",
    "\n",
    "<!-- vscode-jupyter-toc-config\n",
    "\tnumbering=false\n",
    "\tanchor=true\n",
    "\tflat=false\n",
    "\tminLevel=1\n",
    "\tmaxLevel=6\n",
    "\t/vscode-jupyter-toc-config -->\n",
    "<!-- THIS CELL WILL BE REPLACED ON TOC UPDATE. DO NOT WRITE YOUR TEXT IN THIS CELL -->"
   ]
  },
  {
   "cell_type": "markdown",
   "metadata": {},
   "source": [
    "# <a id='toc1_'></a>[What is statistics? (reminder)](#toc0_)"
   ]
  },
  {
   "cell_type": "markdown",
   "metadata": {
    "slideshow": {
     "slide_type": "fragment"
    }
   },
   "source": [
    "> **The field of statistics is the science of learning from data**. Statistical knowledge helps you use the proper methods to collect the data, employ the correct analyses, and effectively present the results. Statistics is a crucial process behind how we make discoveries in science, make decisions based on data, and make predictions. Statistics allows you to understand a subject much more deeply."
   ]
  },
  {
   "cell_type": "markdown",
   "metadata": {
    "id": "rQt1GNA0qZrw",
    "slideshow": {
     "slide_type": "slide"
    }
   },
   "source": [
    "![image.png](https://imgs.search.brave.com/4UsygL-suDTzNKxxfxwrpIJ-HFVKZQdHETwC8AQdruM/rs:fit:860:0:0/g:ce/aHR0cHM6Ly9sb3Zl/c3RhdHMuZmlsZXMu/d29yZHByZXNzLmNv/bS8yMDEyLzA3L3do/YXQtaWYtaS10b2xk/LXlvdS1kYXRhLWFy/ZW50LWluc2lnaHRz/LmpwZw)"
   ]
  },
  {
   "cell_type": "markdown",
   "metadata": {},
   "source": [
    "# <a id='toc2_'></a>[Why statistics?](#toc0_)"
   ]
  },
  {
   "cell_type": "markdown",
   "metadata": {
    "id": "sSDAHnh2qZrz",
    "slideshow": {
     "slide_type": "fragment"
    }
   },
   "source": [
    " > Statistics facilitates the creation of new knowledge.\n"
   ]
  },
  {
   "cell_type": "markdown",
   "metadata": {
    "id": "mYGA8Bf_qZr0",
    "slideshow": {
     "slide_type": "slide"
    }
   },
   "source": [
    "> Statistics allow you to evaluate claims based on quantitative evidence and help you differentiate between reasonable and dubious conclusions. That aspect is particularly vital these days because data are so plentiful along with interpretations presented by people with unknown motivations.\n",
    "\n",
    "<a href=\"https://imgflip.com/i/7y0to9\"><img src=\"https://i.imgflip.com/7y0to9.jpg\" title=\"made at imgflip.com\"/></a><div><a href=\"https://imgflip.com/memegenerator\">from Imgflip Meme Generator</a></div>"
   ]
  },
  {
   "cell_type": "markdown",
   "metadata": {},
   "source": [
    "# <a id='toc3_'></a>[Inferential Statistics](#toc0_)"
   ]
  },
  {
   "cell_type": "markdown",
   "metadata": {
    "slideshow": {
     "slide_type": "fragment"
    }
   },
   "source": [
    "> Inferential statistics use a random sample to draw conclusions about the population. Typically, it is not practical to obtain data from every member of a population. Instead, we collect a random sample from a small proportion of the population. From the sample, statistical procedures can infer the likely properties of the population."
   ]
  },
  {
   "cell_type": "markdown",
   "metadata": {},
   "source": [
    "## <a id='toc3_1_'></a>[Sample versus Population](#toc0_)"
   ]
  },
  {
   "cell_type": "markdown",
   "metadata": {},
   "source": [
    "![Sample/Population](https://imgs.search.brave.com/ih40LPCEDEfQb4Sv3dxxCBgnkuJksvy7QAkcNHanCV8/rs:fit:860:0:0/g:ce/aHR0cHM6Ly93d3cu/cXVlc3Rpb25wcm8u/Y29tL2Jsb2cvd3At/Y29udGVudC91cGxv/YWRzLzIwMjMvMDIv/cG9wdWxhdGlvbl92/c19zYW1wbGVfJUUy/JTgwJTkzX2FsbF95/b3VfbmVlZF90b19r/bm93LmpwZw)"
   ]
  },
  {
   "cell_type": "markdown",
   "metadata": {
    "slideshow": {
     "slide_type": "fragment"
    }
   },
   "source": [
    "> **Population:** The whole group of people, items, or element of interest.  \n",
    "\n",
    "The population can be all the data analysts in Spain, or all of the female dancers in Africa, or male chimpanzees in zoos in Germany, or many other examples. What's important is that the population covers all of the possible elements in the group we're interested in."
   ]
  },
  {
   "cell_type": "markdown",
   "metadata": {},
   "source": [
    "![Pop examples](https://github.com/sabinagio/data-analytics/blob/main/images/population_examples.png?raw=true)"
   ]
  },
  {
   "cell_type": "markdown",
   "metadata": {
    "slideshow": {
     "slide_type": "fragment"
    }
   },
   "source": [
    "Typically it's very difficult to gather data for ALL of the population of a specific group so then we use a **sample** instead.\n",
    "\n",
    "**Note:** In the very rare cases we're able to collect data for a whole population, that's also called **Census** data."
   ]
  },
  {
   "cell_type": "markdown",
   "metadata": {
    "slideshow": {
     "slide_type": "subslide"
    }
   },
   "source": [
    "> **Sample:** A subset of the population that researchers select and include in their study.\n",
    "\n",
    "Conversely, a sample has only a couple of data analysts in Spain, a couple of female dancers in Africa, or a couple of male chimpanzees in (some) zoos in Germany. What's important here is to **choose our sample wisely**."
   ]
  },
  {
   "cell_type": "markdown",
   "metadata": {},
   "source": [
    "### <a id='toc3_1_1_'></a>[How do we choose a sample wisely?](#toc0_)"
   ]
  },
  {
   "cell_type": "markdown",
   "metadata": {
    "slideshow": {
     "slide_type": "fragment"
    }
   },
   "source": [
    "![](https://media.giphy.com/media/KWSWC38ifoEZG/giphy.gif)"
   ]
  },
  {
   "cell_type": "markdown",
   "metadata": {
    "slideshow": {
     "slide_type": "subslide"
    }
   },
   "source": [
    "We can follow 3 principles to choose a sample wisely:\n",
    "\n",
    "1. **(Obvious, but) the sample should come from the population.** If you're interested in data analysts in Spain you shouldn't gather data about data analysts in Germany. Or if you want to look at female dancers in Africa, you shouldn't gather data about male dancers. You get the drill."
   ]
  },
  {
   "cell_type": "markdown",
   "metadata": {},
   "source": [
    "![](https://github.com/sabinagio/data-analytics/blob/main/images/sample_from_population_1.png?raw=true)\n",
    "![](https://github.com/sabinagio/data-analytics/blob/main/images/sample_from_population_2.png?raw=true)"
   ]
  },
  {
   "cell_type": "markdown",
   "metadata": {},
   "source": [
    "2. **Your sample should be [representative of the population](https://statisticsbyjim.com/basics/representative-sample/).** This means that your sample should contain all the different types of individuals in your population. For example, you cannot get a representative sample of male chimpanzees in Germany zoos if you go to one zoo only. Similarly, if you want to know about data analysts in Spain, you wouldn't look at analysts in one company or analysts in one age group."
   ]
  },
  {
   "cell_type": "markdown",
   "metadata": {},
   "source": [
    "![](https://github.com/sabinagio/data-analytics/blob/main/images/representative_sample_1.png?raw=true)"
   ]
  },
  {
   "cell_type": "markdown",
   "metadata": {},
   "source": [
    "3. **Your individual samples should be (mostly) independent of each other.** This means that you should avoid having individuals that could influence each other when you're creating your dataset. For example, if you're looking at height as we mentioned before and you're choosing a mother and a son in your sample, you're violating this principle as the mother's height is highly correlated to the son's height."
   ]
  },
  {
   "cell_type": "markdown",
   "metadata": {},
   "source": [
    "![](https://github.com/sabinagio/data-analytics/blob/main/images/independent_individual_samples.png?raw=true)"
   ]
  },
  {
   "cell_type": "markdown",
   "metadata": {
    "slideshow": {
     "slide_type": "fragment"
    }
   },
   "source": [
    "**Note:** If you extract a sample in such a way that is not representative of the population, we say that the sample is **biased**. "
   ]
  },
  {
   "cell_type": "markdown",
   "metadata": {},
   "source": [
    "### <a id='toc3_1_2_'></a>[Sampling methods](#toc0_)"
   ]
  },
  {
   "cell_type": "markdown",
   "metadata": {
    "slideshow": {
     "slide_type": "fragment"
    }
   },
   "source": [
    "![](https://imgs.search.brave.com/TQ8XfL-MZh6j5zQNbhi7MDTq44hQg9jOoVjllR5Hax8/rs:fit:860:0:0/g:ce/aHR0cHM6Ly93d3cu/c2NyaWJici5jb20v/d3AtY29udGVudC91/cGxvYWRzLy8yMDE5/LzA5L3Byb2JhYmls/aXR5LXNhbXBsaW5n/LnBuZw)"
   ]
  },
  {
   "cell_type": "markdown",
   "metadata": {
    "slideshow": {
     "slide_type": "fragment"
    }
   },
   "source": [
    "- [**Simple random sampling**](https://statisticsbyjim.com/basics/simple-random-sampling/) - picking candidates at \"random\". Here we need to be careful that we're actually picking at random. For example, if you were conducting phone surveys, it might be more likely that older people answer your call, hence skewing your sample towards older people.\n",
    "\n",
    "- [**Systematic sampling**](https://statisticsbyjim.com/basics/systematic-sampling/) - starts like random sampling but then follows the same pattern for picking the next candidate.\n",
    "\n",
    "- [**Stratified sampling**](https://statisticsbyjim.com/basics/stratified-sampling/) - picking candidates from each possible subgroup of the population.\n",
    "\n",
    "- [**Cluster sampling**](https://statisticsbyjim.com/basics/cluster-sampling/) - picking multiple groups of individuals that accurately represent the population."
   ]
  },
  {
   "cell_type": "markdown",
   "metadata": {},
   "source": [
    "**Notes:**\n",
    "\n",
    "- Even if the sampling method is perfect, a sample still is not the same as the population so there will be a small bias called **sample variation**.\n",
    "- We can decrease the sample variation by **increasing the sample size**.\n",
    "- The proportion of the sample relative to the total population **doesn't matter**. What matters is the sample size!"
   ]
  },
  {
   "cell_type": "markdown",
   "metadata": {},
   "source": [
    "![](https://github.com/sabinagio/data-analytics/blob/main/images/sample_size_matters.png?raw=true)"
   ]
  },
  {
   "cell_type": "markdown",
   "metadata": {
    "slideshow": {
     "slide_type": "subslide"
    }
   },
   "source": [
    "A sample of 100 is just as representative for a population of 1,000 or 1,000,000. For example, exit polls in most countries (and US states) use around 2-3,000 votes, even though the population size varies across all of these.\n",
    "\n",
    "Let's check out the [Galton Board](https://www.compadre.org/osp/EJSS/3965/109.htm) again to get an intuition for this."
   ]
  },
  {
   "cell_type": "markdown",
   "metadata": {},
   "source": [
    "Parameters -> Population\n",
    "\n",
    "Statistics -> Sample"
   ]
  },
  {
   "cell_type": "markdown",
   "metadata": {},
   "source": [
    "# <a id='toc4_'></a>[Let's infer](#toc0_)"
   ]
  },
  {
   "cell_type": "code",
   "execution_count": null,
   "metadata": {
    "slideshow": {
     "slide_type": "skip"
    }
   },
   "outputs": [],
   "source": [
    "import numpy as np\n",
    "import plotly.express as px\n",
    "import plotly.graph_objects as go\n",
    "from plotly.subplots import make_subplots"
   ]
  },
  {
   "cell_type": "markdown",
   "metadata": {},
   "source": [
    "## <a id='toc4_1_'></a>[Sample mean](#toc0_)"
   ]
  },
  {
   "cell_type": "markdown",
   "metadata": {},
   "source": [
    "We will work with a randomly generated sample that simulates the age of a population:"
   ]
  },
  {
   "cell_type": "code",
   "execution_count": null,
   "metadata": {},
   "outputs": [],
   "source": [
    "population = np.random.randint(0, 95, 10000)\n",
    "population"
   ]
  },
  {
   "cell_type": "code",
   "execution_count": null,
   "metadata": {},
   "outputs": [],
   "source": [
    "px.histogram(population)"
   ]
  },
  {
   "cell_type": "code",
   "execution_count": null,
   "metadata": {},
   "outputs": [],
   "source": [
    "np.mean(population)"
   ]
  },
  {
   "cell_type": "markdown",
   "metadata": {},
   "source": [
    "Then we will randomly select a sample of 10 people to extract our mean and std statistics:"
   ]
  },
  {
   "cell_type": "code",
   "execution_count": null,
   "metadata": {},
   "outputs": [],
   "source": [
    "#small-ish sample size - larger variation due to sampling\n",
    "pop_sample = np.random.choice(population, 10)\n",
    "display(pop_sample)\n",
    "np.mean(pop_sample)"
   ]
  },
  {
   "cell_type": "markdown",
   "metadata": {},
   "source": [
    "Let's have a look at the mean of 10 random samples:"
   ]
  },
  {
   "cell_type": "code",
   "execution_count": null,
   "metadata": {},
   "outputs": [],
   "source": [
    "# Get sample means\n",
    "sample_means = []\n",
    "for i in range(11):\n",
    "  pop_sample = np.random.choice(population, 10)\n",
    "  sample_means.append(np.mean(pop_sample))\n",
    "sample_means"
   ]
  },
  {
   "cell_type": "markdown",
   "metadata": {},
   "source": [
    "We notice there's quite a bit of variation in the mean across the 10 samples, ranging from 35.8 to 57.4. Let's see what happens when we get a larger sample:"
   ]
  },
  {
   "cell_type": "code",
   "execution_count": null,
   "metadata": {},
   "outputs": [],
   "source": [
    "#large sample size - smaller variation due to sampling\n",
    "pop_sample = np.random.choice(population, 100)\n",
    "display(pop_sample)\n",
    "np.mean(pop_sample)"
   ]
  },
  {
   "cell_type": "markdown",
   "metadata": {},
   "source": [
    "The sample mean is now closer to the population mean compared to most other samples of 10 individuals. How will the mean vary when I look at 10 samples of 100 individuals?"
   ]
  },
  {
   "cell_type": "code",
   "execution_count": null,
   "metadata": {},
   "outputs": [],
   "source": [
    "sample_means = []\n",
    "for i in range(11):\n",
    "  pop_sample = np.random.choice(population, 100)\n",
    "  sample_means.append(np.mean(pop_sample))\n",
    "sample_means"
   ]
  },
  {
   "cell_type": "markdown",
   "metadata": {},
   "source": [
    "Compared to the previous samples, now the variation is much lower and we see the sample mean ranges between 39.54 and 50.87, a much better approximation from the sample of 10 individuals."
   ]
  },
  {
   "cell_type": "markdown",
   "metadata": {},
   "source": [
    "## <a id='toc4_2_'></a>[Sample standard deviation](#toc0_)"
   ]
  },
  {
   "cell_type": "code",
   "execution_count": null,
   "metadata": {},
   "outputs": [],
   "source": [
    "true_sigma = population.std(ddof=0)\n",
    "true_sigma"
   ]
  },
  {
   "cell_type": "code",
   "execution_count": null,
   "metadata": {},
   "outputs": [],
   "source": [
    "def sigma_biased(list_observations):\n",
    "  numerator = np.sum((np.mean(list_observations) - list_observations) ** 2)\n",
    "  denominator = len(list_observations)\n",
    "  return np.sqrt(numerator / denominator)\n",
    "\n",
    "def sigma_unbiased(list_observations):\n",
    "  numerator = np.sum((np.mean(list_observations) - list_observations) ** 2)\n",
    "  denominator = len(list_observations) - 1\n",
    "  return np.sqrt(numerator / denominator)"
   ]
  },
  {
   "cell_type": "code",
   "execution_count": null,
   "metadata": {},
   "outputs": [],
   "source": [
    "obs = np.random.choice(population, 100)\n",
    "obs"
   ]
  },
  {
   "cell_type": "code",
   "execution_count": null,
   "metadata": {},
   "outputs": [],
   "source": [
    "print(sigma_biased(obs))\n",
    "print(np.abs(sigma_biased(obs)-true_sigma))"
   ]
  },
  {
   "cell_type": "code",
   "execution_count": null,
   "metadata": {},
   "outputs": [],
   "source": [
    "print(sigma_unbiased(obs))\n",
    "print(np.abs(sigma_unbiased(obs)-true_sigma))"
   ]
  },
  {
   "cell_type": "markdown",
   "metadata": {},
   "source": [
    "## <a id='toc4_3_'></a>[Mean and Standard Deviation of the Sampling Distribution](#toc0_)"
   ]
  },
  {
   "cell_type": "code",
   "execution_count": null,
   "metadata": {},
   "outputs": [],
   "source": [
    "px.histogram(population)"
   ]
  },
  {
   "cell_type": "code",
   "execution_count": null,
   "metadata": {},
   "outputs": [],
   "source": [
    "dist_of_means = []\n",
    "for i in range(1000):\n",
    "  pop_sample = np.random.choice(population, 10)\n",
    "  dist_of_means.append(np.mean(pop_sample))"
   ]
  },
  {
   "cell_type": "code",
   "execution_count": null,
   "metadata": {},
   "outputs": [],
   "source": [
    "px.histogram(dist_of_means)"
   ]
  },
  {
   "cell_type": "code",
   "execution_count": null,
   "metadata": {},
   "outputs": [],
   "source": [
    "np.mean(population)"
   ]
  },
  {
   "cell_type": "code",
   "execution_count": null,
   "metadata": {},
   "outputs": [],
   "source": [
    "np.mean(dist_of_means)"
   ]
  },
  {
   "cell_type": "code",
   "execution_count": null,
   "metadata": {},
   "outputs": [],
   "source": [
    "dist_of_means = []\n",
    "for i in range(1000):\n",
    "  pop_sample = np.random.choice(population, 100)\n",
    "  dist_of_means.append(np.mean(pop_sample))\n",
    "px.histogram(dist_of_means)"
   ]
  },
  {
   "cell_type": "markdown",
   "metadata": {},
   "source": [
    "\n",
    "# <a id='toc5_'></a>[Central limit theorem](#toc0_)"
   ]
  },
  {
   "cell_type": "markdown",
   "metadata": {},
   "source": [
    "> The central limit theorem in statistics states that, given a sufficiently large sample size, the sampling distribution of the mean for a variable will approximate a normal distribution regardless of that variable’s distribution in the population."
   ]
  },
  {
   "cell_type": "code",
   "execution_count": null,
   "metadata": {},
   "outputs": [],
   "source": [
    "from scipy import stats"
   ]
  },
  {
   "cell_type": "markdown",
   "metadata": {},
   "source": [
    "Let's create a random distribution by combining 2 very skewed distributions:"
   ]
  },
  {
   "cell_type": "code",
   "execution_count": null,
   "metadata": {},
   "outputs": [],
   "source": [
    "skewed_data1 = stats.skewnorm.rvs(a= -55,loc=133, scale=4, size=100000)\n",
    "skewed_data2 = stats.skewnorm.rvs(a= 52,loc=115, scale=2, size=100000)\n",
    "fig = make_subplots(1, 1)\n",
    "fig.add_trace(go.Histogram(x=skewed_data1, nbinsx=1000), row=1, col=1)\n",
    "fig.add_trace(go.Histogram(x=skewed_data2, nbinsx=1000), row=1, col=1)\n",
    "fig.show()"
   ]
  },
  {
   "cell_type": "code",
   "execution_count": null,
   "metadata": {},
   "outputs": [],
   "source": [
    "data = np.concatenate((skewed_data1, skewed_data2))\n",
    "px.histogram(data)"
   ]
  },
  {
   "cell_type": "code",
   "execution_count": null,
   "metadata": {},
   "outputs": [],
   "source": [
    "# Create sampling function\n",
    "def sample_once(distribution, n):\n",
    "  return np.random.choice(distribution, n).mean()"
   ]
  },
  {
   "cell_type": "code",
   "execution_count": null,
   "metadata": {},
   "outputs": [],
   "source": [
    "sample_once(data, 10)"
   ]
  },
  {
   "cell_type": "markdown",
   "metadata": {},
   "source": [
    "Let's see how the mean looks like if we take 1,000 samples of 10 individuals:"
   ]
  },
  {
   "cell_type": "code",
   "execution_count": null,
   "metadata": {},
   "outputs": [],
   "source": [
    "sampling_distribution = [sample_once(data, 10) for i in range(1000)]\n",
    "px.histogram(sampling_distribution)"
   ]
  },
  {
   "cell_type": "markdown",
   "metadata": {},
   "source": [
    "What changes if we increase the sample size to 100?"
   ]
  },
  {
   "cell_type": "code",
   "execution_count": null,
   "metadata": {},
   "outputs": [],
   "source": [
    "sampling_distribution = [sample_once(data, 100) for i in range(1000)]\n",
    "px.histogram(sampling_distribution)"
   ]
  },
  {
   "cell_type": "markdown",
   "metadata": {},
   "source": [
    "What if we increase the number of samples from 1,000 to 10,000?"
   ]
  },
  {
   "cell_type": "code",
   "execution_count": null,
   "metadata": {},
   "outputs": [],
   "source": [
    "sampling_distribution = [sample_once(data, 100) for i in range(10000)]\n",
    "px.histogram(sampling_distribution)"
   ]
  },
  {
   "cell_type": "markdown",
   "metadata": {},
   "source": [
    "What if we have loads of huge samples?"
   ]
  },
  {
   "cell_type": "code",
   "execution_count": null,
   "metadata": {},
   "outputs": [],
   "source": [
    "sampling_distribution = [sample_once(data, 10000) for i in range(10000)]\n",
    "px.histogram(sampling_distribution)"
   ]
  },
  {
   "cell_type": "markdown",
   "metadata": {},
   "source": [
    "# <a id='toc6_'></a>[Resources](#toc0_)\n",
    "\n",
    "- [Likelihood vs Probability - StatQuest](https://www.youtube.com/watch?v=pYxNSUDSFH4) - 5 min\n",
    "- [Probability Distributions - StatQuest](https://www.youtube.com/watch?v=oI3hZJqXJuc) - 5 min\n",
    "- [Populations & Estimated Parameters - StatQuest](https://www.youtube.com/watch?v=vikkiwjQqfU) - 14 min\n",
    "- [Population vs Sample - Stats by Jim](https://statisticsbyjim.com/basics/population-vs-sample/)\n",
    "- [Central Limit Theorem - Stats by Jim](https://statisticsbyjim.com/basics/central-limit-theorem/)"
   ]
  },
  {
   "cell_type": "markdown",
   "metadata": {},
   "source": [
    "# <a id='toc7_'></a>[References/Acknowledgments](#toc0_)"
   ]
  },
  {
   "cell_type": "markdown",
   "metadata": {},
   "source": [
    "Quoted paragraphs in this notebook are taken from various articles from the [Statistics by Jim blog](https://statisticsbyjim.com/)."
   ]
  }
 ],
 "metadata": {
  "celltoolbar": "Slideshow",
  "colab": {
   "provenance": []
  },
  "kernelspec": {
   "display_name": "Python 3 (ipykernel)",
   "language": "python",
   "name": "python3"
  },
  "language_info": {
   "codemirror_mode": {
    "name": "ipython",
    "version": 3
   },
   "file_extension": ".py",
   "mimetype": "text/x-python",
   "name": "python",
   "nbconvert_exporter": "python",
   "pygments_lexer": "ipython3",
   "version": "3.9.13"
  }
 },
 "nbformat": 4,
 "nbformat_minor": 1
}
