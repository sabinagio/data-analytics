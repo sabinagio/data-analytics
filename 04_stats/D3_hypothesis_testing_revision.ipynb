{
  "cells": [
    {
      "cell_type": "markdown",
      "metadata": {},
      "source": [
        "**Table of contents**<a id='toc0_'></a>    \n",
        "- [Hypothesis setting](#toc1_)    \n",
        "  - [Check reality](#toc1_1_)    \n",
        "  - [Formulate the hypothesis](#toc1_2_)    \n",
        "    - [Two-tailed hypothesis](#toc1_2_1_)    \n",
        "    - [Right-tailed hypothesis - **more than**](#toc1_2_2_)    \n",
        "    - [Left-tailed hypothesis - **less than**](#toc1_2_3_)    \n",
        "- [Hypothesis testing](#toc2_)    \n",
        "  - [Choose significance/confidence level](#toc2_1_)    \n",
        "  - [Sampling](#toc2_2_)    \n",
        "    - [Intuition Building](#toc2_2_1_)    \n",
        "  - [Running statistical test](#toc2_3_)    \n",
        "    - [T-test](#toc2_3_1_)    \n",
        "      - [💡 Do it yourself](#toc2_3_1_1_)    \n",
        "    - [Matched-pair test - for **2 dependent samples**](#toc2_3_2_)    \n",
        "    - [A/B Test - for **2 independent samples**](#toc2_3_3_)    \n",
        "    - [ANOVA test - for **>2 independent samples**](#toc2_3_4_)    \n",
        "- [📖 Self-guided: Hypothesis testing on proportions](#toc3_)    \n",
        "- [Acknowledgements](#toc4_)    \n",
        "- [References](#toc5_)    \n",
        "\n",
        "<!-- vscode-jupyter-toc-config\n",
        "\tnumbering=false\n",
        "\tanchor=true\n",
        "\tflat=false\n",
        "\tminLevel=1\n",
        "\tmaxLevel=6\n",
        "\t/vscode-jupyter-toc-config -->\n",
        "<!-- THIS CELL WILL BE REPLACED ON TOC UPDATE. DO NOT WRITE YOUR TEXT IN THIS CELL -->"
      ]
    },
    {
      "cell_type": "code",
      "execution_count": null,
      "metadata": {
        "id": "gJQ3M11sz6qk"
      },
      "outputs": [],
      "source": [
        "import pandas as pd\n",
        "import numpy as np\n",
        "import scipy.stats as st\n",
        "import matplotlib.pyplot as plt\n",
        "import seaborn as sns"
      ]
    },
    {
      "cell_type": "code",
      "execution_count": null,
      "metadata": {
        "colab": {
          "base_uri": "https://localhost:8080/",
          "height": 206
        },
        "id": "W0_wXMS1ZPgj",
        "outputId": "9ba66180-5fec-4060-eac1-3c7e86c5ebbe"
      },
      "outputs": [],
      "source": [
        "data = pd.read_csv('https://raw.githubusercontent.com/data-bootcamp-v4/data/main/titanic_train.csv')\n",
        "data.head()"
      ]
    },
    {
      "cell_type": "markdown",
      "metadata": {},
      "source": [
        "# <a id='toc1_'></a>[Hypothesis setting](#toc0_)"
      ]
    },
    {
      "cell_type": "markdown",
      "metadata": {},
      "source": [
        "![](https://media.giphy.com/media/1jaJf7liv7Dl5SrrTU/giphy.gif)"
      ]
    },
    {
      "cell_type": "markdown",
      "metadata": {},
      "source": [
        "> You have seen that the prices in first class were on average\n",
        "85 dollars and someone told you that prices in 3rd class were usually a fifth of prices in\n",
        "first class."
      ]
    },
    {
      "cell_type": "markdown",
      "metadata": {},
      "source": [
        "## <a id='toc1_1_'></a>[Check reality](#toc0_)"
      ]
    },
    {
      "cell_type": "markdown",
      "metadata": {},
      "source": [
        "⚠️**Hypotheses apply to the samples, not the population**⚠️"
      ]
    },
    {
      "cell_type": "markdown",
      "metadata": {},
      "source": [
        "Our full titanic dataset is a census/population, therefore we can say precisely whether the ticket prices for the 3rd class are usually a 5th of the prices for the 1st class:"
      ]
    },
    {
      "cell_type": "code",
      "execution_count": null,
      "metadata": {},
      "outputs": [],
      "source": [
        "# Get the first and third class means\n",
        "first_class = data[data.Pclass == 1]\n",
        "first_class_price = first_class.Fare.mean()\n",
        "third_class = data[data.Pclass == 3]\n",
        "third_class_price = third_class.Fare.mean()"
      ]
    },
    {
      "cell_type": "code",
      "execution_count": null,
      "metadata": {},
      "outputs": [],
      "source": [
        "# Check the different means\n",
        "print(\"A fifth of the first class price is:\", round(first_class_price / 5, 2))\n",
        "print(\"The third class price is:\", round(third_class_price, 2))"
      ]
    },
    {
      "cell_type": "markdown",
      "metadata": {},
      "source": [
        "We can see that our hypothesis is correct on average. But what about ships that don't have the population data?"
      ]
    },
    {
      "cell_type": "markdown",
      "metadata": {},
      "source": [
        "## <a id='toc1_2_'></a>[Formulate the hypothesis](#toc0_)"
      ]
    },
    {
      "cell_type": "markdown",
      "metadata": {},
      "source": [
        "### <a id='toc1_2_1_'></a>[Two-tailed hypothesis](#toc0_)"
      ]
    },
    {
      "cell_type": "markdown",
      "metadata": {},
      "source": [
        "![](https://i0.wp.com/statisticsbyjim.com/wp-content/uploads/2018/11/t-test_two_tails_05.png?w=576&ssl=1)  \n",
        "(Source: [Statistics by Jim](https://statisticsbyjim.com/hypothesis-testing/one-tailed-two-tailed-hypothesis-tests/))"
      ]
    },
    {
      "cell_type": "markdown",
      "metadata": {},
      "source": [
        "**Null hypothesis ($H_0$):** 3rd class price mean = 17  \n",
        "\n",
        "**Alternative hypothesis ($H_1$):** 3rd class price mean =/= 17"
      ]
    },
    {
      "cell_type": "markdown",
      "metadata": {},
      "source": [
        "### <a id='toc1_2_2_'></a>[Right-tailed hypothesis - **more than**](#toc0_)"
      ]
    },
    {
      "cell_type": "markdown",
      "metadata": {},
      "source": [
        "**Null hypothesis ($H_0$):** 3rd class price mean >= 17  \n",
        "\n",
        "**Alternative hypothesis ($H_1$):** 3rd class price mean < 17"
      ]
    },
    {
      "cell_type": "markdown",
      "metadata": {},
      "source": [
        "![](https://i0.wp.com/statisticsbyjim.com/wp-content/uploads/2018/11/t-test_right_tail_05.png?w=576&ssl=1)  \n",
        "(Source: [Statistics by Jim](https://statisticsbyjim.com/hypothesis-testing/one-tailed-two-tailed-hypothesis-tests/))"
      ]
    },
    {
      "cell_type": "markdown",
      "metadata": {},
      "source": [
        "### <a id='toc1_2_3_'></a>[Left-tailed hypothesis - **less than**](#toc0_)"
      ]
    },
    {
      "cell_type": "markdown",
      "metadata": {},
      "source": [
        "**Null hypothesis ($H_0$):** 3rd class price mean <= 17  \n",
        "\n",
        "**Alternative hypothesis ($H_1$):** 3rd class price mean > 17"
      ]
    },
    {
      "cell_type": "markdown",
      "metadata": {},
      "source": [
        "![](https://i0.wp.com/statisticsbyjim.com/wp-content/uploads/2018/11/t-test_left_tail_05.png?w=576&ssl=1)  \n",
        "(Source: [Statistics by Jim](https://statisticsbyjim.com/hypothesis-testing/one-tailed-two-tailed-hypothesis-tests/))"
      ]
    },
    {
      "cell_type": "markdown",
      "metadata": {},
      "source": [
        "# <a id='toc2_'></a>[Hypothesis testing](#toc0_)"
      ]
    },
    {
      "cell_type": "markdown",
      "metadata": {},
      "source": [
        "## <a id='toc2_1_'></a>[Choose significance/confidence level](#toc0_)"
      ]
    },
    {
      "cell_type": "markdown",
      "metadata": {},
      "source": [
        "> The significance level, also known as alpha or α, is a measure of the strength of the evidence that must be present in your sample before you will reject the null hypothesis and conclude that the effect is statistically significant. The researcher determines the significance level before conducting the experiment.[$^{[1]}$](https://statisticsbyjim.com/glossary/significance-level/)"
      ]
    },
    {
      "cell_type": "markdown",
      "metadata": {},
      "source": [
        "The significance level is chosen depending on how grave the consequences would be for committing a Type I error, i.e. rejecting the null hypothesis when the null hypothesis is true. Typically, the significance level cosen (especially by research papers) is 5% but in more serious cases (e.g. medical or legale field) you would go for significance levels of 1% or much lower.\n",
        "\n",
        "Examples of high-stakes scenarios:\n",
        "- Diagnosing someone with a very grave disease, e.g. cancer\n",
        "- Convicting someone of murder"
      ]
    },
    {
      "cell_type": "markdown",
      "metadata": {},
      "source": [
        "**Note:** A significance level of 5% is equivalent to a confidence level of 95%."
      ]
    },
    {
      "cell_type": "markdown",
      "metadata": {},
      "source": [
        "## <a id='toc2_2_'></a>[Sampling](#toc0_)"
      ]
    },
    {
      "cell_type": "code",
      "execution_count": null,
      "metadata": {
        "colab": {
          "base_uri": "https://localhost:8080/"
        },
        "id": "U_mPUNNdxwYI",
        "outputId": "23604314-969b-4848-ebdd-702cac92f6a4"
      },
      "outputs": [],
      "source": [
        "# Sample 30 passengers from 3rd class\n",
        "c3_sample = data[data['Pclass']==3]['Fare'].sample(30)\n",
        "c3_sample"
      ]
    },
    {
      "cell_type": "code",
      "execution_count": null,
      "metadata": {},
      "outputs": [],
      "source": [
        "# Check the mean of my sample\n",
        "print(\"Third class price for the sample:\", round(c3_sample.mean(), 2))"
      ]
    },
    {
      "cell_type": "markdown",
      "metadata": {},
      "source": [
        "### <a id='toc2_2_1_'></a>[Intuition Building](#toc0_)"
      ]
    },
    {
      "cell_type": "markdown",
      "metadata": {},
      "source": [
        "Let's take the following samples:"
      ]
    },
    {
      "cell_type": "code",
      "execution_count": null,
      "metadata": {
        "id": "GdeAdlsuF9lh"
      },
      "outputs": [],
      "source": [
        "samp1 = np.array([10, 12, 9, 11, 9, 10, 10, 12, 13, 11])\n",
        "samp2 = np.array([10, 12, 9, 11, 9, 10, 10, 12, 9, 8])"
      ]
    },
    {
      "cell_type": "code",
      "execution_count": null,
      "metadata": {
        "colab": {
          "base_uri": "https://localhost:8080/"
        },
        "id": "Tu1UNxjC6ARl",
        "outputId": "5aeb209b-abd2-4292-bb98-c7b9fb80d1bd"
      },
      "outputs": [],
      "source": [
        "# Show sample means\n",
        "print(\"samp1 mean:\", samp1.mean())\n",
        "print(\"samp2 mean:\", samp2.mean())"
      ]
    },
    {
      "cell_type": "markdown",
      "metadata": {},
      "source": [
        "Our null hypothesis ($H_0$) is that the population mean is 10. Which of the two samples is more \"consistent\" with the $H_0$?"
      ]
    },
    {
      "cell_type": "markdown",
      "metadata": {},
      "source": [
        "Let's have a look at 2 other samples:"
      ]
    },
    {
      "cell_type": "code",
      "execution_count": null,
      "metadata": {
        "colab": {
          "base_uri": "https://localhost:8080/"
        },
        "id": "N7kktS9GHZ_C",
        "outputId": "889f4e3c-5494-4ef4-932d-48c3bef3406e"
      },
      "outputs": [],
      "source": [
        "samp3 = np.array([10, 12, 9, 11, 9, 10, 10, 11, 12, 9])\n",
        "samp4 = np.array([21, 2, 0, 21, 5, 15, 3, 17, 16, 2])"
      ]
    },
    {
      "cell_type": "code",
      "execution_count": null,
      "metadata": {},
      "outputs": [],
      "source": [
        "# Show sample means\n",
        "print(\"samp3 mean:\", samp3.mean())\n",
        "print(\"samp4 mean:\", samp4.mean())"
      ]
    },
    {
      "cell_type": "markdown",
      "metadata": {},
      "source": [
        "Which of the two new samples is more \"consistent\" with the $H_0$?"
      ]
    },
    {
      "cell_type": "markdown",
      "metadata": {},
      "source": [
        "Finally, let's have a look at 2 more samples:"
      ]
    },
    {
      "cell_type": "code",
      "execution_count": null,
      "metadata": {},
      "outputs": [],
      "source": [
        "samp6 = np.array([19, 2, 3, 17, 5, 15, 3, 17, 16, 3, 12])\n",
        "samp7 = np.array([19, 2, 3, 17, 5, 15, 3, 17, 16, 3, 12, 19, 2, 3, 17, 5, 15, 3, 17, 16, 3, 12, 19, 2, 3, 17, 5, 15, 3, 17, 16, 3, 12,19, 2, 3, 17, 5, 15, 3, 17, 16, 3, 12])"
      ]
    },
    {
      "cell_type": "code",
      "execution_count": null,
      "metadata": {},
      "outputs": [],
      "source": [
        "# Check the mean and std\n",
        "print(\"samp6 mean:\", samp6.mean())\n",
        "print(\"samp7 mean:\", samp7.mean())\n",
        "print(\"samp6 std:\", samp6.std())\n",
        "print(\"samp7 std:\", samp7.std())"
      ]
    },
    {
      "cell_type": "markdown",
      "metadata": {},
      "source": [
        "Which of the two new samples is more \"consistent\" with the $H_0$?"
      ]
    },
    {
      "cell_type": "markdown",
      "metadata": {},
      "source": [
        "## <a id='toc2_3_'></a>[Running statistical test](#toc0_)"
      ]
    },
    {
      "cell_type": "markdown",
      "metadata": {},
      "source": [
        "### <a id='toc2_3_1_'></a>[T-test](#toc0_)"
      ]
    },
    {
      "cell_type": "markdown",
      "metadata": {},
      "source": [
        "Two-tailed test"
      ]
    },
    {
      "cell_type": "code",
      "execution_count": null,
      "metadata": {
        "colab": {
          "base_uri": "https://localhost:8080/"
        },
        "id": "RffXqAM16AUJ",
        "outputId": "f19ae7ca-848a-4254-8eb0-1c82a150dd64"
      },
      "outputs": [],
      "source": [
        "# Apply test statistic\n",
        "st.ttest_1samp(c3_sample, 17)"
      ]
    },
    {
      "cell_type": "markdown",
      "metadata": {},
      "source": [
        "What p-value do you get?"
      ]
    },
    {
      "cell_type": "markdown",
      "metadata": {},
      "source": [
        "Left-tailed test - **Less**"
      ]
    },
    {
      "cell_type": "code",
      "execution_count": null,
      "metadata": {
        "colab": {
          "base_uri": "https://localhost:8080/"
        },
        "id": "E7p7ceIG0dmM",
        "outputId": "ba236ae9-32e6-41d7-f29f-e80c2372c917"
      },
      "outputs": [],
      "source": [
        "#...and for a single tailed experiment #requires scipy>1.6.0\n",
        "st.ttest_1samp(c3_sample, 17, alternative='less')"
      ]
    },
    {
      "cell_type": "markdown",
      "metadata": {},
      "source": [
        "#### <a id='toc2_3_1_1_'></a>[💡 Do it yourself](#toc0_)\n",
        "\n",
        "Now repeat this exercise for the following hypothesis:\n",
        "\n",
        "> The 1st class prices are different from $85.\n",
        "\n",
        "Use the same sample size (30) and significance level (5%). What do you see?\n",
        "\n",
        "**Tip:** Make sure to properly state your null and alternative hypothesis!"
      ]
    },
    {
      "cell_type": "code",
      "execution_count": null,
      "metadata": {
        "id": "PY9a4CrOlwUh"
      },
      "outputs": [],
      "source": [
        "# Your code here"
      ]
    },
    {
      "cell_type": "markdown",
      "metadata": {},
      "source": [
        "### <a id='toc2_3_2_'></a>[Matched-pair test - for **2 dependent samples**](#toc0_)"
      ]
    },
    {
      "cell_type": "markdown",
      "metadata": {},
      "source": [
        "We measure the blood pressure of patients before and after applying a blood pressure treatment. The data in the two samples is dependent, as we're looking at the blood pressure for the same patient before and after the treatment. "
      ]
    },
    {
      "cell_type": "code",
      "execution_count": null,
      "metadata": {
        "colab": {
          "base_uri": "https://localhost:8080/",
          "height": 206
        },
        "id": "2RAEDmec9l6z",
        "outputId": "8b19c7df-7ec8-42e9-feb4-daadb2e4d82f"
      },
      "outputs": [],
      "source": [
        "blood_pressure = pd.read_csv('https://raw.githubusercontent.com/sabinagio/data-analytics/main/data/blood_pressure.csv')\n",
        "blood_pressure.head()"
      ]
    },
    {
      "cell_type": "markdown",
      "metadata": {},
      "source": [
        "**Null hypothesis ($H_0$):** blood_pressure_before = blood_pressure_after  \n",
        "\n",
        "**Alternative hypothesis ($H_1$):** blood_pressure_before != blood_pressure_after"
      ]
    },
    {
      "cell_type": "code",
      "execution_count": null,
      "metadata": {
        "colab": {
          "base_uri": "https://localhost:8080/"
        },
        "id": "fjYTQlh09mti",
        "outputId": "1edd89fd-5e0f-4158-8722-c7f6fe72bd37"
      },
      "outputs": [],
      "source": [
        "st.ttest_rel(blood_pressure['after'], blood_pressure['before'])"
      ]
    },
    {
      "cell_type": "code",
      "execution_count": null,
      "metadata": {
        "colab": {
          "base_uri": "https://localhost:8080/"
        },
        "id": "1I1AyswwK1zU",
        "outputId": "a2e94648-edba-4f67-aea9-451cb427959f"
      },
      "outputs": [],
      "source": [
        "st.ttest_rel(blood_pressure['before'], blood_pressure['after'])"
      ]
    },
    {
      "cell_type": "markdown",
      "metadata": {},
      "source": [
        "**Null hypothesis ($H_0$):** blood_pressure_before <= blood_pressure_after  \n",
        "\n",
        "**Alternative hypothesis ($H_1$):** blood_pressure_before > blood_pressure_after"
      ]
    },
    {
      "cell_type": "code",
      "execution_count": null,
      "metadata": {
        "colab": {
          "base_uri": "https://localhost:8080/"
        },
        "id": "BAN7xihjJ1ra",
        "outputId": "cf18ada7-1c43-4ea0-eb1e-0dbed614b48e"
      },
      "outputs": [],
      "source": [
        "st.ttest_rel(blood_pressure['before'], blood_pressure['after'], alternative='greater')"
      ]
    },
    {
      "cell_type": "markdown",
      "metadata": {},
      "source": [
        "How would you control for a placebo effect?"
      ]
    },
    {
      "cell_type": "markdown",
      "metadata": {},
      "source": [
        "### <a id='toc2_3_3_'></a>[A/B Test - for **2 independent samples**](#toc0_)"
      ]
    },
    {
      "cell_type": "markdown",
      "metadata": {},
      "source": [
        "We created two different designs for our website - one has a CTA (Call-To-Action) in the middle of the page (A) and the other one has the CTA in the bottom right of the page (B). We want to see whether the change in the CTA position resulted in a change in time spent on the website. We say that the two samples are independent because we are looking at completely different groups of people."
      ]
    },
    {
      "cell_type": "code",
      "execution_count": null,
      "metadata": {
        "colab": {
          "base_uri": "https://localhost:8080/",
          "height": 206
        },
        "id": "2JqP5jcG93sS",
        "outputId": "4e615707-aadd-494b-c17d-77460295339d"
      },
      "outputs": [],
      "source": [
        "ab_test = pd.read_csv('https://raw.githubusercontent.com/sabinagio/data-analytics/main/data/ab_test.csv')\n",
        "ab_test.head()"
      ]
    },
    {
      "cell_type": "markdown",
      "metadata": {},
      "source": [
        "**Null hypothesis ($H_0$):** retention_a = retention_b  \n",
        "\n",
        "**Alternative hypothesis ($H_1$):** retention_a != retention_b"
      ]
    },
    {
      "cell_type": "code",
      "execution_count": null,
      "metadata": {
        "colab": {
          "base_uri": "https://localhost:8080/"
        },
        "id": "PY2py22m94U9",
        "outputId": "847ca7dc-62bb-46aa-fc5c-0225ce702367"
      },
      "outputs": [],
      "source": [
        "st.ttest_ind(ab_test['a'], ab_test['b'], equal_var=False)"
      ]
    },
    {
      "cell_type": "code",
      "execution_count": null,
      "metadata": {
        "colab": {
          "base_uri": "https://localhost:8080/",
          "height": 286
        },
        "id": "bhqMJmjK9-Xy",
        "outputId": "ddc42397-c55c-4d29-a249-adec3f4a245f"
      },
      "outputs": [],
      "source": [
        "sns.boxplot(data=ab_test)"
      ]
    },
    {
      "cell_type": "markdown",
      "metadata": {},
      "source": [
        "**Null hypothesis ($H_0$):** retention_a <= retention_b  \n",
        "\n",
        "**Alternative hypothesis ($H_1$):** retention_a > retention_b"
      ]
    },
    {
      "cell_type": "code",
      "execution_count": null,
      "metadata": {},
      "outputs": [],
      "source": [
        "st.ttest_ind(ab_test['a'], ab_test['b'], equal_var=False, alternative='less')"
      ]
    },
    {
      "cell_type": "markdown",
      "metadata": {},
      "source": [
        "### <a id='toc2_3_4_'></a>[ANOVA test - for **>2 independent samples**](#toc0_)"
      ]
    },
    {
      "cell_type": "markdown",
      "metadata": {},
      "source": [
        "We're a bank that is giving out loans and has different policies on interest rate setting depending on location. Now, the bank wants to see whether they should adjust the rate at a state level so that all city interest rates are the same. However, before doing this, the bank needs to check whether or not there is a difference in the first place!"
      ]
    },
    {
      "cell_type": "code",
      "execution_count": null,
      "metadata": {
        "colab": {
          "base_uri": "https://localhost:8080/",
          "height": 269
        },
        "id": "xbOQ_WEe_zli",
        "outputId": "01165c9e-71ad-4422-9127-f79595b93228"
      },
      "outputs": [],
      "source": [
        "interest_r = pd.read_csv('https://raw.githubusercontent.com/sabinagio/data-analytics/main/data/rate_by_city.csv')\n",
        "interest_r.sample(7)"
      ]
    },
    {
      "cell_type": "code",
      "execution_count": null,
      "metadata": {
        "colab": {
          "base_uri": "https://localhost:8080/",
          "height": 238
        },
        "id": "XLuePwft_56j",
        "outputId": "4a8bc4b4-3f3f-4738-a006-012f74329624"
      },
      "outputs": [],
      "source": [
        "# Reshape the dataframe so it shows each sample separately\n",
        "\n",
        "# Create new index by counting the individuals in each group (cumcount)\n",
        "interest_r['city_count'] = interest_r.groupby('City').cumcount() ##is the new index\n",
        "\n",
        "# Create pivot table\n",
        "interest_r_pivot = interest_r.pivot(index='city_count', columns='City', values='Rate')\n",
        "\n",
        "# Change titles to display \"City_n\"\n",
        "interest_r_pivot.columns = ['City_' + str(x) for x in interest_r_pivot.columns.values]\n",
        "interest_r_pivot.head()"
      ]
    },
    {
      "cell_type": "markdown",
      "metadata": {},
      "source": [
        "**Null hypothesis ($H_0$):** interest_1 = interest_2 = interest_3 = interest_4 = interest_5 = interest_6  \n",
        "\n",
        "**Alternative hypothesis ($H_1$):** interest_1 != interest_2 or interest_3 != interest_4 or interest_5 != interest_6 or... many more options"
      ]
    },
    {
      "cell_type": "code",
      "execution_count": null,
      "metadata": {
        "colab": {
          "base_uri": "https://localhost:8080/"
        },
        "id": "dCDrg1e4_8sT",
        "outputId": "4b7c5d52-66f0-45ab-f8b3-08b6c1a4744e"
      },
      "outputs": [],
      "source": [
        "# Use Fischer's one-way test\n",
        "st.f_oneway(interest_r_pivot['City_1'], interest_r_pivot['City_2'], interest_r_pivot['City_3'], interest_r_pivot['City_4'], interest_r_pivot['City_5'], interest_r_pivot['City_6'])"
      ]
    },
    {
      "cell_type": "markdown",
      "metadata": {},
      "source": [
        "# <a id='toc3_'></a>[📖 Self-guided: Hypothesis testing on proportions](#toc0_)"
      ]
    },
    {
      "cell_type": "markdown",
      "metadata": {},
      "source": [
        "The confidence intervals and hypothesis testing for proportions will have different assumptions compared to using absolute data for a population.\n",
        "\n",
        "For example, if we look at the distribution of height for people in the US, we assume the population has a normal distribution and we base our statistical tests on that.\n",
        "\n",
        "However, if we're looking at the proportion of citizens that are taller than 1.65m, instead of looking at a normal distribution, we're looking at a **Bernoulli distribution**:"
      ]
    },
    {
      "cell_type": "markdown",
      "metadata": {},
      "source": [
        "![](https://imgs.search.brave.com/ZZbB8TH305JKKIEAj7oFVMyUTEBBa4Skk7a7vE4KR5g/rs:fit:860:0:0/g:ce/aHR0cHM6Ly93d3cu/bWF0aHdvcmtzLmNv/bS9oZWxwL2V4YW1w/bGVzL3N0YXRzL3dp/bjY0L0NvbXB1dGVC/ZXJub3VsbGlEaXN0/cmlidXRpb25QZGZF/eGFtcGxlXzAxLnBu/Zw)  \n",
        "(Source: [Mathworks](https://www.mathworks.com/help/stats/bernoulli-distribution.html))"
      ]
    },
    {
      "cell_type": "markdown",
      "metadata": {},
      "source": [
        "Given our distribution is much different from the normal distribution, we can no longer use the same statistics (mean and standard deviation of the sample) to compute confidence intervals and p-values. Instead, we will use the probabilities of the 2 possible events:\n",
        "- **p** (probability that height > 1.65m)\n",
        "- **1-p** (probability that height <= 1.65m)"
      ]
    },
    {
      "cell_type": "markdown",
      "metadata": {},
      "source": [
        "We can get a sample of 100 people where 64 are taller than 1.65m and we hypothesize that 60% of the population is taller than 1.65m:"
      ]
    },
    {
      "cell_type": "code",
      "execution_count": null,
      "metadata": {},
      "outputs": [],
      "source": [
        "#import proportions_ztest function\n",
        "from statsmodels.stats.proportion import proportions_ztest\n",
        "\n",
        "#perform one proportion z-test\n",
        "proportions_ztest(count=60, nobs=100, value=0.64)"
      ]
    },
    {
      "cell_type": "markdown",
      "metadata": {},
      "source": [
        "For a significance level of 5%, we cannot reject the null hypothesis."
      ]
    },
    {
      "cell_type": "markdown",
      "metadata": {},
      "source": [
        "For a more in-depth overview of statistical tests for proportions, you can refer to this [series of tutorials from Khan Academy](https://www.khanacademy.org/math/statistics-probability/significance-tests-confidence-intervals-two-samples/comparing-two-proportions/v/comparing-population-proportions-1)."
      ]
    },
    {
      "cell_type": "markdown",
      "metadata": {},
      "source": [
        "# <a id='toc4_'></a>[Acknowledgements](#toc0_)"
      ]
    },
    {
      "cell_type": "markdown",
      "metadata": {},
      "source": [
        "Thank you, David Henriques, for your awesome lesson structure and content."
      ]
    },
    {
      "cell_type": "markdown",
      "metadata": {},
      "source": [
        "# <a id='toc5_'></a>[References](#toc0_)"
      ]
    },
    {
      "cell_type": "markdown",
      "metadata": {},
      "source": [
        "[1] [Significance Level, Statistics by Jim](https://statisticsbyjim.com/glossary/significance-level/)"
      ]
    }
  ],
  "metadata": {
    "colab": {
      "provenance": []
    },
    "kernelspec": {
      "display_name": "Python 3 (ipykernel)",
      "language": "python",
      "name": "python3"
    },
    "language_info": {
      "codemirror_mode": {
        "name": "ipython",
        "version": 3
      },
      "file_extension": ".py",
      "mimetype": "text/x-python",
      "name": "python",
      "nbconvert_exporter": "python",
      "pygments_lexer": "ipython3",
      "version": "3.9.13"
    },
    "toc": {
      "base_numbering": 1,
      "nav_menu": {},
      "number_sections": true,
      "sideBar": true,
      "skip_h1_title": false,
      "title_cell": "Table of Contents",
      "title_sidebar": "Contents",
      "toc_cell": false,
      "toc_position": {},
      "toc_section_display": true,
      "toc_window_display": false
    }
  },
  "nbformat": 4,
  "nbformat_minor": 0
}
