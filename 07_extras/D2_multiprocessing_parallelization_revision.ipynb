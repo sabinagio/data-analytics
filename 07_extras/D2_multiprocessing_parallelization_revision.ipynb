{
  "cells": [
    {
      "cell_type": "markdown",
      "metadata": {},
      "source": [
        "**Table of contents**<a id='toc0_'></a>    \n",
        "- [CPU vs GPU](#toc1_)    \n",
        "- [Measuring time](#toc2_)    \n",
        "  - [Processing time](#toc2_1_)    \n",
        "  - [Notebook time](#toc2_2_)    \n",
        "- [Running tasks in parallel (concurrently)](#toc3_)    \n",
        "  - [Multiprocessing](#toc3_1_)    \n",
        "    - [🐍 Do you have Python installed?](#toc3_1_1_)    \n",
        "  - [Multithreading](#toc3_2_)    \n",
        "- [Resources](#toc4_)    \n",
        "- [References / Acknowledgments](#toc5_)    \n",
        "\n",
        "<!-- vscode-jupyter-toc-config\n",
        "\tnumbering=false\n",
        "\tanchor=true\n",
        "\tflat=false\n",
        "\tminLevel=1\n",
        "\tmaxLevel=6\n",
        "\t/vscode-jupyter-toc-config -->\n",
        "<!-- THIS CELL WILL BE REPLACED ON TOC UPDATE. DO NOT WRITE YOUR TEXT IN THIS CELL -->"
      ]
    },
    {
      "cell_type": "markdown",
      "metadata": {},
      "source": [
        "# <a id='toc1_'></a>[CPU vs GPU](#toc0_)"
      ]
    },
    {
      "cell_type": "markdown",
      "metadata": {},
      "source": [
        "A nice demonstration done by the infamous MythBusters for NVIDIA:\n",
        "\n",
        "<iframe width=\"560\" height=\"315\" src=\"https://www.youtube.com/embed/-P28LKWTzrI?si=ZrSR7FABQRyZp6E0\" title=\"YouTube video player\" frameborder=\"0\" allow=\"accelerometer; autoplay; clipboard-write; encrypted-media; gyroscope; picture-in-picture; web-share\" allowfullscreen></iframe>"
      ]
    },
    {
      "cell_type": "markdown",
      "metadata": {},
      "source": [
        "- CPU = Central Processing Unit\n",
        "\n",
        "> The CPU is the brain of a computer, containing all the circuitry needed to process input, store data, and output results.\n",
        "The CPU is constantly following instructions of computer programs that tell it which data to process and how to process it. Without a CPU, we could not run programs on a computer. [$^{[1]}$](https://www.khanacademy.org/computing/computers-and-internet/xcae6f4a7ff015e7d:computers/xcae6f4a7ff015e7d:computer-components/a/central-processing-unit-cpu)\n",
        "\n",
        "Quick overview of computer components:\n",
        "\n",
        "![](https://cdn.kastatic.org/ka-perseus-images/4e4ea28c9df4c48a95ce61e5191fc4aeb8938116.svg)  \n",
        "(Source: [Khan Academy](https://www.khanacademy.org/computing/computers-and-internet/xcae6f4a7ff015e7d:computers/xcae6f4a7ff015e7d:computer-components/a/computer-components-introduction))\n",
        "\n",
        "- GPU = Graphics Processing Unit\n",
        "\n",
        "> A graphics processing unit (GPU) is a specialized electronic circuit initially designed to accelerate computer graphics and image processing (either on a video card or embedded on the motherboards, mobile phones, personal computers, workstations, and game consoles). After their initial design, GPUs were found to be useful for non-graphic calculations involving embarrassingly parallel problems due to their parallel structure. Other non-graphical uses include the training of neural networks and cryptocurrency mining. [$^{[2]}$](https://en.wikipedia.org/wiki/Graphics_processing_unit)\n",
        "\n",
        "Typically, a computer will have graphics processing but this can be a part of the CPU (for most computers). However, for gaming/editing computers, the graphics processing will be handled separately by a GPU."
      ]
    },
    {
      "cell_type": "markdown",
      "metadata": {},
      "source": [
        "# <a id='toc2_'></a>[Measuring time](#toc0_)"
      ]
    },
    {
      "cell_type": "code",
      "execution_count": null,
      "metadata": {
        "colab": {
          "base_uri": "https://localhost:8080/"
        },
        "id": "dBAogRhXedM8",
        "outputId": "31bedd36-c0d7-4ee7-b94f-4fa7918263ec"
      },
      "outputs": [],
      "source": [
        "%time\n",
        "import pandas as pd\n",
        "import numpy as np\n",
        "import time\n",
        "import multiprocessing\n",
        "import concurrent"
      ]
    },
    {
      "cell_type": "markdown",
      "metadata": {},
      "source": [
        "## <a id='toc2_1_'></a>[Processing time](#toc0_)"
      ]
    },
    {
      "cell_type": "code",
      "execution_count": null,
      "metadata": {},
      "outputs": [],
      "source": [
        "# Use Jupyter magic method\n",
        "%time\n",
        "print('Hello, world')"
      ]
    },
    {
      "cell_type": "markdown",
      "metadata": {},
      "source": [
        "## <a id='toc2_2_'></a>[Notebook time](#toc0_)"
      ]
    },
    {
      "cell_type": "code",
      "execution_count": null,
      "metadata": {},
      "outputs": [],
      "source": [
        "# Show perf_counter - 1\n",
        "time.perf_counter()"
      ]
    },
    {
      "cell_type": "code",
      "execution_count": null,
      "metadata": {},
      "outputs": [],
      "source": [
        "# Show perf_counter - 2\n",
        "time.perf_counter()"
      ]
    },
    {
      "cell_type": "code",
      "execution_count": null,
      "metadata": {},
      "outputs": [],
      "source": [
        "# Show perf_counter - 3\n",
        "time.perf_counter()"
      ]
    },
    {
      "cell_type": "code",
      "execution_count": null,
      "metadata": {
        "colab": {
          "base_uri": "https://localhost:8080/"
        },
        "id": "5UVlkNwyfXK2",
        "outputId": "5c9a4667-9e3b-4d0b-f854-f4c9c453fb4f"
      },
      "outputs": [],
      "source": [
        "# Get start and end with performance counter\n",
        "start = time.perf_counter()\n",
        "print('hello class')\n",
        "end = time.perf_counter()"
      ]
    },
    {
      "cell_type": "code",
      "execution_count": null,
      "metadata": {},
      "outputs": [],
      "source": [
        "# Show the duration\n",
        "print('The task took: ', end - start, \"seconds\")"
      ]
    },
    {
      "cell_type": "code",
      "execution_count": null,
      "metadata": {},
      "outputs": [],
      "source": [
        "# Define a sleeping task\n",
        "def do_something(seconds):\n",
        "  print('doing something that takes ' + str(seconds) + ' seconds')\n",
        "  time.sleep(seconds)\n",
        "  print('Task done')"
      ]
    },
    {
      "cell_type": "markdown",
      "metadata": {},
      "source": [
        "How long will it take for the function to run twice with a sleep time of 2 seconds?"
      ]
    },
    {
      "cell_type": "code",
      "execution_count": null,
      "metadata": {},
      "outputs": [],
      "source": [
        "# Run it twice and show the duration\n",
        "start = time.perf_counter()\n",
        "do_something(2)\n",
        "do_something(2)\n",
        "finish = time.perf_counter()\n",
        "\n",
        "print('finished in ' + str(finish - start) + ' seconds')"
      ]
    },
    {
      "cell_type": "markdown",
      "metadata": {},
      "source": [
        "# <a id='toc3_'></a>[Running tasks in parallel (concurrently)](#toc0_)"
      ]
    },
    {
      "cell_type": "markdown",
      "metadata": {},
      "source": [
        "> Multiprocessing is the use of two or more central processing units (CPUs) within a single computer system. [$^{[3]}$](https://en.wikipedia.org/wiki/Multiprocessing)"
      ]
    },
    {
      "cell_type": "markdown",
      "metadata": {},
      "source": [
        "![](https://miro.medium.com/v2/resize:fit:763/1*QiaqQ0HLT4Iy0N608A5mVA.png)"
      ]
    },
    {
      "cell_type": "markdown",
      "metadata": {},
      "source": [
        "## <a id='toc3_1_'></a>[Multiprocessing](#toc0_)"
      ]
    },
    {
      "cell_type": "markdown",
      "metadata": {},
      "source": [
        "> Multiprocessing is the use of two or more central processing units (CPUs) within a single computer system. [$^{[3]}$](https://en.wikipedia.org/wiki/Multiprocessing)"
      ]
    },
    {
      "cell_type": "code",
      "execution_count": null,
      "metadata": {},
      "outputs": [],
      "source": [
        "# How many processors do you have available?\n",
        "multiprocessing.cpu_count()"
      ]
    },
    {
      "cell_type": "code",
      "execution_count": null,
      "metadata": {
        "colab": {
          "base_uri": "https://localhost:8080/"
        },
        "id": "fjyUzLVlh8XT",
        "outputId": "65b20307-aa85-47cc-e4c2-2324d6e463c0"
      },
      "outputs": [],
      "source": [
        "# Define two processes\n",
        "p1 = multiprocessing.Process(target=do_something, args=[2])\n",
        "p2 = multiprocessing.Process(target=do_something, args=[2])"
      ]
    },
    {
      "cell_type": "code",
      "execution_count": null,
      "metadata": {},
      "outputs": [],
      "source": [
        "# Start the processes\n",
        "start = time.perf_counter()\n",
        "p1.start()\n",
        "p2.start()\n",
        "finish = time.perf_counter()\n",
        "print('finished in ' + str(finish - start) + ' seconds')"
      ]
    },
    {
      "cell_type": "markdown",
      "metadata": {},
      "source": [
        "Where is the \"task done\"? What about the first printed message? Why does it all finish so quickly?"
      ]
    },
    {
      "cell_type": "code",
      "execution_count": null,
      "metadata": {
        "colab": {
          "base_uri": "https://localhost:8080/"
        },
        "id": "rYJdUPq0WTvb",
        "outputId": "241289d6-3a3a-4192-b4f2-f8fe7d55c1bf"
      },
      "outputs": [],
      "source": [
        "# Get the time until the task finishes\n",
        "start = time.perf_counter()\n",
        "\n",
        "p1 = multiprocessing.Process(target=do_something, args=[2])\n",
        "p2 = multiprocessing.Process(target=do_something, args=[2])\n",
        "\n",
        "p1.start()\n",
        "p2.start()\n",
        "\n",
        "p1.join()\n",
        "p2.join()\n",
        "\n",
        "finish = time.perf_counter()\n",
        "print('finished in ' + str(finish - start) + ' seconds')"
      ]
    },
    {
      "cell_type": "markdown",
      "metadata": {},
      "source": [
        "Technically this should also work in Jupyter notebook (it does work in Google Colab) but as it's likely using a different core compared to the one we're running our notebook on we will use a Python script instead!"
      ]
    },
    {
      "cell_type": "markdown",
      "metadata": {},
      "source": [
        "### <a id='toc3_1_1_'></a>[🐍 Do you have Python installed?](#toc0_)\n",
        "\n",
        "Use one of these commands in the terminal (preferably Git Bash) to check it out:\n",
        "\n",
        "`where python`  \n",
        "`py --list-paths`"
      ]
    },
    {
      "cell_type": "markdown",
      "metadata": {},
      "source": [
        "## <a id='toc3_2_'></a>[Multithreading](#toc0_)"
      ]
    },
    {
      "cell_type": "markdown",
      "metadata": {},
      "source": [
        "> In computer architecture, multithreading is the ability of a central processing unit (CPU) (or a single core in a multi-core processor) to provide multiple threads of execution concurrently, supported by the operating system. [$^{[4]}$](https://en.wikipedia.org/wiki/Multithreading_(computer_architecture))"
      ]
    },
    {
      "cell_type": "code",
      "execution_count": null,
      "metadata": {},
      "outputs": [],
      "source": [
        "start = time.perf_counter()\n",
        "with concurrent.futures.ThreadPoolExecutor() as executor:\n",
        "    results = list(executor.map(do_something, [2 for i in range(120)]))\n",
        "finish = time.perf_counter()\n",
        "print('finished in ' + str(finish - start) + ' seconds')"
      ]
    },
    {
      "cell_type": "markdown",
      "metadata": {},
      "source": [
        "**Note:** Use Threads for IO-bound tasks (where you wait for input/output) and use Processes for CPU-bound tasks (where you wait for processes to be executed)."
      ]
    },
    {
      "cell_type": "markdown",
      "metadata": {},
      "source": [
        "![](https://superfastpython.com/wp-content/uploads/2022/05/Differences-Between-Thread-and-Process.png)  \n",
        "(Source: [Super Fast Python](https://superfastpython.com/thread-vs-process/))"
      ]
    },
    {
      "cell_type": "markdown",
      "metadata": {},
      "source": [
        "# <a id='toc4_'></a>[Resources](#toc0_)"
      ]
    },
    {
      "cell_type": "markdown",
      "metadata": {},
      "source": [
        "- [How computers work](https://www.youtube.com/watch?v=MMzdKTtUIFM&t=91s) - 4 min\n",
        "- [I/O-bound vs CPU-bound processes](https://www.baeldung.com/cs/cpu-io-bound)"
      ]
    },
    {
      "cell_type": "markdown",
      "metadata": {},
      "source": [
        "# <a id='toc5_'></a>[References / Acknowledgments](#toc0_)\n",
        "\n",
        "Thank you David Henriques for your awesome lessons' content & structure! \n",
        "\n",
        "[1] Central Processing Unit (CPU), Khan Academy - https://www.khanacademy.org/computing/computers-and-internet/xcae6f4a7ff015e7d:computers/xcae6f4a7ff015e7d:computer-components/a/central-processing-unit-cpu   \n",
        "[2] Graphics Processing Unit (GPU), Wikipedia - https://en.wikipedia.org/wiki/Graphics_processing_unit   \n",
        "[3] Multiprocessing, Wikipedia - https://en.wikipedia.org/wiki/Multiprocessing  \n",
        "[4] Multithreading, Wikipedia - https://en.wikipedia.org/wiki/Multithreading_(computer_architecture)"
      ]
    }
  ],
  "metadata": {
    "colab": {
      "provenance": []
    },
    "kernelspec": {
      "display_name": "Python 3",
      "name": "python3"
    },
    "language_info": {
      "codemirror_mode": {
        "name": "ipython",
        "version": 3
      },
      "file_extension": ".py",
      "mimetype": "text/x-python",
      "name": "python",
      "nbconvert_exporter": "python",
      "pygments_lexer": "ipython3",
      "version": "3.9.13"
    }
  },
  "nbformat": 4,
  "nbformat_minor": 0
}
