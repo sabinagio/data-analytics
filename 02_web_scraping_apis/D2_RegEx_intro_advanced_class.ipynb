{
  "cells": [
    {
      "cell_type": "markdown",
      "metadata": {},
      "source": [
        "**Table of contents**<a id='toc0_'></a>    \n",
        "- [RegEx](#toc1_)    \n",
        "- [Basic RegEx](#toc2_)    \n",
        "  - [Main methods](#toc2_1_)    \n",
        "  - [💡 Do it yourself](#toc2_2_)    \n",
        "  - [`re` in web scraping](#toc2_3_)    \n",
        "  - [`re` IRL](#toc2_4_)    \n",
        "  - [💡 Do it yourself](#toc2_5_)    \n",
        "- [References/Acknowledgments](#toc3_)    \n",
        "\n",
        "<!-- vscode-jupyter-toc-config\n",
        "\tnumbering=false\n",
        "\tanchor=true\n",
        "\tflat=false\n",
        "\tminLevel=1\n",
        "\tmaxLevel=6\n",
        "\t/vscode-jupyter-toc-config -->\n",
        "<!-- THIS CELL WILL BE REPLACED ON TOC UPDATE. DO NOT WRITE YOUR TEXT IN THIS CELL -->"
      ]
    },
    {
      "cell_type": "markdown",
      "metadata": {},
      "source": [
        "# <a id='toc1_'></a>[RegEx](#toc0_)"
      ]
    },
    {
      "cell_type": "markdown",
      "metadata": {},
      "source": [
        "> A regular expression (regex) is a powerful tool for pattern matching within text. It consists of a string of characters that defines a search pattern, allowing you to perform tasks like validating email addresses, extracting specific information from text, or finding and replacing text based on a particular pattern. Regex patterns can include letters, numbers, and special characters, each with special meanings, making it a versatile tool for text manipulation and data extraction in programming and text processing tasks.\n",
        "\n",
        "(courtesy of ChatGPT)"
      ]
    },
    {
      "cell_type": "markdown",
      "metadata": {},
      "source": [
        "The `re` library in Python enables us to implement pattern-based text matching but regular expressions are used in all languages, including SQL and Excel."
      ]
    },
    {
      "cell_type": "code",
      "execution_count": null,
      "metadata": {},
      "outputs": [],
      "source": [
        "import re"
      ]
    },
    {
      "cell_type": "markdown",
      "metadata": {},
      "source": [
        "# <a id='toc2_'></a>[Basic RegEx](#toc0_)"
      ]
    },
    {
      "cell_type": "markdown",
      "metadata": {},
      "source": [
        "## <a id='toc2_1_'></a>[Main methods](#toc0_)\n",
        "\n",
        "- `findall` - finds all string instances satisfying a particular pattern\n",
        "- `search` - finds the position of the first instance where the pattern was found\n",
        "- `match` - finds positions of the found elements based on a pattern\n",
        "- `sub` (substitute) - substitutes the found instances of your pattern with something else"
      ]
    },
    {
      "cell_type": "code",
      "execution_count": null,
      "metadata": {},
      "outputs": [],
      "source": [
        "re.findall('[a-z]at', 'Hello, I have a cat and a hat')"
      ]
    },
    {
      "cell_type": "code",
      "execution_count": null,
      "metadata": {},
      "outputs": [],
      "source": [
        "re.search('[a-z]at', 'Hello, I have a cat and a hat')"
      ]
    },
    {
      "cell_type": "code",
      "execution_count": null,
      "metadata": {},
      "outputs": [],
      "source": [
        "print(re.match('[a-z]at', 'Hello, I have a cat and a hat'))"
      ]
    },
    {
      "cell_type": "code",
      "execution_count": null,
      "metadata": {},
      "outputs": [],
      "source": [
        "re.sub('[a-z]at', 'cat',  'Hello, I have a cat and a hat')"
      ]
    },
    {
      "cell_type": "markdown",
      "metadata": {},
      "source": [
        "```python\n",
        "re.findall(pattern, string)\n",
        "```\n",
        "Returns a list of the matched patterns"
      ]
    },
    {
      "cell_type": "code",
      "execution_count": null,
      "metadata": {
        "id": "5RnKh5zxikZ-"
      },
      "outputs": [],
      "source": [
        "string = \"that pilates class is at 9:00\"\n",
        "re.findall('at', string)"
      ]
    },
    {
      "cell_type": "markdown",
      "metadata": {},
      "source": [
        "**Note:** RegEx are case sensitive."
      ]
    },
    {
      "cell_type": "code",
      "execution_count": null,
      "metadata": {
        "colab": {
          "base_uri": "https://localhost:8080/"
        },
        "id": "MQekHDwpTxai",
        "outputId": "686f3b34-e2d4-4a06-f54a-3198eee40b75"
      },
      "outputs": [],
      "source": [
        "string = \"At 9:00 Muna takes the bus\"\n",
        "re.findall('at', string) #At, a t do not match"
      ]
    },
    {
      "cell_type": "markdown",
      "metadata": {},
      "source": [
        "This method starts to make more sense when you start using RegEx patterns:"
      ]
    },
    {
      "cell_type": "code",
      "execution_count": null,
      "metadata": {},
      "outputs": [],
      "source": [
        "string = \"he took his hat off in his hut before he h1t that hotdog shackle\""
      ]
    },
    {
      "cell_type": "code",
      "execution_count": null,
      "metadata": {
        "colab": {
          "base_uri": "https://localhost:8080/"
        },
        "id": "42QOOSmugpEe",
        "outputId": "d35d0d54-a089-42dc-bea1-28cf103512e9"
      },
      "outputs": [],
      "source": [
        "# Find hat or hit or hot\n",
        "re.findall('hat|hit|hot', string)"
      ]
    },
    {
      "cell_type": "markdown",
      "metadata": {},
      "source": [
        "A simpler way to write the above is by using a \"list\" of compatible characters:"
      ]
    },
    {
      "cell_type": "code",
      "execution_count": null,
      "metadata": {
        "colab": {
          "base_uri": "https://localhost:8080/"
        },
        "id": "z_M43hQHUGo_",
        "outputId": "6f68cfbe-adfb-4698-86f2-0b90f74c0b9c"
      },
      "outputs": [],
      "source": [
        "# Do the same but using the character list\n",
        "re.findall('h[aio]t', string)"
      ]
    },
    {
      "cell_type": "markdown",
      "metadata": {},
      "source": [
        "Similarly, you can also specify what characters **not** to match:"
      ]
    },
    {
      "cell_type": "code",
      "execution_count": null,
      "metadata": {
        "colab": {
          "base_uri": "https://localhost:8080/"
        },
        "id": "3k36TGznVyD_",
        "outputId": "55e22382-23d0-497d-b6fb-59dadb91a3e9"
      },
      "outputs": [],
      "source": [
        "# Add not operator to avoid matching\n",
        "re.findall('h[^aio]t', string)"
      ]
    },
    {
      "cell_type": "code",
      "execution_count": null,
      "metadata": {},
      "outputs": [],
      "source": [
        "re.findall('h[a-z]t', string)"
      ]
    },
    {
      "cell_type": "markdown",
      "metadata": {},
      "source": [
        "You can also look for **any** matching character by using a dot (`.`):"
      ]
    },
    {
      "cell_type": "code",
      "execution_count": null,
      "metadata": {
        "colab": {
          "base_uri": "https://localhost:8080/"
        },
        "id": "VMxOrqQpUjIX",
        "outputId": "721ad9df-d0bd-4bbf-f547-1575ef7bc2bc"
      },
      "outputs": [],
      "source": [
        "re.findall('h.t', string)"
      ]
    },
    {
      "cell_type": "markdown",
      "metadata": {},
      "source": [
        "Or find specific types of characters, such as:\n",
        "- alphanumeric characters (i.e. letters and digits) `\\w` (this also includes underscore - `_`)\n",
        "- whitespace (i.e. spaces, tabs, enters) `\\s`\n",
        "- digits `\\d` "
      ]
    },
    {
      "cell_type": "code",
      "execution_count": null,
      "metadata": {},
      "outputs": [],
      "source": [
        "string = \"\"\"We1rd \n",
        "w@rd \"\"\""
      ]
    },
    {
      "cell_type": "code",
      "execution_count": null,
      "metadata": {},
      "outputs": [],
      "source": [
        "list(string)"
      ]
    },
    {
      "cell_type": "code",
      "execution_count": null,
      "metadata": {},
      "outputs": [],
      "source": [
        "# Find all alphanumeric chars\n",
        "display(re.findall('\\w', string)) # @ symbol was not counted"
      ]
    },
    {
      "cell_type": "code",
      "execution_count": null,
      "metadata": {},
      "outputs": [],
      "source": [
        "# Find all spaces\n",
        "display(re.findall('\\s', string)) # We have 2 spaces"
      ]
    },
    {
      "cell_type": "code",
      "execution_count": null,
      "metadata": {},
      "outputs": [],
      "source": [
        "# Find all digits\n",
        "display(re.findall('\\d', string))"
      ]
    },
    {
      "cell_type": "markdown",
      "metadata": {},
      "source": [
        "If you're expecting to see a lot of the same characters but not sure how many, you can mention that something will repeat more than one time by using a plus sign (`+`): "
      ]
    },
    {
      "cell_type": "code",
      "execution_count": null,
      "metadata": {},
      "outputs": [],
      "source": [
        "string = 'Elton, this is a looooooooooooooooooooong sentence with a looooooooooooot of repetition'"
      ]
    },
    {
      "cell_type": "code",
      "execution_count": null,
      "metadata": {
        "colab": {
          "base_uri": "https://localhost:8080/"
        },
        "id": "K6WtTpUSWzHy",
        "outputId": "cd17fcad-0303-4df9-c9d1-581d27579d63"
      },
      "outputs": [],
      "source": [
        "# Find the looooong strings\n",
        "re.findall('lo+[nt]', string)"
      ]
    },
    {
      "cell_type": "markdown",
      "metadata": {},
      "source": [
        "However, if you're not sure that an item will appear at all, you can add a question mark (`?`) after it:"
      ]
    },
    {
      "cell_type": "code",
      "execution_count": null,
      "metadata": {},
      "outputs": [],
      "source": [
        "english_string = 'I prefer color to colour'"
      ]
    },
    {
      "cell_type": "code",
      "execution_count": null,
      "metadata": {},
      "outputs": [],
      "source": [
        "re.findall('colou?r', english_string)"
      ]
    },
    {
      "cell_type": "code",
      "execution_count": null,
      "metadata": {
        "colab": {
          "base_uri": "https://localhost:8080/"
        },
        "id": "SClsMUh0Yk-_",
        "outputId": "24c63c49-3de6-4f3b-f24a-bb0aa550b78e"
      },
      "outputs": [],
      "source": [
        "# Make the rule stricter\n",
        "re.findall('lo+[nt]g?', string)"
      ]
    },
    {
      "cell_type": "markdown",
      "metadata": {},
      "source": [
        "## <a id='toc2_2_'></a>[💡 Do it yourself](#toc0_)"
      ]
    },
    {
      "cell_type": "markdown",
      "metadata": {},
      "source": [
        "How would you find `looooaaaaaoooaoaoaong` and `looaaooaoooaaoooot` in the sentence:\n",
        "`Elton, this is a looooaaaaaoooaoaoaong sentence with a looaaooaoooaaoooot of repetition`?"
      ]
    },
    {
      "cell_type": "code",
      "execution_count": null,
      "metadata": {},
      "outputs": [],
      "source": [
        "# Your code here"
      ]
    },
    {
      "cell_type": "markdown",
      "metadata": {},
      "source": [
        "In addition to using the plus sign (`+`) to look for one or more characters, you can also use the asterisk (`*`) for sets of characters that may appear zero or more times:"
      ]
    },
    {
      "cell_type": "code",
      "execution_count": null,
      "metadata": {
        "colab": {
          "base_uri": "https://localhost:8080/"
        },
        "id": "kLLTQs5AWzMg",
        "outputId": "611ad968-929b-4fa8-d1c7-375258ee6d37"
      },
      "outputs": [],
      "source": [
        "# WIll 'o' appear at all?\n",
        "re.findall('l.[nto]g?','Elton, this is a loooooong sentence with a looooooooooooot of repetition')"
      ]
    },
    {
      "cell_type": "markdown",
      "metadata": {},
      "source": [
        " <span style=\"color:orange\">Where is the `lt` coming from?</span>"
      ]
    },
    {
      "cell_type": "markdown",
      "metadata": {},
      "source": [
        "So far we've discussed how to look for characters that may appear more than once (`+`), may appear once or not at all (`?`), or may appear multiple times or not at all (`*`). However, if you know the number of characters you are looking for, you can also specify that in your RegEx pattern (`{n}`):"
      ]
    },
    {
      "cell_type": "code",
      "execution_count": null,
      "metadata": {},
      "outputs": [],
      "source": [
        "string = 'The phone numbers, with indicatives, are 00451123 456 789 and 00353 987654321'\n",
        "\n",
        "# Find the country prefixes\n",
        "re.findall('00\\d{3}', string) #ireland"
      ]
    },
    {
      "cell_type": "code",
      "execution_count": null,
      "metadata": {},
      "outputs": [],
      "source": [
        "# Find the country prefixes\n",
        "re.findall('0035\\d', string)"
      ]
    },
    {
      "cell_type": "markdown",
      "metadata": {},
      "source": [
        "Or you can specify a range instead of a specific number of characters (`{start, end}`):"
      ]
    },
    {
      "cell_type": "code",
      "execution_count": null,
      "metadata": {},
      "outputs": [],
      "source": [
        "string = 'The phone numbers, with indicatives, are 00351123 456 789 and 0049 987654321'\n",
        "\n",
        "# Find the country prefixes - level 2\n",
        "re.findall('00\\d{2,3}', string) #germany"
      ]
    },
    {
      "cell_type": "markdown",
      "metadata": {},
      "source": [
        "Lastly, you can extract separate elements at the same time. For example, we can extract the prefix and the phone number simultaneously by using brackets (`()`):"
      ]
    },
    {
      "cell_type": "code",
      "execution_count": null,
      "metadata": {},
      "outputs": [],
      "source": [
        "string = 'The phone numbers, with indicatives, are 00351912345678 and +351967654321'\n",
        "\n",
        "# Find the country prefixes - level 3\n",
        "re.findall('(\\+\\d{3}|00\\d{3})(\\d{9})', string)"
      ]
    },
    {
      "cell_type": "markdown",
      "metadata": {},
      "source": [
        "**Note:** Since `+` is a special character used in creating RegEx patterns, we need to \"escape\" it using the slash (`\\`): `\\+` is equivalent to searching for the plus sign itself."
      ]
    },
    {
      "cell_type": "markdown",
      "metadata": {},
      "source": [
        " <span style=\"color:orange\">Where other RegEx special characters that we've seen today might need to be escaped?</span>"
      ]
    },
    {
      "cell_type": "markdown",
      "metadata": {},
      "source": [
        "To escape a slash (`\\`) is a bit trickier, as you need 4 of them:"
      ]
    },
    {
      "cell_type": "code",
      "execution_count": null,
      "metadata": {},
      "outputs": [],
      "source": [
        "slash_string = '\\string1 is very cool'\n",
        "re.findall('\\\\\\\\', slash_string) "
      ]
    },
    {
      "cell_type": "markdown",
      "metadata": {},
      "source": [
        "Let's extract just the phone numbers:"
      ]
    },
    {
      "cell_type": "code",
      "execution_count": null,
      "metadata": {},
      "outputs": [],
      "source": [
        "re.findall('(\\+\\d{3}|00\\d{3})(\\d{9})', string)"
      ]
    },
    {
      "cell_type": "code",
      "execution_count": null,
      "metadata": {},
      "outputs": [],
      "source": [
        "# Extract the prefix-number pairs\n",
        "indicative_number_pairs = re.findall('(\\+\\d{3}|00\\d{3})(\\d{9})', string)\n",
        "\n",
        "# Get the numbers with a loop\n",
        "numbers=[]\n",
        "for member in indicative_number_pairs:\n",
        "  numbers.append(member[1])\n",
        "numbers"
      ]
    },
    {
      "cell_type": "code",
      "execution_count": null,
      "metadata": {},
      "outputs": [],
      "source": [
        "# Extract the numbers with a lambda\n",
        "list(map((lambda x : x[1]), indicative_number_pairs))"
      ]
    },
    {
      "cell_type": "markdown",
      "metadata": {},
      "source": [
        "**Advanced**\n",
        "\n",
        "What if you had to find really weirdly formatted phone numbers?"
      ]
    },
    {
      "cell_type": "code",
      "execution_count": null,
      "metadata": {},
      "outputs": [],
      "source": [
        "string = 'The phone numbers, as they gave them to us, are 00351 933456789, +351927654321, 00351 915 678 901, 969 343 291'"
      ]
    },
    {
      "cell_type": "code",
      "execution_count": null,
      "metadata": {},
      "outputs": [],
      "source": [
        "re.findall('((\\+\\d{3}|00\\d{3} ?)?)((\\d{3} ?){3})', string)"
      ]
    },
    {
      "cell_type": "code",
      "execution_count": null,
      "metadata": {},
      "outputs": [],
      "source": [
        "# Get just the phone numbers\n",
        "groupings_complex = re.findall('((\\+\\d{3} ?|00\\d{3} ?)?)((\\d{3} ?){3})', string)\n",
        "list(map( (lambda x : x[2]), groupings_complex))"
      ]
    },
    {
      "cell_type": "markdown",
      "metadata": {},
      "source": [
        "## <a id='toc2_3_'></a>[`re` in web scraping](#toc0_)"
      ]
    },
    {
      "cell_type": "markdown",
      "metadata": {},
      "source": [
        "In addition to using the `BeautifulSoup` library to search for HTML tags, attributes and CSS selectors, we can also use RegEx to find patterns:"
      ]
    },
    {
      "cell_type": "code",
      "execution_count": null,
      "metadata": {},
      "outputs": [],
      "source": [
        "# I will create a typical pattern for matching a script tag\n",
        "pattern = '<script>.*</script>'"
      ]
    },
    {
      "cell_type": "code",
      "execution_count": null,
      "metadata": {},
      "outputs": [],
      "source": [
        "# Then I'll just get the Wikipedia landing page for my example\n",
        "import requests\n",
        "response = requests.get('https://wikipedia.com')\n",
        "response.content"
      ]
    },
    {
      "cell_type": "code",
      "execution_count": null,
      "metadata": {},
      "outputs": [],
      "source": [
        "# Now I'll extract the JS scripts from the page:\n",
        "re.findall(pattern, response.content)"
      ]
    },
    {
      "cell_type": "markdown",
      "metadata": {},
      "source": [
        "I get an error because the HTML response content is a bytes-like (computer readable) object instead of a string, so I need to convert it to a string (human-readable) object before I find my pattern: "
      ]
    },
    {
      "cell_type": "code",
      "execution_count": null,
      "metadata": {},
      "outputs": [],
      "source": [
        "re.findall(pattern, str(response.content))"
      ]
    },
    {
      "cell_type": "markdown",
      "metadata": {},
      "source": [
        "## <a id='toc2_4_'></a>[`re` IRL](#toc0_)"
      ]
    },
    {
      "cell_type": "code",
      "execution_count": null,
      "metadata": {},
      "outputs": [],
      "source": [
        "# Your BFF is back\n",
        "import pandas as pd"
      ]
    },
    {
      "cell_type": "code",
      "execution_count": null,
      "metadata": {},
      "outputs": [],
      "source": [
        "# Read our dataset and get an idea of how it looks like\n",
        "enron = pd.read_csv('enron.csv')\n",
        "display(enron.shape)\n",
        "enron.head()"
      ]
    },
    {
      "cell_type": "code",
      "execution_count": null,
      "metadata": {},
      "outputs": [],
      "source": [
        "# How does a message look like?\n",
        "print(enron.iloc[0]['raw message'])"
      ]
    },
    {
      "cell_type": "markdown",
      "metadata": {},
      "source": [
        "We see we have a sender (`From:`), a subject (`Subject:`), CC, BCC, the date (`Date:`) and the body (`body:`) of the message. Therefore, we can parse our dataset so it has a column for each of these bits of information."
      ]
    },
    {
      "cell_type": "code",
      "execution_count": null,
      "metadata": {},
      "outputs": [],
      "source": [
        "# Get the sender/s of the message\n",
        "def get_sender(message):\n",
        "    return re.findall('From: [\\w@\\.]+ ', message)"
      ]
    },
    {
      "cell_type": "code",
      "execution_count": null,
      "metadata": {},
      "outputs": [],
      "source": [
        "# Apply to dataframe\n",
        "enron['From'] = enron['raw message'].apply(get_sender)\n",
        "enron"
      ]
    },
    {
      "cell_type": "markdown",
      "metadata": {},
      "source": [
        "What if there's no `From:`? We can extract the first email we find instead:"
      ]
    },
    {
      "cell_type": "code",
      "execution_count": null,
      "metadata": {},
      "outputs": [],
      "source": [
        "# Let's do it better\n",
        "def get_sender(message):\n",
        "    return re.findall('(From: )([\\w\\@\\.-]+)( )',message)[0][1]"
      ]
    },
    {
      "cell_type": "code",
      "execution_count": null,
      "metadata": {},
      "outputs": [],
      "source": [
        "enron['From'] = enron['raw message'].apply(get_sender)\n",
        "enron"
      ]
    },
    {
      "cell_type": "markdown",
      "metadata": {},
      "source": [
        "What if there's no email at all?"
      ]
    },
    {
      "cell_type": "code",
      "execution_count": null,
      "metadata": {},
      "outputs": [],
      "source": [
        "def get_sender(message):\n",
        "    try:\n",
        "        out = re.findall('(From: )([\\w\\@\\.-]+)( )', message)[0][1]\n",
        "    except:\n",
        "        out = ''\n",
        "    return out"
      ]
    },
    {
      "cell_type": "code",
      "execution_count": null,
      "metadata": {},
      "outputs": [],
      "source": [
        "enron['From'] = enron['raw message'].apply(get_sender)\n",
        "enron"
      ]
    },
    {
      "cell_type": "markdown",
      "metadata": {},
      "source": [
        "## <a id='toc2_5_'></a>[💡 Do it yourself](#toc0_)"
      ]
    },
    {
      "cell_type": "markdown",
      "metadata": {},
      "source": [
        "Following a similar logic, extract the recipient column!"
      ]
    },
    {
      "cell_type": "code",
      "execution_count": null,
      "metadata": {},
      "outputs": [],
      "source": [
        "# Your code here\n",
        "\n",
        "#solution\n",
        "def get_receiver(message):\n",
        "  to_list = re.findall('To:.*Subject:',message)\n",
        "  if len(to_list)>0:\n",
        "    out = to_list\n",
        "  else:\n",
        "    out=''\n",
        "  return out"
      ]
    },
    {
      "cell_type": "code",
      "execution_count": null,
      "metadata": {},
      "outputs": [],
      "source": [
        "enron['To'] = enron['raw message'].apply(get_receiver)\n",
        "enron\n"
      ]
    },
    {
      "cell_type": "code",
      "execution_count": null,
      "metadata": {},
      "outputs": [],
      "source": [
        "# Your code here\n",
        "\n",
        "#solution\n",
        "def get_receiver(message):\n",
        "  to_list = re.findall('(To: )([\\w\\@\\.-]+)([ ,])',message)\n",
        "  if len(to_list)>0:\n",
        "    out = to_list[0][1]\n",
        "  else:\n",
        "    out=''\n",
        "  return out"
      ]
    },
    {
      "cell_type": "code",
      "execution_count": null,
      "metadata": {},
      "outputs": [],
      "source": [
        "enron['To'] = enron['raw message'].apply(get_receiver)\n",
        "enron\n"
      ]
    },
    {
      "cell_type": "code",
      "execution_count": null,
      "metadata": {},
      "outputs": [],
      "source": [
        "print(enron.iloc[3]['raw message'])"
      ]
    },
    {
      "cell_type": "markdown",
      "metadata": {},
      "source": [
        "Now let's get the date in a column:"
      ]
    },
    {
      "cell_type": "code",
      "execution_count": null,
      "metadata": {},
      "outputs": [],
      "source": [
        "# Check raw message again\n",
        "print(enron.iloc[0]['raw message'])"
      ]
    },
    {
      "cell_type": "markdown",
      "metadata": {},
      "source": [
        "We see the date is formatted like: {`Day of the week` (3 letters)}, {`Day`} {`Month` (3 letters)} {`Year` (4 digits)} {`Hours`}:{`Minutes`}:{`Seconds`} {`Time zone` (+/- 4 digits)} ({`Timezone name`})"
      ]
    },
    {
      "cell_type": "code",
      "execution_count": null,
      "metadata": {},
      "outputs": [],
      "source": [
        "date_pattern = 'Date: \\w{3}, \\d{1,2} \\w{3} \\d{4}'\n",
        "enron['Date'] = enron['raw message'].apply(lambda x: re.findall(date_pattern, x)[0])\n",
        "enron"
      ]
    },
    {
      "cell_type": "code",
      "execution_count": null,
      "metadata": {},
      "outputs": [],
      "source": [
        "# Let's remove the Date\n",
        "date_pattern = '(Date: )(\\w{3}, \\d{1,2} \\w{3} \\d{4})'\n",
        "enron['Date'] = enron['raw message'].apply(lambda x: re.findall(date_pattern, x)[0][1])\n",
        "enron"
      ]
    },
    {
      "cell_type": "code",
      "execution_count": null,
      "metadata": {},
      "outputs": [],
      "source": [
        "# Let's remove the day of the week\n",
        "date_pattern = '(Date: )(\\w{3}, )(\\d{1,2} \\w{3} \\d{4})'\n",
        "enron['Date'] = enron['raw message'].apply(lambda x: re.findall(date_pattern, x)[0][2])\n",
        "enron"
      ]
    },
    {
      "cell_type": "markdown",
      "metadata": {},
      "source": [
        "Let's also find potential names by looking for the following pattern: {`First Name`} {`Last Name`}"
      ]
    },
    {
      "cell_type": "code",
      "execution_count": null,
      "metadata": {},
      "outputs": [],
      "source": [
        "def names_mentioned_narrow_down(message):\n",
        "    return re.findall('[A-Z][a-z]+ [A-Z][a-z]+', message)"
      ]
    },
    {
      "cell_type": "markdown",
      "metadata": {},
      "source": [
        "**Notes:**\n",
        "- This time we don't use `\\w` as we know that names do not have digits (unless you're `X AE A-XII`, formerly known as `X Æ A-12`)\n",
        "- We can define ranges of characters to search for `[a-z]`\n",
        "- We can specify the capitalization of the range we're interested in `[A-Z]`, `[a-z]`, or `[A-z]` "
      ]
    },
    {
      "cell_type": "code",
      "execution_count": null,
      "metadata": {},
      "outputs": [],
      "source": [
        "enron['names_mentioned'] = enron['raw message'].apply(names_mentioned_narrow_down)\n",
        "enron"
      ]
    },
    {
      "cell_type": "markdown",
      "metadata": {},
      "source": [
        "## <a id='toc2_5_'></a>[💡 Do it yourself](#toc0_)"
      ]
    },
    {
      "cell_type": "markdown",
      "metadata": {},
      "source": [
        "Now find the emails mentioned!"
      ]
    },
    {
      "cell_type": "code",
      "execution_count": null,
      "metadata": {},
      "outputs": [],
      "source": [
        "# Your code here"
      ]
    },
    {
      "cell_type": "markdown",
      "metadata": {},
      "source": [
        "We can also extract any phone numbers that appear in our message, as they typically have this pattern: `###-###-###`"
      ]
    },
    {
      "cell_type": "code",
      "execution_count": null,
      "metadata": {},
      "outputs": [],
      "source": [
        "def phone_nr_mentioned(message):\n",
        "    return re.findall('([0-9]{3}-[0-9]{3}-[0-9]{3})', message)"
      ]
    },
    {
      "cell_type": "code",
      "execution_count": null,
      "metadata": {},
      "outputs": [],
      "source": [
        "enron['phone_nr_mentioned'] = enron['raw message'].apply(phone_nr_mentioned)\n",
        "enron"
      ]
    },
    {
      "cell_type": "markdown",
      "metadata": {},
      "source": [
        "# <a id='toc3_'></a>[References/Acknowledgments](#toc0_)\n",
        "\n",
        "This lesson was taken from David Henriques with a couple of edits."
      ]
    }
  ],
  "metadata": {
    "colab": {
      "provenance": []
    },
    "kernelspec": {
      "display_name": "Python 3",
      "name": "python3"
    },
    "language_info": {
      "codemirror_mode": {
        "name": "ipython",
        "version": 3
      },
      "file_extension": ".py",
      "mimetype": "text/x-python",
      "name": "python",
      "nbconvert_exporter": "python",
      "pygments_lexer": "ipython3",
      "version": "3.9.13"
    }
  },
  "nbformat": 4,
  "nbformat_minor": 0
}
