{
 "cells": [
  {
   "cell_type": "code",
   "execution_count": null,
   "metadata": {},
   "outputs": [],
   "source": [
    "import datetime as dt\n",
    "print(f\"This lesson was developed on: {dt.date.today()}\")"
   ]
  },
  {
   "cell_type": "markdown",
   "metadata": {},
   "source": [
    "**Table of contents**<a id='toc0_'></a>    \n",
    "- [API Wrappers](#toc1_)    \n",
    "- [Twitter API: RIP ⚰️](#toc2_)    \n",
    "- [Google Sheets API: A new beginning](#toc3_)    \n",
    "  - [Setup](#toc3_1_)    \n",
    "  - [Accessing a spreadsheet (look, mom, no credentials!)](#toc3_2_)    \n",
    "  - [Handling credentials in mini-production](#toc3_3_)    \n",
    "  - [`gspread` API wrapper, here to make life easier](#toc3_4_)    \n",
    "\n",
    "<!-- vscode-jupyter-toc-config\n",
    "\tnumbering=false\n",
    "\tanchor=true\n",
    "\tflat=false\n",
    "\tminLevel=1\n",
    "\tmaxLevel=6\n",
    "\t/vscode-jupyter-toc-config -->\n",
    "<!-- THIS CELL WILL BE REPLACED ON TOC UPDATE. DO NOT WRITE YOUR TEXT IN THIS CELL -->"
   ]
  },
  {
   "cell_type": "markdown",
   "metadata": {},
   "source": [
    "# <a id='toc1_'></a>[API Wrappers](#toc0_)"
   ]
  },
  {
   "cell_type": "markdown",
   "metadata": {},
   "source": [
    "The job of an API wrapper is to simplify even further the access to the data of a website. An API wrapper is typically a (Python) library that allows access to different API endpoints in an object-oriented manner. "
   ]
  },
  {
   "cell_type": "markdown",
   "metadata": {},
   "source": [
    "# <a id='toc2_'></a>[Twitter API: RIP ⚰️](#toc0_)"
   ]
  },
  {
   "cell_type": "markdown",
   "metadata": {},
   "source": [
    "![Elon-murderer](https://media.giphy.com/media/JVCY1XbJtVtdREJFWO/giphy.gif)"
   ]
  },
  {
   "cell_type": "markdown",
   "metadata": {},
   "source": [
    "As much as I wanted to share with you how the Twitter API wrapper (`tweepy`) works, Elon has put so many restrictions on the free version that the only available options are to manage tweets and to look up users..."
   ]
  },
  {
   "cell_type": "markdown",
   "metadata": {},
   "source": [
    "![Alt text](../images/twitter_api.png)"
   ]
  },
  {
   "cell_type": "markdown",
   "metadata": {},
   "source": [
    "...unless you're keen to pay at least $100/month for the Basic version, of course."
   ]
  },
  {
   "cell_type": "markdown",
   "metadata": {},
   "source": [
    "# <a id='toc3_'></a>[Google Sheets API: A new beginning](#toc0_)"
   ]
  },
  {
   "cell_type": "markdown",
   "metadata": {},
   "source": [
    "![excel](https://media.giphy.com/media/UMyvk17PIo3SiZQWju/giphy.gif)"
   ]
  },
  {
   "cell_type": "markdown",
   "metadata": {},
   "source": [
    "Today we will be looking at an API wrapper for working with Google Sheets, which can come in handy if you need to automate tasks or connect Google Sheets to different web applications. "
   ]
  },
  {
   "cell_type": "markdown",
   "metadata": {},
   "source": [
    "## <a id='toc3_1_'></a>[Setup](#toc0_)"
   ]
  },
  {
   "cell_type": "markdown",
   "metadata": {},
   "source": [
    "First we'll install the [`gspread`](https://docs.gspread.org/en/latest/) library:"
   ]
  },
  {
   "cell_type": "code",
   "execution_count": null,
   "metadata": {},
   "outputs": [],
   "source": [
    "# You know the drill\n",
    "# !pip install --upgrade gspread"
   ]
  },
  {
   "cell_type": "markdown",
   "metadata": {},
   "source": [
    "Now we will create a service account:\n",
    "\n",
    "1. Go to https://console.developers.google.com/\n",
    "2. Click \"Create project\" (top right)\n",
    "3. Click \"Enable APIs and Services\" (next to project title)\n",
    "4. Enable the Google Sheets API for your project (select the Google Sheets option), then click \"Enable\"\n",
    "5. Go to Create Credentials > Service Account > Name Service Account > Create & Continue > Role = Owner > Share with other people > Done\n",
    "6. Select Credentials > Service Accounts > Select the service you just created > Keys (top menu) > ADD KEY > Create new key > JSON > Download in the same folder as this notebook\n",
    "\n",
    "**Note:** The reason we create a service account is to provide continuity. For example, if someone was using their work account but then left the company, their account would be deleted and the company access to the API would be lost. Therefore, a service account is there to prevent that from happening."
   ]
  },
  {
   "cell_type": "markdown",
   "metadata": {},
   "source": [
    "## <a id='toc3_2_'></a>[Accessing a spreadsheet (look, mom, no credentials!)](#toc0_)"
   ]
  },
  {
   "cell_type": "code",
   "execution_count": null,
   "metadata": {},
   "outputs": [],
   "source": [
    "import requests\n",
    "import gspread\n",
    "import json\n",
    "import pandas as pd"
   ]
  },
  {
   "cell_type": "markdown",
   "metadata": {},
   "source": [
    "For this exercise, I recommend you create a copy of the [[DEMO] Course Planning](https://docs.google.com/spreadsheets/d/1lOOM9GrIiRIOHVzWjOyu12mVC-5PbLnTRpeIzrrLywI/edit#gid=955120891) spreadsheet so we don't interfere in the changes we make to the sheet."
   ]
  },
  {
   "cell_type": "code",
   "execution_count": null,
   "metadata": {},
   "outputs": [],
   "source": [
    "# Set up os and dotenv\n",
    "import os\n",
    "from dotenv import load_dotenv\n",
    "load_dotenv()"
   ]
  },
  {
   "cell_type": "code",
   "execution_count": null,
   "metadata": {},
   "outputs": [],
   "source": [
    "# Get spreadsheet ID\n",
    "spreadsheet_id = os.getenv('SPREADSHEET_ID')\n",
    "print(spreadsheet_id)"
   ]
  },
  {
   "cell_type": "code",
   "execution_count": null,
   "metadata": {},
   "outputs": [],
   "source": [
    "# Select a range and create a new URL\n",
    "range_name = \"'Class Planning'!A1\"\n",
    "url = 'https://sheets.googleapis.com/v4/spreadsheets/' + spreadsheet_id + '/values/' + range_name"
   ]
  },
  {
   "cell_type": "markdown",
   "metadata": {},
   "source": [
    "**Note:** The spreadsheet ID doesn't change once the sheet has been created so you can access it even if it was moved to a different location in GDrive!"
   ]
  },
  {
   "cell_type": "code",
   "execution_count": null,
   "metadata": {},
   "outputs": [],
   "source": [
    "# Try to extract the contents of the cell\n",
    "response = requests.get(url)\n",
    "response.json()"
   ]
  },
  {
   "cell_type": "markdown",
   "metadata": {},
   "source": [
    "## <a id='toc3_3_'></a>[Handling credentials in mini-production](#toc0_)"
   ]
  },
  {
   "cell_type": "markdown",
   "metadata": {},
   "source": [
    "Google Developer setup (part 2):\n",
    "\n",
    "- Create a new API key in the **Credentials > Create Credentials > API key** and save it to your `.env` file\n",
    "- Share the [[DEMO] Course Schedule](https://docs.google.com/spreadsheets/d/1lOOM9GrIiRIOHVzWjOyu12mVC-5PbLnTRpeIzrrLywI/edit#gid=955120891) sheet with your Service email (looks something like this: `service-name@service-name.iam.gserviceaccount.com`)\n",
    "\n",
    "⚠️ **Again, make sure to add the `.env` file in your `.gitignore` file if you're uploading anything on GitHub!!!** ⚠️"
   ]
  },
  {
   "cell_type": "code",
   "execution_count": null,
   "metadata": {},
   "outputs": [],
   "source": [
    "# Get API key\n",
    "API_key = os.getenv('GOOGLE_API_KEY')\n",
    "print(API_key)"
   ]
  },
  {
   "cell_type": "code",
   "execution_count": null,
   "metadata": {},
   "outputs": [],
   "source": [
    "# Set up request parameters & headers\n",
    "params = {\n",
    "   'key': API_key\n",
    "}"
   ]
  },
  {
   "cell_type": "code",
   "execution_count": null,
   "metadata": {},
   "outputs": [],
   "source": [
    "# Send request\n",
    "response = requests.get(url, params=params)"
   ]
  },
  {
   "cell_type": "code",
   "execution_count": null,
   "metadata": {},
   "outputs": [],
   "source": [
    "# Review response\n",
    "response.json()"
   ]
  },
  {
   "cell_type": "markdown",
   "metadata": {},
   "source": [
    "> This is **not** how we would typically handle a request in production, for that we would use an more advanced authentication method, such as OAuth, which essentially generates Authentication keys with a timeout. However that is kind of a bother to handle, requiring even a call to *another* API to generate the keys."
   ]
  },
  {
   "cell_type": "markdown",
   "metadata": {},
   "source": [
    "## <a id='toc3_4_'></a>[`gspread` API wrapper, here to make life easier](#toc0_)"
   ]
  },
  {
   "cell_type": "code",
   "execution_count": null,
   "metadata": {},
   "outputs": [],
   "source": [
    "json_credentials_path = 'class_credentials.json'"
   ]
  },
  {
   "cell_type": "code",
   "execution_count": null,
   "metadata": {},
   "outputs": [],
   "source": [
    "# Connect to the service account\n",
    "gc = gspread.service_account(filename=json_credentials_path)"
   ]
  },
  {
   "cell_type": "code",
   "execution_count": null,
   "metadata": {},
   "outputs": [],
   "source": [
    "# Get first workseet\n",
    "sheet = gc.open_by_key(spreadsheet_id)\n",
    "worksheet = sheet.get_worksheet(0)"
   ]
  },
  {
   "cell_type": "code",
   "execution_count": null,
   "metadata": {},
   "outputs": [],
   "source": [
    "# Show worksheet\n",
    "worksheet"
   ]
  },
  {
   "cell_type": "code",
   "execution_count": null,
   "metadata": {},
   "outputs": [],
   "source": [
    "# or use sheet name\n",
    "worksheet = sheet.worksheet(\"Class Planning\")"
   ]
  },
  {
   "cell_type": "markdown",
   "metadata": {},
   "source": [
    "Get all values is not available in the original API (where you need to specify the range), but it's a natural call to make:"
   ]
  },
  {
   "cell_type": "code",
   "execution_count": null,
   "metadata": {},
   "outputs": [],
   "source": [
    "# Get all values\n",
    "worksheet.get_all_values()"
   ]
  },
  {
   "cell_type": "markdown",
   "metadata": {},
   "source": [
    "or in a different form, which may be more helpful, but would not be available natively:"
   ]
  },
  {
   "cell_type": "code",
   "execution_count": null,
   "metadata": {},
   "outputs": [],
   "source": [
    "# get all records\n",
    "print(worksheet.get_all_records())\n",
    "\n",
    "# Show them into a dataframe\n",
    "pd.DataFrame(worksheet.get_all_records())"
   ]
  },
  {
   "cell_type": "markdown",
   "metadata": {},
   "source": [
    "**Note:** If any of your Google Sheets headers are duplicates, you will get an error (`GSpreadException: the given 'expected_headers' are not uniques`)"
   ]
  },
  {
   "cell_type": "code",
   "execution_count": null,
   "metadata": {},
   "outputs": [],
   "source": [
    "# Find all the cells containing the projects using regex\n",
    "import re\n",
    "worksheet.findall(re.compile('project'))"
   ]
  },
  {
   "cell_type": "markdown",
   "metadata": {},
   "source": [
    "As another example, the native API has functions to add a row at once, which would require a loop and multiple requests if we wanted to add a bunch of rows, but this is a natural action to do with the API:"
   ]
  },
  {
   "cell_type": "code",
   "execution_count": null,
   "metadata": {},
   "outputs": [],
   "source": [
    "# Define the index and number of rows to insert\n",
    "row_index = len(pd.DataFrame(worksheet.get_all_records())) + 1\n",
    "num_rows = 4\n",
    "\n",
    "# Perform batch insertion\n",
    "worksheet.insert_rows(range(num_rows), row=row_index)"
   ]
  },
  {
   "cell_type": "markdown",
   "metadata": {},
   "source": [
    "To learn more about this API Wrapper, you can visit the [documentation](https://developers.google.com/sheets/api/guides/concepts). Services that do integrations between multiple apps (Zapier, Airtable) very likely use the Google Sheets API to communicate across services."
   ]
  }
 ],
 "metadata": {
  "kernelspec": {
   "display_name": "base",
   "language": "python",
   "name": "python3"
  },
  "language_info": {
   "codemirror_mode": {
    "name": "ipython",
    "version": 3
   },
   "file_extension": ".py",
   "mimetype": "text/x-python",
   "name": "python",
   "nbconvert_exporter": "python",
   "pygments_lexer": "ipython3",
   "version": "3.9.13"
  },
  "orig_nbformat": 4
 },
 "nbformat": 4,
 "nbformat_minor": 2
}
