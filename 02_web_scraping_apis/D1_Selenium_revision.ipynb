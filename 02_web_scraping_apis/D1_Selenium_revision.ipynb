{
  "cells": [
    {
      "cell_type": "markdown",
      "metadata": {},
      "source": [
        "**Table of contents**<a id='toc0_'></a>    \n",
        "- [Web Scraping Tools](#toc1_)    \n",
        "- [Selenium](#toc2_)    \n",
        "  - [Case study: Scraping Linkedin job posts](#toc2_1_)    \n",
        "    - [Install web driver](#toc2_1_1_)    \n",
        "    - [Log into Linkedin](#toc2_1_2_)    \n",
        "    - [Find job position](#toc2_1_3_)    \n",
        "      - [What is the job position you want to search for?](#toc2_1_3_1_)    \n",
        "      - [What is the job location you want to search for?](#toc2_1_3_2_)    \n",
        "      - [Can we find what we need from the HTML?](#toc2_1_3_3_)    \n",
        "      - [Loop through the available pages](#toc2_1_3_4_)    \n",
        "  - [Extra: Do the scraping using Selenium](#toc2_2_)    \n",
        "  - [Extra: Save cookies in a pickle 🥒](#toc2_3_)    \n",
        "- [References/Acknowledgments](#toc3_)    \n",
        "\n",
        "<!-- vscode-jupyter-toc-config\n",
        "\tnumbering=false\n",
        "\tanchor=true\n",
        "\tflat=false\n",
        "\tminLevel=1\n",
        "\tmaxLevel=6\n",
        "\t/vscode-jupyter-toc-config -->\n",
        "<!-- THIS CELL WILL BE REPLACED ON TOC UPDATE. DO NOT WRITE YOUR TEXT IN THIS CELL -->"
      ]
    },
    {
      "cell_type": "markdown",
      "metadata": {},
      "source": [
        "# <a id='toc1_'></a>[Web Scraping Tools](#toc0_)"
      ]
    },
    {
      "cell_type": "markdown",
      "metadata": {},
      "source": [
        "Some of the main tools used for web scraping in Python include:\n",
        "- [`requests`](https://requests.readthedocs.io/en/latest/) - allows you to send HTTP requests easily through built-in structures that mimic the typical HTTP request structure, e.g. `get`, `post`, etc. It's basically the starting point for any web scraping project. However, it has 2 drawbacks: it can only scrape **static** HTML content and it sends **synchronous** requests. This means that it doesn't work well on Javascript heavy pages (i.e. pages with a lot of dynamic content, like `AirBnB`) and it becomes very slow if you want to send a big number of requests.\n",
        "- `BeautifulSoup` - allows you to extract information from HTML pages using the HTML/CSS structural elements, i.e. tags and attributes.\n",
        "- `Scrapy` - automates web scraping by providing some of the typical structures for extracting information from websites. It is **asynchronous** and widely used for large scale scraping projects. Drawbacks: It runs on **static** HTML pages and it requires a decent understanding of object-oriented programming.\n",
        "- `Selenium` - emulates web browsers to enable scraping of Javascript-heavy websites. Drawbacks: It can be slow on its own so it's typically used with `requests`, `BeautifulSoup`, and/or `Scrapy`.\n",
        "- `aiohttp` - the **asynchronous** cousin of `requests`. Has mostly the same functionality but it doesn't wait for each request to receive a response from the server before sending the next request - i.e. why it's asynchronous. To understand how asynchronous programming works, I highly recommend this [blog post series on the `asyncio` library](https://bbc.github.io/cloudfit-public-docs/asyncio/asyncio-part-1). Please read this **after** the bootcamp though, you likely won't need it now."
      ]
    },
    {
      "cell_type": "markdown",
      "metadata": {},
      "source": [
        "**Note:** Remember, before wanting to scrape any website (and especially big websites), make sure that there's an API available that you can use!"
      ]
    },
    {
      "cell_type": "markdown",
      "metadata": {},
      "source": [
        "# <a id='toc2_'></a>[Selenium](#toc0_)"
      ]
    },
    {
      "cell_type": "markdown",
      "metadata": {},
      "source": [
        "> Selenium is an open-source framework **widely used for testing web applications**. It empowers developers and testers to automate interactions with web applications, such as clicking buttons, filling forms, and navigating pages, mimicking user behavior. It supports interaction with complex web elements and dynamic content, making it suitable for modern web applications. \n",
        "\n",
        "(courtesy of ChatGPT)"
      ]
    },
    {
      "cell_type": "markdown",
      "metadata": {},
      "source": [
        "## <a id='toc2_1_'></a>[Case study: Scraping Linkedin job posts](#toc0_)"
      ]
    },
    {
      "cell_type": "markdown",
      "metadata": {},
      "source": [
        "<iframe src=\"https://giphy.com/embed/dgg13lkNAUa5eibLiY\" width=\"480\" height=\"270\" frameBorder=\"0\" class=\"giphy-embed\" allowFullScreen></iframe><p><a href=\"https://giphy.com/gifs/dgg13lkNAUa5eibLiY\">via GIPHY</a></p>"
      ]
    },
    {
      "cell_type": "code",
      "execution_count": null,
      "metadata": {
        "id": "Cg6Ybi4-JXLo",
        "outputId": "814c1892-18b6-4f29-9bf1-0f71350baba6"
      },
      "outputs": [],
      "source": [
        "# You know the drill\n",
        "# !pip install selenium\n",
        "# !pip install webdriver_manager"
      ]
    },
    {
      "cell_type": "code",
      "execution_count": null,
      "metadata": {
        "id": "K5fblUwuR9V-"
      },
      "outputs": [],
      "source": [
        "# time - used to create breaks between requests \n",
        "import time\n",
        "\n",
        "# getpass - to input our password without showing it in the notebook\n",
        "from getpass import getpass\n",
        "\n",
        "# Juicy stuff - these are the Classes we will use for interaction with a webpage:\n",
        "from selenium import webdriver\n",
        "from selenium.webdriver.common.keys import Keys\n",
        "from selenium.webdriver.chrome.service import Service\n",
        "from selenium.webdriver.common.by import By\n",
        "from webdriver_manager.chrome import ChromeDriverManager\n",
        "from selenium.common import NoSuchElementException, ElementClickInterceptedException\n",
        "\n",
        "# libraries for interacting with the operating system (OS)\n",
        "import pathlib\n",
        "import os\n",
        "from os.path import join\n",
        "\n",
        "import pandas as pd\n",
        "import random\n",
        "import re\n",
        "from bs4 import BeautifulSoup\n",
        "\n",
        "# Ignore warning -- Some methods are going to be deprecated \n",
        "import warnings\n",
        "warnings.filterwarnings('ignore')"
      ]
    },
    {
      "cell_type": "markdown",
      "metadata": {},
      "source": [
        "### <a id='toc2_1_1_'></a>[Install web driver](#toc0_)"
      ]
    },
    {
      "cell_type": "code",
      "execution_count": null,
      "metadata": {
        "colab": {
          "base_uri": "https://localhost:8080/",
          "height": 380
        },
        "id": "I5HHJRnxR9WA",
        "outputId": "77275857-e0eb-4403-f73e-f6537fabfc61"
      },
      "outputs": [],
      "source": [
        "driver = webdriver.Chrome(service=Service(ChromeDriverManager().install()))"
      ]
    },
    {
      "cell_type": "markdown",
      "metadata": {},
      "source": [
        "### <a id='toc2_1_2_'></a>[Log into Linkedin](#toc0_)"
      ]
    },
    {
      "cell_type": "code",
      "execution_count": null,
      "metadata": {
        "id": "hg4HLHuER9WB"
      },
      "outputs": [],
      "source": [
        "# open the website\n",
        "driver.get('https://www.linkedin.com/login/')"
      ]
    },
    {
      "cell_type": "code",
      "execution_count": null,
      "metadata": {},
      "outputs": [],
      "source": [
        "# Add email\n",
        "email = input('Enter your email: ')"
      ]
    },
    {
      "cell_type": "code",
      "execution_count": null,
      "metadata": {},
      "outputs": [],
      "source": [
        "# Find email box\n",
        "email_box = driver.find_element(By.ID, \"username\")"
      ]
    },
    {
      "cell_type": "code",
      "execution_count": null,
      "metadata": {},
      "outputs": [],
      "source": [
        "# Clear email box\n",
        "email_box.clear()"
      ]
    },
    {
      "cell_type": "code",
      "execution_count": null,
      "metadata": {},
      "outputs": [],
      "source": [
        "# Input password into browser\n",
        "email_box.send_keys(email)"
      ]
    },
    {
      "cell_type": "code",
      "execution_count": null,
      "metadata": {},
      "outputs": [],
      "source": [
        "# Add sleeping time to mimic human behaviour\n",
        "time.sleep(random.random() * 3)"
      ]
    },
    {
      "cell_type": "code",
      "execution_count": null,
      "metadata": {},
      "outputs": [],
      "source": [
        "# Add password\n",
        "password = getpass('Enter your password: ')\n",
        "\n",
        "# Find password box\n",
        "pass_box = driver.find_element(By.ID, \"password\")\n",
        "\n",
        "# Clear password box\n",
        "pass_box.clear()\n",
        "\n",
        "# Input password into browser\n",
        "pass_box.send_keys(password)\n",
        "\n",
        "# Add sleeping time to mimic human behaviour\n",
        "time.sleep(random.random() * 3)"
      ]
    },
    {
      "cell_type": "code",
      "execution_count": null,
      "metadata": {},
      "outputs": [],
      "source": [
        "# Find and click on the log-in button\n",
        "login = driver.find_element(By.CLASS_NAME, 'login__form_action_container')\n",
        "login.click()\n",
        "time.sleep(random.random() * 3)"
      ]
    },
    {
      "cell_type": "code",
      "execution_count": null,
      "metadata": {
        "id": "ghIm1vlzJXLz",
        "outputId": "f4239da1-345d-4770-85ec-8b101475cd26"
      },
      "outputs": [],
      "source": [
        "# Add exception handling\n",
        "try:\n",
        "    login = driver.find_element(By.CLASS_NAME, 'login__form_action_container')\n",
        "    login.click()\n",
        "    time.sleep(random.random() * 3)\n",
        "except NoSuchElementException:\n",
        "    print(\"Log-in already done!\")\n",
        "except Exception as e:\n",
        "    raise e"
      ]
    },
    {
      "cell_type": "markdown",
      "metadata": {},
      "source": [
        "### <a id='toc2_1_3_'></a>[Find job position](#toc0_)"
      ]
    },
    {
      "cell_type": "code",
      "execution_count": null,
      "metadata": {
        "id": "bQEVcYPmR9WE"
      },
      "outputs": [],
      "source": [
        "# Go to job search bar\n",
        "try:\n",
        "    job_icon = driver.find_element(By.CSS_SELECTOR, \"span[title='Jobs']\")\n",
        "    job_icon.click()\n",
        "    time.sleep(random.random() * 3)\n",
        "except ElementClickInterceptedException:\n",
        "    print(\"Element not displayed by JS. Try zooming in or resizing the window\")\n",
        "except Exception as e:\n",
        "    print(repr(e))"
      ]
    },
    {
      "cell_type": "code",
      "execution_count": null,
      "metadata": {},
      "outputs": [],
      "source": [
        "# Zooming in\n",
        "driver.execute_script(\"document.body.style.zoom='200%'\")"
      ]
    },
    {
      "cell_type": "code",
      "execution_count": null,
      "metadata": {},
      "outputs": [],
      "source": [
        "# Zooming out\n",
        "driver.execute_script(\"document.body.style.zoom='67%'\")"
      ]
    },
    {
      "cell_type": "code",
      "execution_count": null,
      "metadata": {},
      "outputs": [],
      "source": [
        "driver.maximize_window()"
      ]
    },
    {
      "cell_type": "markdown",
      "metadata": {},
      "source": [
        "#### <a id='toc2_1_3_1_'></a>[What is the job position you want to search for?](#toc0_)"
      ]
    },
    {
      "cell_type": "code",
      "execution_count": null,
      "metadata": {},
      "outputs": [],
      "source": [
        "# Optional - Change window size\n",
        "# driver.set_window_size(800, 600)"
      ]
    },
    {
      "cell_type": "code",
      "execution_count": null,
      "metadata": {
        "id": "aksOK7YbR9WF"
      },
      "outputs": [],
      "source": [
        "search_job = driver.find_elements(By.CLASS_NAME,'jobs-search-box__text-input')[0] \n",
        "job = input('What job do you want to search for: ')\n",
        "search_job.clear()\n",
        "search_job.send_keys(job)\n",
        "time.sleep(random.random() * 3)\n",
        "\n",
        "# Go to the location tab\n",
        "search_job.send_keys(Keys.TAB)"
      ]
    },
    {
      "cell_type": "markdown",
      "metadata": {},
      "source": [
        "#### <a id='toc2_1_3_2_'></a>[What is the job location you want to search for?](#toc0_)"
      ]
    },
    {
      "cell_type": "code",
      "execution_count": null,
      "metadata": {
        "id": "xqHdk1eJR9WG"
      },
      "outputs": [],
      "source": [
        "location_box = driver.switch_to.active_element\n",
        "location = input('Where do you want to search for jobs: ')\n",
        "location_box.send_keys(location)\n",
        "time.sleep(random.random() * 3)"
      ]
    },
    {
      "cell_type": "code",
      "execution_count": null,
      "metadata": {
        "id": "oehwUBoFR9WH"
      },
      "outputs": [],
      "source": [
        "# Now let's search\n",
        "location_box.send_keys(Keys.ENTER)"
      ]
    },
    {
      "cell_type": "markdown",
      "metadata": {},
      "source": [
        "**Note:** In this exercise I'm keeping both windows open at the same time alongside each other. If you switch from one window to another the same strategy won't work.  \n",
        "\n",
        "**Why?** Because Linkedin will close the location search bar as soon as you switch to VSCode. \n",
        "\n",
        "**Why do they do that?** Probably to get rid of us :("
      ]
    },
    {
      "cell_type": "code",
      "execution_count": null,
      "metadata": {
        "id": "gCvypbbnR9WI"
      },
      "outputs": [],
      "source": [
        "# Maximize the window - useful to see all the elements as the page is dynamic\n",
        "driver.maximize_window()"
      ]
    },
    {
      "cell_type": "code",
      "execution_count": null,
      "metadata": {},
      "outputs": [],
      "source": [
        "## Optional: you can also fullscreen the window\n",
        "# driver.fullscreen_window()"
      ]
    },
    {
      "cell_type": "markdown",
      "metadata": {},
      "source": [
        "#### <a id='toc2_1_3_3_'></a>[Can we find what we need from the HTML?](#toc0_)"
      ]
    },
    {
      "cell_type": "markdown",
      "metadata": {},
      "source": [
        "As mentioned previously, Selenium can be quite slow, so we'd always want to check whether we can fetch our data directly using static web scraping tools (i.e. `requests`, `BeautifulSoup`, `scrapy`):"
      ]
    },
    {
      "cell_type": "code",
      "execution_count": null,
      "metadata": {},
      "outputs": [],
      "source": [
        "# Check if the source code contains the job listings\n",
        "html = driver.page_source\n",
        "soup = BeautifulSoup(html)\n",
        "soup.find_all(attrs={'class': re.compile(r'job-card-list__title')})"
      ]
    },
    {
      "cell_type": "code",
      "execution_count": null,
      "metadata": {},
      "outputs": [],
      "source": [
        "# Clean the list\n",
        "job_list_dirty = soup.find_all(attrs={'class': re.compile(r'job-card-list__title')})\n",
        "job_list_clean = [job.text.strip() for job in job_list_dirty]\n",
        "job_list_clean"
      ]
    },
    {
      "cell_type": "code",
      "execution_count": null,
      "metadata": {},
      "outputs": [],
      "source": [
        "# Do the same for the company\n",
        "job_company_dirty = soup.find_all('div', attrs={'class': re.compile(r'^artdeco-entity-lockup__subtitle')})\n",
        "job_company_clean = [company.text.strip() for company in job_company_dirty]\n",
        "job_company_clean"
      ]
    },
    {
      "cell_type": "code",
      "execution_count": null,
      "metadata": {},
      "outputs": [],
      "source": [
        "# Make it into a dataset\n",
        "data = zip(job_list_clean, job_company_clean)\n",
        "df = pd.DataFrame(data, columns=['Job', 'Company'])\n",
        "df"
      ]
    },
    {
      "cell_type": "code",
      "execution_count": null,
      "metadata": {},
      "outputs": [],
      "source": [
        "# Great, let's now create a function out of this:\n",
        "def get_job_postings(driver, page):\n",
        "     \n",
        "     # Zoom in 100% to ensure all HTML is loaded\n",
        "     driver.execute_script(\"document.body.style.zoom='100%'\")\n",
        "    \n",
        "     # Go to bottom of page to retrieve all job postings\n",
        "     page.send_keys(Keys.END)\n",
        "     page.send_keys(Keys.CONTROL + Keys.HOME) # combination of the two keys brings you to the top of the element\n",
        "    \n",
        "     # Parse HTML\n",
        "     html = driver.page_source\n",
        "     soup = BeautifulSoup(html)\n",
        "    \n",
        "     # Get jobs\n",
        "     job_list_dirty = soup.find_all(attrs={'class': re.compile(r'job-card-list__title')})\n",
        "     job_list_clean = [job.text.strip() for job in job_list_dirty]\n",
        "    \n",
        "     # Get companies\n",
        "     job_company_dirty = soup.find_all('div', attrs={'class': re.compile(r'^artdeco-entity-lockup__subtitle')})\n",
        "     job_company_clean = [company.text.strip() for company in job_company_dirty]\n",
        "    \n",
        "     # Convert data in to dataframe\n",
        "     data = zip(job_list_clean, job_company_clean)\n",
        "     return pd.DataFrame(data, columns=['Job', 'Company'])"
      ]
    },
    {
      "cell_type": "code",
      "execution_count": null,
      "metadata": {},
      "outputs": [],
      "source": [
        "page = driver.find_element(By.CSS_SELECTOR,\"a[class^='disabled ember-view']\")\n",
        "get_job_postings(driver, page)"
      ]
    },
    {
      "cell_type": "markdown",
      "metadata": {},
      "source": [
        "#### <a id='toc2_1_3_4_'></a>[Loop through the available pages](#toc0_)"
      ]
    },
    {
      "cell_type": "code",
      "execution_count": null,
      "metadata": {},
      "outputs": [],
      "source": [
        "# Get a list with the buttons in the page\n",
        "def get_buttons(page):\n",
        "    buttons = []\n",
        "    for button in page.find_elements(By.XPATH, \"//ul/li/button\"):\n",
        "        try:\n",
        "            int(button.text)\n",
        "            buttons.append(button)\n",
        "        except:\n",
        "            pass\n",
        "    return buttons"
      ]
    },
    {
      "cell_type": "code",
      "execution_count": null,
      "metadata": {},
      "outputs": [],
      "source": [
        "# Get the number of pages to scrape\n",
        "current_page = driver.find_element(By.CSS_SELECTOR,\"a[class^='disabled ember-view']\")\n",
        "buttons = get_buttons(current_page)"
      ]
    },
    {
      "cell_type": "code",
      "execution_count": null,
      "metadata": {},
      "outputs": [],
      "source": [
        "button_nos = [button.text for button in buttons]\n",
        "button_no = max(button_nos)\n",
        "button_no"
      ]
    },
    {
      "cell_type": "code",
      "execution_count": null,
      "metadata": {},
      "outputs": [],
      "source": [
        "# Loop through pages and save results in a dataframe\n",
        "df = pd.DataFrame()\n",
        "driver.execute_script(\"document.body.style.zoom='100%'\")\n",
        "\n",
        "for i in range(len(buttons)):\n",
        "    # Printing the button number for debugging purposes\n",
        "    print(i)\n",
        "    \n",
        "    # Extract posts from current page\n",
        "    current_page = driver.find_element(By.CSS_SELECTOR,\"a[class^='disabled ember-view']\")\n",
        "    postings = get_job_postings(driver, current_page)\n",
        "    \n",
        "    # Refresh button list (if you don't the code will throw an exception.. trust me I spent half an hour debugging it)\n",
        "    current_buttons = get_buttons(current_page)\n",
        "    \n",
        "    # Add to dataframe\n",
        "    df = pd.concat([df, postings], axis=0)\n",
        "    \n",
        "    # Go to the next page\n",
        "    current_buttons[i].click()"
      ]
    },
    {
      "cell_type": "code",
      "execution_count": null,
      "metadata": {},
      "outputs": [],
      "source": [
        "# Check dataframe\n",
        "df.drop_duplicates()"
      ]
    },
    {
      "cell_type": "markdown",
      "metadata": {},
      "source": [
        "## <a id='toc2_2_'></a>[Extra: Do the scraping using Selenium](#toc0_)"
      ]
    },
    {
      "cell_type": "markdown",
      "metadata": {},
      "source": [
        "This bit is to illustrate how slow Selenium can be in comparison to retrieving the HTML for the page:"
      ]
    },
    {
      "cell_type": "code",
      "execution_count": null,
      "metadata": {},
      "outputs": [],
      "source": [
        "def page_scraper(job_no): ## add pages\n",
        "\n",
        "    \"\"\" SUMMARY: This function retrieves all the job posts links from one page and returns a dataset with\n",
        "    the name of the job in one column and the link to the post in the other. Also it will write the same info in different files for every single job post.\n",
        "\n",
        "    HOW IT WORKS: Input the number of jobs you want to scrape. It will search on the page for the elements by css selector \n",
        "    from all the job posts then loop for every single element and retrieve the 'href'. Also it will click on every job post and find the job name.\n",
        "    This info will be saved in a dictionary that will in the end be converted to a dataset.\n",
        "    Below we will open and create a text file with the name of the job post and inside save the link for further details\"\"\"\n",
        "\n",
        "    # For scraper reasons it's required to duplicate the job_no as it retrieves 2 times the same position:\n",
        "    #job_no = job_no*2\n",
        "\n",
        "    # empty list for saving the job names , link and extra info:\n",
        "    job_list = []\n",
        "\n",
        "    # Reduce the page size in order to be able to find the name of the job in the right session\n",
        "    driver.execute_script(\"document.body.style.zoom='67%'\")\n",
        "\n",
        "    # all jobs in the page\n",
        "    job_raw = driver.find_elements(By.CSS_SELECTOR,\"a[class^='disabled ember-view']\")\n",
        "\n",
        "    # go to the end of the page for all the elements to be loaded\n",
        "    page = driver.find_element(By.CSS_SELECTOR,\"a[class^='disabled ember-view']\")\n",
        "    page.send_keys(Keys.END)\n",
        "    # go to the top of the page for all the elements to be loaded\n",
        "    page.send_keys(Keys.CONTROL + Keys.HOME) # combination of the two keys brings you to the top of the element\n",
        "\n",
        "\n",
        "    for job_index in range(job_no):\n",
        "        # get the job link\n",
        "        ref = job_raw[job_index].get_attribute('href')\n",
        "        time.sleep(random.random() * 3)\n",
        "\n",
        "        # increase the page size because the inspect for getting the job name where done wiht the page maximized\n",
        "        driver.execute_script(\"document.body.style.zoom='100%'\")\n",
        "\n",
        "        ## let's click on the job post ##\n",
        "        # driver.find_elements_by_css_selector(\"a[class^='disabled ember-view']\")[job_index].click()\n",
        "        job_raw[job_index].click()\n",
        "        time.sleep(random.random() * 3)\n",
        "\n",
        "        ## then we reduce the page size in order to be able to see the right part of the page\n",
        "        # and find the element with the name of the job ##\n",
        "        driver.execute_script(\"document.body.style.zoom='67%'\")\n",
        "        time.sleep(random.random() * 3)\n",
        "\n",
        "        # get the job name with the .text method\n",
        "        job_name = driver.find_element(By.CSS_SELECTOR, \"h2[class^='t-24 t-bold']\").text\n",
        "        time.sleep(random.random() * 3)\n",
        "\n",
        "        # Couldn't retrieve the company name with the same method so created a workaround\n",
        "        company_name = \" \".join(driver.find_element(By.CSS_SELECTOR, \"a[href^='/company']\").get_attribute('href').split(\"/\")[-3].split(\"-\")).title()\n",
        "        print(company_name)\n",
        "\n",
        "        # get company name:\n",
        "        job_details = driver.find_element(By.ID, \"job-details\").text\n",
        "\n",
        "        # increase the page size:\n",
        "        #driver.execute_script(\"document.body.style.zoom='100%'\")\n",
        "\n",
        "        # populate list:\n",
        "        job_idx_list = [ref, job_name, company_name, job_details]\n",
        "        time.sleep(random.random() * 3)\n",
        "\n",
        "        page.send_keys(Keys.PAGE_DOWN)\n",
        "        job_list.append(job_idx_list)\n",
        "        print(f\"Collected job: {job_name} for company: {company_name}\")\n",
        "\n",
        "    #Create dataframe:\n",
        "    job_df = pd.DataFrame(job_list,\n",
        "                                 columns = [\"job_link\", \"position\", \"company name\", \"job description\"]\n",
        "                                ).drop_duplicates()\n",
        "\n",
        "\n",
        "    #Save dataframe in excel file to later use our job\n",
        "    job_df.to_excel(pathlib.Path().joinpath('scraped_jobs.xlsx'),\n",
        "                           sheet_name='Jobs',\n",
        "                           index= False)\n",
        "\n",
        "    return job_df"
      ]
    },
    {
      "cell_type": "code",
      "execution_count": null,
      "metadata": {},
      "outputs": [],
      "source": [
        "# Here I input the number of jobs to reduce the collection time\n",
        "page_scraper(5)"
      ]
    },
    {
      "cell_type": "markdown",
      "metadata": {},
      "source": [
        "If you work in Jupyter notebook, you can use the magic function `%time` before your function to check how long it took to run:"
      ]
    },
    {
      "cell_type": "code",
      "execution_count": null,
      "metadata": {},
      "outputs": [],
      "source": [
        "%time page_scraper(2)"
      ]
    },
    {
      "cell_type": "code",
      "execution_count": null,
      "metadata": {},
      "outputs": [],
      "source": [
        "driver.close() # closes the driver"
      ]
    },
    {
      "cell_type": "markdown",
      "metadata": {},
      "source": [
        "## <a id='toc2_3_'></a>[Extra: Save cookies in a pickle 🥒](#toc0_)"
      ]
    },
    {
      "cell_type": "code",
      "execution_count": null,
      "metadata": {
        "id": "IMs76OeBR9WM"
      },
      "outputs": [],
      "source": [
        "# Save cookies in a pickle file\n",
        "import pickle\n",
        "\n",
        "# Create an empty folder\n",
        "cookies_dir = 'saved_cookies'\n",
        "lis_dir = os.listdir()\n",
        "\n",
        "if cookies_dir not in lis_dir:\n",
        "    os.mkdir(cookies_dir)\n",
        "else:\n",
        "    pass # os.removedirs(cookies_dir) --> to remove a directory\n",
        "\n",
        "save_location = cookies_dir + '/cookies.pkl'\n",
        "pickle.dump(driver.get_cookies() , open(save_location,\"wb\"))"
      ]
    },
    {
      "cell_type": "code",
      "execution_count": null,
      "metadata": {
        "id": "r9bSN73CR9WN"
      },
      "outputs": [],
      "source": [
        "# Load cookies\n",
        "cookies = pickle.load(open(save_location, \"rb\"))\n",
        "for cookie in cookies:\n",
        "    driver.add_cookie(cookie)"
      ]
    },
    {
      "cell_type": "markdown",
      "metadata": {},
      "source": [
        "# <a id='toc3_'></a>[References/Acknowledgments](#toc0_)\n",
        "\n",
        "Thanks Goncalo Jardim for the main class structure and code to scrape Linkedin job posts."
      ]
    }
  ],
  "metadata": {
    "colab": {
      "collapsed_sections": [
        "DjHVfaipR9WG",
        "gM6LkxT5R9WH"
      ],
      "provenance": []
    },
    "kernelspec": {
      "display_name": "Python 3 (ipykernel)",
      "language": "python",
      "name": "python3"
    },
    "language_info": {
      "codemirror_mode": {
        "name": "ipython",
        "version": 3
      },
      "file_extension": ".py",
      "mimetype": "text/x-python",
      "name": "python",
      "nbconvert_exporter": "python",
      "pygments_lexer": "ipython3",
      "version": "3.9.13"
    }
  },
  "nbformat": 4,
  "nbformat_minor": 0
}
