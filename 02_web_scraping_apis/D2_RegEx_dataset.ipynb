{
  "cells": [
    {
      "cell_type": "markdown",
      "metadata": {},
      "source": [
        "# Get `enron` email dataset"
      ]
    },
    {
      "cell_type": "code",
      "execution_count": null,
      "metadata": {
        "id": "pvV_opPDW0Lu"
      },
      "outputs": [],
      "source": [
        "import requests\n",
        "from bs4 import BeautifulSoup\n",
        "import pandas as pd"
      ]
    },
    {
      "cell_type": "code",
      "execution_count": null,
      "metadata": {
        "id": "647xysrVW0Lx"
      },
      "outputs": [],
      "source": [
        "response = requests.get('http://www.enron-mail.com/email/skilling-j/inbox/')"
      ]
    },
    {
      "cell_type": "code",
      "execution_count": null,
      "metadata": {
        "id": "N-IhkbHDW0Ly"
      },
      "outputs": [],
      "source": [
        "soup = BeautifulSoup(response.content)"
      ]
    },
    {
      "cell_type": "code",
      "execution_count": null,
      "metadata": {
        "id": "FDh0AQPKW0Ly"
      },
      "outputs": [],
      "source": [
        "links_div = soup.body.find_all('div')[1]\n",
        "#links_div"
      ]
    },
    {
      "cell_type": "code",
      "execution_count": null,
      "metadata": {
        "id": "Y6rUS2D7W0Ly"
      },
      "outputs": [],
      "source": [
        "soup_links = links_div.find_all('a')[:100]\n",
        "#soup_links"
      ]
    },
    {
      "cell_type": "code",
      "execution_count": null,
      "metadata": {
        "id": "WfIgIuaTW0Lz"
      },
      "outputs": [],
      "source": [
        "links = ['http://www.enron-mail.com/email/skilling-j/inbox/'+item['href'] for item in soup_links]\n",
        "#links"
      ]
    },
    {
      "cell_type": "code",
      "execution_count": null,
      "metadata": {
        "id": "jtJD46AzW0Lz"
      },
      "outputs": [],
      "source": [
        "def get_full_email(url):\n",
        "    resp = requests.get(url)\n",
        "    soup2 = BeautifulSoup(resp.content)\n",
        "    headers = soup2.find_all('table')[1].find_all('td',{'class':'header'})\n",
        "    concat = \" \".join([item.text for item in headers])\n",
        "    body = soup2.find_all('table')[1].find_all('div',{'class':'ebody'})[0].text\n",
        "    message = concat + \" body: \" + body\n",
        "    return message"
      ]
    },
    {
      "cell_type": "code",
      "execution_count": null,
      "metadata": {
        "id": "2zPoHBAoW0L0"
      },
      "outputs": [],
      "source": [
        "all_messages = [get_full_email(link) for link in links]"
      ]
    },
    {
      "cell_type": "code",
      "execution_count": null,
      "metadata": {
        "id": "Mz1vBgnHW0L0",
        "outputId": "77509fb5-4e4b-4e11-f381-ae0775996bab"
      },
      "outputs": [],
      "source": [
        "enron = pd.DataFrame(all_messages,columns=['raw message'])\n",
        "enron"
      ]
    },
    {
      "cell_type": "code",
      "execution_count": null,
      "metadata": {
        "id": "xf15TLmnW0L1"
      },
      "outputs": [],
      "source": [
        "enron.to_csv('enron.csv', index=False)"
      ]
    },
    {
      "cell_type": "markdown",
      "metadata": {},
      "source": [
        "# References/Acknowledgments\n",
        "\n",
        "Thank you, David Henriques for this dataset example."
      ]
    }
  ],
  "metadata": {
    "colab": {
      "provenance": []
    },
    "kernelspec": {
      "display_name": "Python 3",
      "language": "python",
      "name": "python3"
    },
    "language_info": {
      "codemirror_mode": {
        "name": "ipython",
        "version": 3
      },
      "file_extension": ".py",
      "mimetype": "text/x-python",
      "name": "python",
      "nbconvert_exporter": "python",
      "pygments_lexer": "ipython3",
      "version": "3.9.13"
    }
  },
  "nbformat": 4,
  "nbformat_minor": 0
}
