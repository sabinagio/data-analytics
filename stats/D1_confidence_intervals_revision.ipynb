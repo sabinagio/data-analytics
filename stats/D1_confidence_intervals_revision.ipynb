{
 "cells": [
  {
   "cell_type": "markdown",
   "metadata": {},
   "source": [
    "**Table of contents**<a id='toc0_'></a>    \n",
    "- [Intro: Let's check schools in the Cali hoods.](#toc1_)    \n",
    "  - [Hypothesis setting: Houses are more expensive if they're close to a school.](#toc1_1_)    \n",
    "  - [Hypothesis testing](#toc1_2_)    \n",
    "    - [Getting distances between houses and the school](#toc1_2_1_)    \n",
    "- [Confidence intervals](#toc2_)    \n",
    "  - [Using the normal distribution](#toc2_1_)    \n",
    "  - [Using the T-distribution](#toc2_2_)    \n",
    "  - [💡 Do it yourself](#toc2_3_)    \n",
    "  - [Conclusions](#toc2_4_)    \n",
    "  - [Computing number of samples needed](#toc2_5_)    \n",
    "- [Resources](#toc3_)    \n",
    "- [References/Acknowledgements](#toc4_)    \n",
    "\n",
    "<!-- vscode-jupyter-toc-config\n",
    "\tnumbering=false\n",
    "\tanchor=true\n",
    "\tflat=false\n",
    "\tminLevel=1\n",
    "\tmaxLevel=6\n",
    "\t/vscode-jupyter-toc-config -->\n",
    "<!-- THIS CELL WILL BE REPLACED ON TOC UPDATE. DO NOT WRITE YOUR TEXT IN THIS CELL -->"
   ]
  },
  {
   "cell_type": "markdown",
   "metadata": {},
   "source": [
    "# <a id='toc1_'></a>[Intro: Let's check schools in the Cali hoods.](#toc0_)"
   ]
  },
  {
   "cell_type": "code",
   "execution_count": null,
   "metadata": {},
   "outputs": [],
   "source": [
    "import pandas as pd\n",
    "import numpy as np\n",
    "import scipy.stats as stats"
   ]
  },
  {
   "cell_type": "markdown",
   "metadata": {},
   "source": [
    "Today we will start off with the infamous [California housing dataset](https://www.kaggle.com/datasets/camnugent/california-housing-prices/):"
   ]
  },
  {
   "cell_type": "code",
   "execution_count": null,
   "metadata": {},
   "outputs": [],
   "source": [
    "houses = pd.read_csv('https://raw.githubusercontent.com/sabinagio/data-analytics/main/data/california_housing_census.csv')\n",
    "houses.head(2)"
   ]
  },
  {
   "cell_type": "code",
   "execution_count": null,
   "metadata": {},
   "outputs": [],
   "source": [
    "houses.shape"
   ]
  },
  {
   "cell_type": "markdown",
   "metadata": {},
   "source": [
    "There are two schools at these coordinates:"
   ]
  },
  {
   "cell_type": "code",
   "execution_count": null,
   "metadata": {},
   "outputs": [],
   "source": [
    "school1_latitude = 37.39\n",
    "school1_longitude = -122.13\n",
    "school2_latitude = 33.83\n",
    "school2_longitude = -118.48"
   ]
  },
  {
   "cell_type": "markdown",
   "metadata": {},
   "source": [
    "## <a id='toc1_1_'></a>[Hypothesis setting: Houses are more expensive if they're close to a school.](#toc0_)"
   ]
  },
  {
   "cell_type": "markdown",
   "metadata": {},
   "source": [
    "In data analyst terms, the `median_house_value` is higher if the distance to a school is lower."
   ]
  },
  {
   "cell_type": "markdown",
   "metadata": {},
   "source": [
    "## <a id='toc1_2_'></a>[Hypothesis testing](#toc0_)"
   ]
  },
  {
   "cell_type": "markdown",
   "metadata": {},
   "source": [
    "### <a id='toc1_2_1_'></a>[Getting distances between houses and the school](#toc0_)"
   ]
  },
  {
   "cell_type": "markdown",
   "metadata": {},
   "source": [
    "We  can assume that distances between two points p1 and p2 in latitude and longitude can be computed using the usual Euclidean distances:  \n",
    "\n",
    "$distance(x, y) = \\sqrt{((x_{longitude} - y_{longitude}) ^ 2 + (x_{latitude} - y_{latitude}) ^ 2)}  $  \n",
    "\n",
    "Let's assume that a point is \"close\" to another if the distance in latitude and longitude is < 0.5.\n",
    "\n",
    "**Note (for the nerds):** Using the Euclidian distance simply means that we assume the surface we're looking at (that of the neighbourhoods in our dataset) is flat. The reality is that, given Earth is a sphere, that's not **exactly** true, but it's a pretty good approximation if we look at a small enough surface. In our case, we can say that a county in the US is a small enough surface compared to the full surface of the Earth."
   ]
  },
  {
   "cell_type": "code",
   "execution_count": null,
   "metadata": {},
   "outputs": [],
   "source": [
    "# Create a function to calculate the Euclidian distance between the school coordinates and the neighbourhood coordinates\n",
    "def distance_school(latitude, longitude, school_lat, school_long):\n",
    "  return np.sqrt((latitude - school_lat) ** 2 + (longitude - school_long) ** 2)"
   ]
  },
  {
   "cell_type": "code",
   "execution_count": null,
   "metadata": {},
   "outputs": [],
   "source": [
    "# Apply function to dataframe for both schools\n",
    "houses['D_sch1'] = houses.apply(lambda row: distance_school(row['latitude'], row['longitude'], school1_latitude, school1_longitude), axis=1)\n",
    "houses['D_sch2'] = houses.apply(lambda row: distance_school(row['latitude'], row['longitude'], school2_latitude, school2_longitude), axis=1)"
   ]
  },
  {
   "cell_type": "code",
   "execution_count": null,
   "metadata": {},
   "outputs": [],
   "source": [
    "# Review dataframe\n",
    "houses.head()"
   ]
  },
  {
   "cell_type": "code",
   "execution_count": null,
   "metadata": {},
   "outputs": [],
   "source": [
    "# Choose the optimal school distance\n",
    "houses['distance_to_school'] = houses[['D_sch1', 'D_sch2']].apply(min, axis=1)\n",
    "houses.head()"
   ]
  },
  {
   "cell_type": "code",
   "execution_count": null,
   "metadata": {},
   "outputs": [],
   "source": [
    "# Create close_to_school feature based on optimal distance\n",
    "houses['close_to_school?'] = houses['distance_to_school'] < 0.5\n",
    "houses.head()"
   ]
  },
  {
   "cell_type": "code",
   "execution_count": null,
   "metadata": {},
   "outputs": [],
   "source": [
    "# What is the median house value per close_to_school?\n",
    "houses.groupby('close_to_school?').agg({'median_house_value': 'mean'})"
   ]
  },
  {
   "cell_type": "markdown",
   "metadata": {},
   "source": [
    "Final reveal: The median house value is indeed higher for neighbourhoods closer to a school."
   ]
  },
  {
   "cell_type": "markdown",
   "metadata": {},
   "source": [
    "# <a id='toc2_'></a>[Confidence intervals](#toc0_)"
   ]
  },
  {
   "cell_type": "markdown",
   "metadata": {},
   "source": [
    "![](https://media.giphy.com/media/1VV5mivAbIHSSiKXL9/giphy.gif)"
   ]
  },
  {
   "cell_type": "code",
   "execution_count": null,
   "metadata": {},
   "outputs": [],
   "source": [
    "# Separate the two samples\n",
    "houses_close = houses[houses['close_to_school?'] == True]\n",
    "houses_far = houses[houses['close_to_school?'] == False]"
   ]
  },
  {
   "cell_type": "code",
   "execution_count": null,
   "metadata": {},
   "outputs": [],
   "source": [
    "# Get a sample for the neighbourhoods with schools close and calculate its stats\n",
    "houses_close_sample = houses_close.sample(100)\n",
    "houses_close_mean = houses_close['median_house_value'].mean()\n",
    "houses_close_std = houses_close['median_house_value'].std()\n",
    "houses_close_n = 100"
   ]
  },
  {
   "cell_type": "code",
   "execution_count": null,
   "metadata": {},
   "outputs": [],
   "source": [
    "# Show the dataframe and its stats\n",
    "display(houses_close_sample.head())\n",
    "display(houses_close_sample.shape)\n",
    "display(houses_close_std)\n",
    "display(houses_close_mean)"
   ]
  },
  {
   "cell_type": "markdown",
   "metadata": {},
   "source": [
    "## <a id='toc2_1_'></a>[Using the normal distribution](#toc0_)"
   ]
  },
  {
   "cell_type": "markdown",
   "metadata": {},
   "source": [
    "![](https://imgs.search.brave.com/O4ZLy7nFQpsvh2kthg0EjUzjH5JMJKM3bUxMyeikDXY/rs:fit:860:0:0/g:ce/aHR0cDovL29wZW5i/b29rcy5saWJyYXJ5/LnVtYXNzLmVkdS9w/MTMyLWxhYi1tYW51/YWwvd3AtY29udGVu/dC91cGxvYWRzL3Np/dGVzLzI2LzIwMjAv/MDcvQmVsbC1jdXJ2/ZS5qcGc)"
   ]
  },
  {
   "cell_type": "code",
   "execution_count": null,
   "metadata": {},
   "outputs": [],
   "source": [
    "# Calculate the confidence interval manually\n",
    "print(\"left end: \", houses_close_mean - 2 * (houses_close_std / np.sqrt(houses_close_n)))\n",
    "print(\"right end: \", houses_close_mean + 2 * (houses_close_std / np.sqrt(houses_close_n)))"
   ]
  },
  {
   "cell_type": "code",
   "execution_count": null,
   "metadata": {},
   "outputs": [],
   "source": [
    "# Calculate the confidence interval using stats\n",
    "stats.norm.interval(0.955, loc=houses_close_mean, scale=houses_close_std/np.sqrt(houses_close_n))"
   ]
  },
  {
   "cell_type": "markdown",
   "metadata": {},
   "source": [
    "It's normal for results to be slightly different between the manual and stats method as there are extra approximations made by stats under the hood regarding the degrees of freedom of the sample."
   ]
  },
  {
   "cell_type": "markdown",
   "metadata": {},
   "source": [
    "What if we prefer 99.6% confidence?"
   ]
  },
  {
   "cell_type": "code",
   "execution_count": null,
   "metadata": {},
   "outputs": [],
   "source": [
    "# This is for you to answer during the class ;)"
   ]
  },
  {
   "cell_type": "markdown",
   "metadata": {},
   "source": [
    "What if we prefer 98% confidence? How can we get the number of standard deviations?"
   ]
  },
  {
   "cell_type": "code",
   "execution_count": null,
   "metadata": {},
   "outputs": [],
   "source": [
    "# Get # of standard deviations\n",
    "z = stats.norm.ppf(.99)   # Why .99 instead of .98?\n",
    "print(round(z, 2))"
   ]
  },
  {
   "cell_type": "code",
   "execution_count": null,
   "metadata": {},
   "outputs": [],
   "source": [
    "# Get the manual confidence interval\n",
    "print(\"left end: \", houses_close_mean - z * (houses_close_std / np.sqrt(houses_close_n)))\n",
    "print(\"right end: \", houses_close_mean + z * (houses_close_std / np.sqrt(houses_close_n)))"
   ]
  },
  {
   "cell_type": "code",
   "execution_count": null,
   "metadata": {},
   "outputs": [],
   "source": [
    "# Is the real mean in between our interval?\n",
    "houses_close['median_house_value'].mean()"
   ]
  },
  {
   "cell_type": "markdown",
   "metadata": {},
   "source": [
    "## <a id='toc2_2_'></a>[Using the T-distribution](#toc0_)"
   ]
  },
  {
   "cell_type": "markdown",
   "metadata": {},
   "source": [
    "Noticing that the normal distribution doesn't properly describe small sample sizes, the statistician William Gossett developed the t-distribution to adapt to this scenario. The t-distribution is calculated for each sample size so when a sample is smaller, it differs more from a normal distribution. Typically, the t-distribution has more extreme observations (fatter tails) than a normal distribution: "
   ]
  },
  {
   "cell_type": "markdown",
   "metadata": {},
   "source": [
    "![](https://www.investopedia.com/thmb/wejbVOkkG-O2IyRfbz-vErbEea8=/750x0/filters:no_upscale():max_bytes(150000):strip_icc():format(webp)/norm_vs_t2-1024x941-f3559a8fd4e947d49723541273a7d162.png)  \n",
    "(Source: [Investopedia](https://www.investopedia.com/terms/t/tdistribution.asp))"
   ]
  },
  {
   "cell_type": "markdown",
   "metadata": {},
   "source": [
    "> You should use the t-distribution table when working problems when the population standard deviation (σ) is not known and the sample size is small (n<30). "
   ]
  },
  {
   "cell_type": "markdown",
   "metadata": {},
   "source": [
    "**Fun fact:** The T distribution is usually called the Student's T distribution because he used the Student pseudonym. Legend has it it's because he was working for Guinness and the [brewery wouldn't let him share his real name](https://analyticalsciencejournals.onlinelibrary.wiley.com/doi/full/10.1002/cem.2713)."
   ]
  },
  {
   "cell_type": "markdown",
   "metadata": {},
   "source": [
    "What is the critical value for a t-distribution if I want my confidence to be 98%?"
   ]
  },
  {
   "cell_type": "code",
   "execution_count": null,
   "metadata": {},
   "outputs": [],
   "source": [
    "# Get the critical value\n",
    "t = stats.t.ppf(1 - ((1 - 0.98) / 2), 100 - 1)\n",
    "t"
   ]
  },
  {
   "cell_type": "code",
   "execution_count": null,
   "metadata": {},
   "outputs": [],
   "source": [
    "# Get the interval manually\n",
    "print(\"left end: \", houses_close_mean - t * (houses_close_std / np.sqrt(100)))\n",
    "print(\"right end: \", houses_close_mean + t * (houses_close_std / np.sqrt(100)))"
   ]
  },
  {
   "cell_type": "code",
   "execution_count": null,
   "metadata": {},
   "outputs": [],
   "source": [
    "# What was the interval previously?\n",
    "print(\"left end: \", houses_close_mean - z * (houses_close_std / np.sqrt(houses_close_n)))\n",
    "print(\"right end: \", houses_close_mean + z * (houses_close_std / np.sqrt(houses_close_n)))"
   ]
  },
  {
   "cell_type": "markdown",
   "metadata": {},
   "source": [
    "We notice there was an increase in the width of the interval when switching from the normal to the t distribution."
   ]
  },
  {
   "cell_type": "markdown",
   "metadata": {},
   "source": [
    "## <a id='toc2_3_'></a>[💡 Do it yourself](#toc0_)\n",
    "\n",
    "Now repeat this exercise for the set of houses away from schools. What do you see?"
   ]
  },
  {
   "cell_type": "code",
   "execution_count": null,
   "metadata": {},
   "outputs": [],
   "source": [
    "# Your code here"
   ]
  },
  {
   "cell_type": "markdown",
   "metadata": {},
   "source": [
    "## <a id='toc2_4_'></a>[Conclusions](#toc0_)"
   ]
  },
  {
   "cell_type": "markdown",
   "metadata": {},
   "source": [
    "Your conclusion here"
   ]
  },
  {
   "cell_type": "markdown",
   "metadata": {},
   "source": [
    "# <a id='toc3_'></a>[Resources](#toc0_)"
   ]
  },
  {
   "cell_type": "markdown",
   "metadata": {},
   "source": [
    "- [Why do we use the squared root of the sample size? (intuition)](https://www.drdawnwright.com/why-divide-by-the-square-root-of-n/)\n",
    "- [How to get the critical value for a chosen confidence level?](https://www.khanacademy.org/math/ap-statistics/xfb5d8e68:inference-categorical-proportions/one-sample-z-interval-proportion/v/critical-value-for-a-given-confidence-level) - 6 min"
   ]
  },
  {
   "cell_type": "markdown",
   "metadata": {},
   "source": [
    "# <a id='toc4_'></a>[References/Acknowledgements](#toc0_)"
   ]
  },
  {
   "cell_type": "markdown",
   "metadata": {},
   "source": [
    "Thank you, David Henriques for the awesome structure and content of your lessons :) "
   ]
  }
 ],
 "metadata": {
  "kernelspec": {
   "display_name": "base",
   "language": "python",
   "name": "python3"
  },
  "language_info": {
   "codemirror_mode": {
    "name": "ipython",
    "version": 3
   },
   "file_extension": ".py",
   "mimetype": "text/x-python",
   "name": "python",
   "nbconvert_exporter": "python",
   "pygments_lexer": "ipython3",
   "version": "3.9.13"
  },
  "orig_nbformat": 4
 },
 "nbformat": 4,
 "nbformat_minor": 2
}
