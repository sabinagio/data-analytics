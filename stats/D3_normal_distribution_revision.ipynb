{
 "cells": [
  {
   "cell_type": "markdown",
   "metadata": {},
   "source": [
    "**Table of contents**<a id='toc0_'></a>    \n",
    "- [Probability](#toc1_)    \n",
    "  - [Key concepts](#toc1_1_)    \n",
    "    - [Sample space](#toc1_1_1_)    \n",
    "    - [Events](#toc1_1_2_)    \n",
    "    - [Let's get some numbers!](#toc1_1_3_)    \n",
    "- [Normal distribution](#toc2_)    \n",
    "  - [Height: A binomial distribution](#toc2_1_)    \n",
    "- [**Key Takeaway: When we look at data distribution (i.e. the sample space), we are basically looking at the probability of different events happening**](#toc3_)    \n",
    "- [Extra: Resources](#toc4_)    \n",
    "\n",
    "<!-- vscode-jupyter-toc-config\n",
    "\tnumbering=false\n",
    "\tanchor=true\n",
    "\tflat=false\n",
    "\tminLevel=1\n",
    "\tmaxLevel=6\n",
    "\t/vscode-jupyter-toc-config -->\n",
    "<!-- THIS CELL WILL BE REPLACED ON TOC UPDATE. DO NOT WRITE YOUR TEXT IN THIS CELL -->"
   ]
  },
  {
   "cell_type": "markdown",
   "metadata": {},
   "source": [
    "# <a id='toc1_'></a>[Probability](#toc0_)"
   ]
  },
  {
   "cell_type": "markdown",
   "metadata": {},
   "source": [
    "> Probability is the branch of mathematics concerning numerical descriptions of **how likely an event is to occur**, or **how likely it is that a proposition is true**. The probability of an event is a number between 0 and 1, where, roughly speaking, 0 indicates impossibility of the event and 1 indicates certainty. ([Wikipedia](https://en.wikipedia.org/wiki/Probability))"
   ]
  },
  {
   "cell_type": "markdown",
   "metadata": {},
   "source": [
    "## <a id='toc1_1_'></a>[Key concepts](#toc0_)\n",
    "\n",
    "> **Sample space** = the set of all possible outcomes or results of an experiment ([Wikipedia](https://en.wikipedia.org/wiki/Sample_space))\n",
    "\n",
    "**Event** - a subset of the sample space, i.e. one/more possible outcomes of an experiment"
   ]
  },
  {
   "cell_type": "markdown",
   "metadata": {},
   "source": [
    "### <a id='toc1_1_1_'></a>[Sample space](#toc0_)"
   ]
  },
  {
   "cell_type": "markdown",
   "metadata": {},
   "source": [
    "What is the sample space of an experiment involving coin tosses?\n",
    "\n",
    "![Coin](https://imgs.search.brave.com/M8qJHJ7NOlyVk1yfwVkmXQVPBaiCVrkeRnTQOIwVHvo/rs:fit:860:0:0/g:ce/aHR0cHM6Ly93d3cu/dGhlc3BydWNlY3Jh/ZnRzLmNvbS90aG1i/L0ltV25lVkgyY2hE/T2JUc3FtLXJNRlhz/aUY5OD0vMTUwMHgw/L2ZpbHRlcnM6bm9f/dXBzY2FsZSgpOm1h/eF9ieXRlcygxNTAw/MDApOnN0cmlwX2lj/YygpL1VTMDA1MC0y/MDE0LVctS2VubmVk/eS1IYWxmLURvbGxh/ci1SZXZlcnNlLVBy/b29mLVNpbHZlci01/NmExNzhkNjNkZjc4/Y2Y3NzI2YWZkMzcu/anBn)"
   ]
  },
  {
   "cell_type": "markdown",
   "metadata": {},
   "source": [
    "What about dice throwing?\n",
    "\n",
    "![Dice](https://imgs.search.brave.com/3bZx1ow2ARu-HK-gaYQg2Rs65e3mlyCDCTwNHw48o64/rs:fit:860:0:0/g:ce/aHR0cHM6Ly90My5m/dGNkbi5uZXQvanBn/LzAzLzk4LzEyLzU2/LzM2MF9GXzM5ODEy/NTY5Ml9IUk1OaVRX/OURGWElrRW9ob3pG/OEJCWGVwYXZYTGpx/VC5qcGc)"
   ]
  },
  {
   "cell_type": "markdown",
   "metadata": {},
   "source": [
    "What if we had 2 dices instead?\n",
    "\n",
    "![Dice](https://imgs.search.brave.com/3bZx1ow2ARu-HK-gaYQg2Rs65e3mlyCDCTwNHw48o64/rs:fit:860:0:0/g:ce/aHR0cHM6Ly90My5m/dGNkbi5uZXQvanBn/LzAzLzk4LzEyLzU2/LzM2MF9GXzM5ODEy/NTY5Ml9IUk1OaVRX/OURGWElrRW9ob3pG/OEJCWGVwYXZYTGpx/VC5qcGc) ![Dice](https://imgs.search.brave.com/3bZx1ow2ARu-HK-gaYQg2Rs65e3mlyCDCTwNHw48o64/rs:fit:860:0:0/g:ce/aHR0cHM6Ly90My5m/dGNkbi5uZXQvanBn/LzAzLzk4LzEyLzU2/LzM2MF9GXzM5ODEy/NTY5Ml9IUk1OaVRX/OURGWElrRW9ob3pG/OEJCWGVwYXZYTGpx/VC5qcGc)"
   ]
  },
  {
   "cell_type": "markdown",
   "metadata": {},
   "source": [
    "### <a id='toc1_1_2_'></a>[Events](#toc0_)"
   ]
  },
  {
   "cell_type": "markdown",
   "metadata": {},
   "source": [
    "What are the events that can occur for tossing a coin?"
   ]
  },
  {
   "cell_type": "markdown",
   "metadata": {},
   "source": [
    "What about throwing a dice?"
   ]
  },
  {
   "cell_type": "markdown",
   "metadata": {},
   "source": [
    "What about throwing 2 dice?"
   ]
  },
  {
   "cell_type": "markdown",
   "metadata": {},
   "source": [
    "### <a id='toc1_1_3_'></a>[Let's get some numbers!](#toc0_)"
   ]
  },
  {
   "cell_type": "markdown",
   "metadata": {},
   "source": [
    "**Event:** Landing heads when tossing a coin once?  \n",
    "**Probability:** ?"
   ]
  },
  {
   "cell_type": "code",
   "execution_count": null,
   "metadata": {},
   "outputs": [],
   "source": [
    "possibilities = ['heads', 'tails']\n",
    "event = 'heads'"
   ]
  },
  {
   "cell_type": "markdown",
   "metadata": {},
   "source": [
    "**Assumption:** There is no bias, i.e. getting head or tails is just as likely.  \n",
    "**Chance:** 1 in 2"
   ]
  },
  {
   "cell_type": "code",
   "execution_count": null,
   "metadata": {},
   "outputs": [],
   "source": [
    "1/2 * 100"
   ]
  },
  {
   "cell_type": "markdown",
   "metadata": {},
   "source": [
    "**Event:** Landing an even number when throwing a dice?  \n",
    "**Probability:** ?"
   ]
  },
  {
   "cell_type": "code",
   "execution_count": null,
   "metadata": {},
   "outputs": [],
   "source": [
    "possibilities = [1, 2, 3, 4, 5, 6]\n",
    "event = [2, 4, 6]"
   ]
  },
  {
   "cell_type": "markdown",
   "metadata": {},
   "source": [
    "**Assumption:** There is no bias, i.e. getting any of the numbers is just as likely.  \n",
    "**Chance:** 3 in 6"
   ]
  },
  {
   "cell_type": "code",
   "execution_count": null,
   "metadata": {},
   "outputs": [],
   "source": [
    "3/6 * 100"
   ]
  },
  {
   "cell_type": "markdown",
   "metadata": {},
   "source": [
    "**Event:** Landing two even numbers when throwing two dices?  \n",
    "**Probability:** ?"
   ]
  },
  {
   "cell_type": "code",
   "execution_count": null,
   "metadata": {},
   "outputs": [],
   "source": [
    "from itertools import product"
   ]
  },
  {
   "cell_type": "code",
   "execution_count": null,
   "metadata": {},
   "outputs": [],
   "source": [
    "possibilities = list(product([1, 2, 3, 4, 5, 6], [1, 2, 3, 4, 5, 6]))\n",
    "print(possibilities)\n",
    "print('There are', len(possibilities), 'possibilities')"
   ]
  },
  {
   "cell_type": "code",
   "execution_count": null,
   "metadata": {},
   "outputs": [],
   "source": [
    "event = [(2, 2), (2, 4), (2, 6), (4, 2), (4, 4), (4, 6), (6, 2), (6, 4), (6, 6)]\n",
    "print('There are', len(event), 'event possibilities')"
   ]
  },
  {
   "cell_type": "code",
   "execution_count": null,
   "metadata": {},
   "outputs": [],
   "source": [
    "chance = 0\n",
    "for combo in event:\n",
    "    chance += possibilities.count(combo)\n",
    "    \n",
    "print('There is a', chance, 'in', len(possibilities), 'chance that the dices will show 2 even numbers')"
   ]
  },
  {
   "cell_type": "markdown",
   "metadata": {},
   "source": [
    "**Assumptions:** \n",
    "- There is no bias, i.e. getting any of the numbers is just as likely.  \n",
    "- The first roll dice doesn't influence the second roll dice, i.e. they are independent of each other.  \n",
    "\n",
    "**Chance:** 9 in 36"
   ]
  },
  {
   "cell_type": "code",
   "execution_count": null,
   "metadata": {},
   "outputs": [],
   "source": [
    "9/36 * 100"
   ]
  },
  {
   "cell_type": "markdown",
   "metadata": {},
   "source": [
    "# <a id='toc2_'></a>[Normal distribution](#toc0_)"
   ]
  },
  {
   "cell_type": "markdown",
   "metadata": {},
   "source": [
    "We've already covered the normal distribution in terms of shape:\n",
    "\n",
    "![image.png](https://imgs.search.brave.com/890nJAyetvjXKqV3Dcfu4-Pj-BUk56L5MSP-zc5wArg/rs:fit:860:0:0/g:ce/aHR0cHM6Ly90NC5m/dGNkbi5uZXQvanBn/LzA1LzY4Lzk1LzU5/LzM2MF9GXzU2ODk1/NTk2MV9Pc0dkYmpo/MXFQa1N5czlsVU1z/bTVQa3VzTTdGR1B2/SC5qcGc)"
   ]
  },
  {
   "cell_type": "markdown",
   "metadata": {},
   "source": [
    "But we haven't looked at any examples of a normal distribution and what drives it! "
   ]
  },
  {
   "cell_type": "markdown",
   "metadata": {},
   "source": [
    "## <a id='toc2_1_'></a>[Height: A bimodal normal distribution](#toc0_)"
   ]
  },
  {
   "cell_type": "markdown",
   "metadata": {},
   "source": [
    "For height, we don't have exactly a normal distribution but a bimodal normal distribution, meaning that we have 2 normal distributions superimposed on each other, in this case representing the sex of individuals."
   ]
  },
  {
   "cell_type": "markdown",
   "metadata": {},
   "source": [
    "![](https://imgs.search.brave.com/IaGCI0_UBGutcGU-GpfLRhtrKJUeN7Gsnvs9tU9Ihso/rs:fit:860:0:0/g:ce/aHR0cHM6Ly90YWxs/LmxpZmUvd3AtY29u/dGVudC91cGxvYWRz/LzIwMTYvMDEvTmV3/LWhlaWdodC1kaXN0/cmlidXRpb24td2l0/aC1sZWdlbmQuanBn)"
   ]
  },
  {
   "cell_type": "markdown",
   "metadata": {},
   "source": [
    "**Event:** Being 175cm tall when you're a woman/man?  \n",
    "**Probability (Likelihood if we talk about a single individual):** We can read it from the chart!"
   ]
  },
  {
   "cell_type": "markdown",
   "metadata": {},
   "source": [
    "But why does height fall under a normal distribution? "
   ]
  },
  {
   "cell_type": "markdown",
   "metadata": {},
   "source": [
    "It's estimated that height is [80% determined by genetics](https://medlineplus.gov/genetics/understanding/traits/height/) and there are **more than 700 genes** involved in determining height!\n",
    "\n",
    "In a very simplified manner, each gene will choose between two options: make someone taller or shorter. Then, all the 700 decisions are added together to determine the height of the person."
   ]
  },
  {
   "cell_type": "markdown",
   "metadata": {},
   "source": [
    "**Assumptions:**\n",
    "- There is no bias, i.e. each gene contributes the same amount to height (not necessarily true, but an approximation)  \n",
    "- The decision of a gene doesn't affect the decision of another gene (not necessarily true, but an approximation)\n",
    "\n",
    "**Chance:** Let's look at a [Galton Board](https://www.compadre.org/osp/EJSS/3965/109.htm) to get an intuition for how 700 independent decisions would look like!"
   ]
  },
  {
   "cell_type": "markdown",
   "metadata": {},
   "source": [
    "# <a id='toc3_'></a>[**Key Takeaway: When we look at data distribution (i.e. the sample space), we are basically looking at the probability of different events happening**](#toc0_)"
   ]
  },
  {
   "cell_type": "markdown",
   "metadata": {},
   "source": [
    "# <a id='toc4_'></a>[Extra: Resources](#toc0_)\n",
    "\n",
    "If you're interested in learning more about the awesome world of statistics & probabilities, below are some great resources:\n",
    "\n",
    "**From the ex-Chief Decision Scientist @Google:**\n",
    "- [Bayesian vs Frequentist Probability](https://www.youtube.com/watch?v=GEFxFVESQXc) - basic intuition\n",
    "- [Bayesian vs Frequentist Probability](https://towardsdatascience.com/statistics-are-you-bayesian-or-frequentist-4943f953f21b) - deep dive\n",
    "\n",
    "**StatQuest:**\n",
    "- [Expected Values](https://www.youtube.com/watch?v=KLs_7b7SKi4)\n",
    "- [Conditional Probabilities](https://www.youtube.com/watch?v=_IgyaD7vOOA)\n",
    "- [Bayes Theorem](https://www.youtube.com/watch?v=9wCnvr7Xw4E)"
   ]
  }
 ],
 "metadata": {
  "kernelspec": {
   "display_name": "base",
   "language": "python",
   "name": "python3"
  },
  "language_info": {
   "codemirror_mode": {
    "name": "ipython",
    "version": 3
   },
   "file_extension": ".py",
   "mimetype": "text/x-python",
   "name": "python",
   "nbconvert_exporter": "python",
   "pygments_lexer": "ipython3",
   "version": "3.9.13"
  },
  "orig_nbformat": 4
 },
 "nbformat": 4,
 "nbformat_minor": 2
}
