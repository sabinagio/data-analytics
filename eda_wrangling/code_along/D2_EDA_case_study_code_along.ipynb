{
 "cells": [
  {
   "cell_type": "markdown",
   "metadata": {},
   "source": [
    "> # Data Analysis is better when it's hypothesis driven\n",
    "\n",
    "> ## But how do you generate hypotheses with exploratory data analysis and visualization?"
   ]
  },
  {
   "cell_type": "markdown",
   "metadata": {},
   "source": [
    "**Table of contents**<a id='toc0_'></a>    \n",
    "- [EDA - Case study](#toc1_)    \n",
    "  - [Business Context](#toc1_1_)    \n",
    "    - [Markets for dummies](#toc1_1_1_)    \n",
    "    - [Our business](#toc1_1_2_)    \n",
    "  - [Data exploration](#toc1_2_)    \n",
    "    - [How much data do we have?](#toc1_2_1_)    \n",
    "    - [What time frame does the dataset span?](#toc1_2_2_)    \n",
    "    - [How is our data segmented?](#toc1_2_3_)    \n",
    "    - [Do each of the loan types correspond to a specific type of client?](#toc1_2_4_)    \n",
    "    - [How does each of our segment look like?](#toc1_2_5_)    \n",
    "    - [Is `small_corp_variable` a segment worth exploring?](#toc1_2_6_)    \n",
    "    - [Why is the `small_corp_variable` segment so different from the rest?](#toc1_2_7_)    \n",
    "    - [How do we pick the high-value customers?](#toc1_2_8_)    \n",
    "    - [Why do we have such high variance at low volumes?](#toc1_2_9_)    \n",
    "    - [What changed over time?](#toc1_2_10_)    \n",
    "\n",
    "<!-- vscode-jupyter-toc-config\n",
    "\tnumbering=false\n",
    "\tanchor=true\n",
    "\tflat=false\n",
    "\tminLevel=1\n",
    "\tmaxLevel=6\n",
    "\t/vscode-jupyter-toc-config -->\n",
    "<!-- THIS CELL WILL BE REPLACED ON TOC UPDATE. DO NOT WRITE YOUR TEXT IN THIS CELL -->"
   ]
  },
  {
   "cell_type": "markdown",
   "metadata": {},
   "source": [
    "# <a id='toc1_'></a>[EDA - Case study](#toc0_)"
   ]
  },
  {
   "cell_type": "markdown",
   "metadata": {},
   "source": [
    "Before diving into the data, some of the best people to help with hypothesis setting are the people who run the business or work with the data every day."
   ]
  },
  {
   "cell_type": "code",
   "execution_count": null,
   "metadata": {},
   "outputs": [],
   "source": [
    "# Import them libraries\n",
    "\n",
    "pd.options.display.float_format = '{:,.2f}'.format\n",
    "\n"
   ]
  },
  {
   "cell_type": "markdown",
   "metadata": {},
   "source": [
    "## <a id='toc1_1_'></a>[Business Context](#toc0_)"
   ]
  },
  {
   "cell_type": "markdown",
   "metadata": {},
   "source": [
    "Today we're back into finance world again. Except now we work for a bank that's trying to analyse the loans which are most profitable. Why?"
   ]
  },
  {
   "cell_type": "markdown",
   "metadata": {},
   "source": [
    "### <a id='toc1_1_1_'></a>[Markets for dummies](#toc0_)\n",
    "\n",
    "> 🐂 **Bull market** = a market that is on the rise and where the conditions of the economy are generally favorable.  \n",
    "\n",
    "In bull markets, businesses are typically driven by growth so then the talk is mostly focused on increasing revenue.\n",
    "\n",
    "> 🐻 **Bear market** = exists in an economy that is receding and where most stocks are declining in value.  \n",
    "\n",
    "In bear markets, cash is tight so businesses become more driven by profitability."
   ]
  },
  {
   "cell_type": "markdown",
   "metadata": {},
   "source": [
    "### <a id='toc1_1_2_'></a>[Our business](#toc0_)\n",
    "\n",
    "In the case of this bank, we're operating in a bear market where cash is tight so the bank wants to maximize its profitability. This is why they came to a bunch of data analysts to tell them which companies they should give out loans for."
   ]
  },
  {
   "cell_type": "code",
   "execution_count": null,
   "metadata": {},
   "outputs": [],
   "source": [
    "financials = pd.read_csv('https://raw.githubusercontent.com/sabinagio/data-analytics/main/data/financials_loans.csv')\n"
   ]
  },
  {
   "cell_type": "markdown",
   "metadata": {},
   "source": [
    "The variables:  \n",
    "- `client_t` - client type\n",
    "- `loan_t` - loan type\n",
    "- `Volume` - loan amount\n",
    "- `Maturity` - days to pay the loan\n",
    "- `fixed component` -  the amount of money made from fixed interest per dollar. \n",
    "- `variable component` -  the amount of money made from variable interest per dollar. \n",
    "- `fixed costs` - the overall processing fees of the bank.\n",
    "- `Unitary profitability` - the amount of money made per dollar. This can come from loan interest rates or bank fees."
   ]
  },
  {
   "cell_type": "markdown",
   "metadata": {},
   "source": [
    "## <a id='toc1_2_'></a>[Data exploration](#toc0_)"
   ]
  },
  {
   "cell_type": "markdown",
   "metadata": {},
   "source": [
    "### <a id='toc1_2_1_'></a>[How much data do we have?](#toc0_)"
   ]
  },
  {
   "cell_type": "code",
   "execution_count": null,
   "metadata": {},
   "outputs": [],
   "source": [
    "# Check shape"
   ]
  },
  {
   "cell_type": "markdown",
   "metadata": {},
   "source": [
    "The bank gave out 266K loans in the time period we have available. Does this also mean that the bank had 266K clients?"
   ]
  },
  {
   "cell_type": "code",
   "execution_count": null,
   "metadata": {},
   "outputs": [],
   "source": [
    "# We can of course check this"
   ]
  },
  {
   "cell_type": "markdown",
   "metadata": {},
   "source": [
    "Almost. There are a few clients that seem to have taken more than one loan."
   ]
  },
  {
   "cell_type": "markdown",
   "metadata": {},
   "source": [
    "### <a id='toc1_2_2_'></a>[What time frame does the dataset span?](#toc0_)"
   ]
  },
  {
   "cell_type": "code",
   "execution_count": null,
   "metadata": {},
   "outputs": [],
   "source": []
  },
  {
   "cell_type": "markdown",
   "metadata": {},
   "source": [
    "Seems the time covered by the dataset is 2012-2018 but we will double-check this later."
   ]
  },
  {
   "cell_type": "markdown",
   "metadata": {},
   "source": [
    "### <a id='toc1_2_3_'></a>[How is our data segmented?](#toc0_)"
   ]
  },
  {
   "cell_type": "code",
   "execution_count": null,
   "metadata": {},
   "outputs": [],
   "source": [
    "# Review unique values in categorical columns"
   ]
  },
  {
   "cell_type": "markdown",
   "metadata": {},
   "source": [
    "The bank has 2 type of clients and loans, both evenly distributed. In reality, it might happen that only one of these classes is representative of the dataset and in that case we would focus on that particular class before analyzing less common classes."
   ]
  },
  {
   "cell_type": "markdown",
   "metadata": {},
   "source": [
    "### <a id='toc1_2_4_'></a>[Do each of the loan types correspond to a specific type of client?](#toc0_)"
   ]
  },
  {
   "cell_type": "code",
   "execution_count": null,
   "metadata": {},
   "outputs": [],
   "source": []
  },
  {
   "cell_type": "markdown",
   "metadata": {},
   "source": [
    "It seems not, meaning each type of client (individual, corporation) have access to either a fixed or variable interest loan. This also means that our data is split into 4 groups, which means we can figure out the profitability for each of these subsets to provide advice to the bank.\n",
    "\n",
    "**Note:** This is very, very simplified. In reality you'd have hundreds of subgroups to look at to figure out which ones drive most of the profitability. A rule of thumb would be to figure out which segments represent most of your data (>90% of your data or money depending on the segments)."
   ]
  },
  {
   "cell_type": "code",
   "execution_count": null,
   "metadata": {},
   "outputs": [],
   "source": [
    "# We'll create a new column for this segmentation"
   ]
  },
  {
   "cell_type": "markdown",
   "metadata": {},
   "source": [
    "### <a id='toc1_2_5_'></a>[How does each of our segment look like?](#toc0_)"
   ]
  },
  {
   "cell_type": "code",
   "execution_count": null,
   "metadata": {},
   "outputs": [],
   "source": [
    "# I'm most interested in profitability, so then that's the variable I'll look at first"
   ]
  },
  {
   "cell_type": "markdown",
   "metadata": {},
   "source": [
    "Observations:\n",
    "- There are clear differences in `Unitary profitability` among my segments so the segment does influence the profitability\n",
    "- The variation in profitability for individuals is much smaller compared to that of corporations. This makes sense, as you'd expect individuals to have less negotiating power compared to corporations.\n",
    "- The segment with small corporation clients that take out variable-interest loans is completely different from the others."
   ]
  },
  {
   "cell_type": "markdown",
   "metadata": {},
   "source": [
    "### <a id='toc1_2_6_'></a>[Is `small_corp_variable` a segment worth exploring?](#toc0_)"
   ]
  },
  {
   "cell_type": "code",
   "execution_count": null,
   "metadata": {},
   "outputs": [],
   "source": [
    "# But first... is it worth exploring?"
   ]
  },
  {
   "cell_type": "markdown",
   "metadata": {},
   "source": [
    "Definitely. I have 34 billion in this type of loans. If this segment only had 70K in loans, it would not be as important."
   ]
  },
  {
   "cell_type": "markdown",
   "metadata": {},
   "source": [
    "### <a id='toc1_2_7_'></a>[Why is the `small_corp_variable` segment so different from the rest?](#toc0_)"
   ]
  },
  {
   "cell_type": "code",
   "execution_count": null,
   "metadata": {},
   "outputs": [],
   "source": [
    "# Get small_corp_var segment"
   ]
  },
  {
   "cell_type": "code",
   "execution_count": null,
   "metadata": {},
   "outputs": [],
   "source": [
    "# Check profitability distribution"
   ]
  },
  {
   "cell_type": "markdown",
   "metadata": {},
   "source": [
    "To figure out which variable potentially drives profitability, we can check correlations among variables:"
   ]
  },
  {
   "cell_type": "code",
   "execution_count": null,
   "metadata": {},
   "outputs": [],
   "source": [
    "# Non-linear correlation"
   ]
  },
  {
   "cell_type": "markdown",
   "metadata": {},
   "source": [
    "We see there's a high correlation between `Unitary profitability` and `variable component` and `Volume`. We can confirm this using a pairplot:"
   ]
  },
  {
   "cell_type": "code",
   "execution_count": null,
   "metadata": {},
   "outputs": [],
   "source": [
    "# Visual correlation"
   ]
  },
  {
   "cell_type": "markdown",
   "metadata": {},
   "source": [
    "Observations:\n",
    "- Anything that looks like a rectangle/blob => no correlation\n",
    "- When you have rectangles, you typically deal with 2 uniform distributions\n",
    "- When you have circles, you typically deal with 2 normal distributions\n",
    "- We can notice the high correlation between `Unit profitability` and `Volume` and `variable component` also! We can also see that `Volume` and `variable component` themselves are correlated"
   ]
  },
  {
   "cell_type": "code",
   "execution_count": null,
   "metadata": {},
   "outputs": [],
   "source": [
    "# Vol - profitability correlation"
   ]
  },
  {
   "cell_type": "code",
   "execution_count": null,
   "metadata": {},
   "outputs": [],
   "source": [
    "# This looks a bit cluttered so we will add some transparency"
   ]
  },
  {
   "cell_type": "markdown",
   "metadata": {},
   "source": [
    "Observations:\n",
    "- As the loan amount increases we notice the unitary profitability decreases. This makes sense for two reasons:\n",
    "    - We expect a client borrowing a higher amount of money will negotiate a lower interest rate.\n",
    "    - The fixed fees (processing, credit score rating, etc.) are a larger proportion of smaller loans compared to larger loans.\n",
    "- We do have a couple of clustered points that are interesting. **Which one should we spend most of our time on?**\n",
    "- The variance at lower volumes is much higher when comparing to lower volumes, potentially due to the fixed costs affecting the profitability at small loan amounts."
   ]
  },
  {
   "cell_type": "markdown",
   "metadata": {},
   "source": [
    "### <a id='toc1_2_8_'></a>[How do we pick the high-value customers?](#toc0_)"
   ]
  },
  {
   "cell_type": "code",
   "execution_count": null,
   "metadata": {},
   "outputs": [],
   "source": []
  },
  {
   "cell_type": "markdown",
   "metadata": {},
   "source": [
    "### <a id='toc1_2_9_'></a>[Why do we have such high variance at low volumes?](#toc0_)"
   ]
  },
  {
   "cell_type": "markdown",
   "metadata": {},
   "source": [
    "We will have a look at loans with very low and very high profitability but the same volume:"
   ]
  },
  {
   "cell_type": "code",
   "execution_count": null,
   "metadata": {},
   "outputs": [],
   "source": [
    "print('High profitability small loans')\n",
    "\n",
    "print('Low profitability small loans')\n"
   ]
  },
  {
   "cell_type": "markdown",
   "metadata": {},
   "source": [
    "What is different between these 2 sets of loans?"
   ]
  },
  {
   "cell_type": "markdown",
   "metadata": {},
   "source": [
    "### <a id='toc1_2_10_'></a>[What changed over time?](#toc0_)"
   ]
  },
  {
   "cell_type": "code",
   "execution_count": null,
   "metadata": {},
   "outputs": [],
   "source": [
    "# First off, we need to change the dtype"
   ]
  },
  {
   "cell_type": "code",
   "execution_count": null,
   "metadata": {},
   "outputs": [],
   "source": [
    "# Get the mean profitability over time"
   ]
  },
  {
   "cell_type": "code",
   "execution_count": null,
   "metadata": {},
   "outputs": [],
   "source": [
    "# plot data"
   ]
  },
  {
   "cell_type": "markdown",
   "metadata": {},
   "source": [
    "Observations:\n",
    "- Loans are typically given out at the beginning of the year\n",
    "- The profitability drastically increased in 2016\n",
    "\n",
    "The reason for this is that in 2016 the bank acquired another bank and started using their CRM system which automatically increased the fixed costs every year based on inflation and other factors. Previously, the bank hadn't done this so many clients kept having their loan with lower fixed costs than needed."
   ]
  }
 ],
 "metadata": {
  "kernelspec": {
   "display_name": "base",
   "language": "python",
   "name": "python3"
  },
  "language_info": {
   "codemirror_mode": {
    "name": "ipython",
    "version": 3
   },
   "file_extension": ".py",
   "mimetype": "text/x-python",
   "name": "python",
   "nbconvert_exporter": "python",
   "pygments_lexer": "ipython3",
   "version": "3.9.13"
  },
  "orig_nbformat": 4
 },
 "nbformat": 4,
 "nbformat_minor": 2
}
